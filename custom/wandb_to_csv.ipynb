{
 "cells": [
  {
   "cell_type": "code",
   "execution_count": 168,
   "outputs": [],
   "source": [
    "import re"
   ],
   "metadata": {
    "collapsed": false
   }
  },
  {
   "cell_type": "code",
   "execution_count": 169,
   "outputs": [
    {
     "name": "stdout",
     "output_type": "stream",
     "text": [
      "(68, 3)\n"
     ]
    },
    {
     "data": {
      "text/plain": "                                             summary  \\\n0  {'best_Client #38/val_correct': 173, 'best_Cli...   \n1  {'best_Unseen Client #4/test_correct': 3, 'bes...   \n2  {'best_Unseen Client #28/test_avg_loss': 0.203...   \n3  {'best_Client #2/val_correct': 2, 'Results_fai...   \n4  {'best_Client #44/test_total': 45, 'best_Clien...   \n\n                                              config  \\\n0  {'lr': 0.05, 'hpo': {'pbt': {'max_stage': 5, '...   \n1  {'lr': 0.1, 'hpo': {'pbt': {'max_stage': 5, 'p...   \n2  {'lr': 0.01, 'hpo': {'pbt': {'max_stage': 5, '...   \n3  {'lr': 0.1, 'hpo': {'pbt': {'max_stage': 5, 'p...   \n4  {'lr': 0.05, 'hpo': {'pbt': {'max_stage': 5, '...   \n\n                                                name  \n0  sst2--fedavg--n_epochs6--batch_size32--lr0.05-...  \n1  sst2--fedavg--n_epochs3--batch_size32--lr0.1--...  \n2  sst2--fedavg--n_epochs6--batch_size16--lr0.01-...  \n3  sst2--fedavg--n_epochs3--batch_size16--lr0.1--...  \n4  sst2--fedavg--n_epochs6--batch_size64--lr0.05-...  ",
      "text/html": "<div>\n<style scoped>\n    .dataframe tbody tr th:only-of-type {\n        vertical-align: middle;\n    }\n\n    .dataframe tbody tr th {\n        vertical-align: top;\n    }\n\n    .dataframe thead th {\n        text-align: right;\n    }\n</style>\n<table border=\"1\" class=\"dataframe\">\n  <thead>\n    <tr style=\"text-align: right;\">\n      <th></th>\n      <th>summary</th>\n      <th>config</th>\n      <th>name</th>\n    </tr>\n  </thead>\n  <tbody>\n    <tr>\n      <th>0</th>\n      <td>{'best_Client #38/val_correct': 173, 'best_Cli...</td>\n      <td>{'lr': 0.05, 'hpo': {'pbt': {'max_stage': 5, '...</td>\n      <td>sst2--fedavg--n_epochs6--batch_size32--lr0.05-...</td>\n    </tr>\n    <tr>\n      <th>1</th>\n      <td>{'best_Unseen Client #4/test_correct': 3, 'bes...</td>\n      <td>{'lr': 0.1, 'hpo': {'pbt': {'max_stage': 5, 'p...</td>\n      <td>sst2--fedavg--n_epochs3--batch_size32--lr0.1--...</td>\n    </tr>\n    <tr>\n      <th>2</th>\n      <td>{'best_Unseen Client #28/test_avg_loss': 0.203...</td>\n      <td>{'lr': 0.01, 'hpo': {'pbt': {'max_stage': 5, '...</td>\n      <td>sst2--fedavg--n_epochs6--batch_size16--lr0.01-...</td>\n    </tr>\n    <tr>\n      <th>3</th>\n      <td>{'best_Client #2/val_correct': 2, 'Results_fai...</td>\n      <td>{'lr': 0.1, 'hpo': {'pbt': {'max_stage': 5, 'p...</td>\n      <td>sst2--fedavg--n_epochs3--batch_size16--lr0.1--...</td>\n    </tr>\n    <tr>\n      <th>4</th>\n      <td>{'best_Client #44/test_total': 45, 'best_Clien...</td>\n      <td>{'lr': 0.05, 'hpo': {'pbt': {'max_stage': 5, '...</td>\n      <td>sst2--fedavg--n_epochs6--batch_size64--lr0.05-...</td>\n    </tr>\n  </tbody>\n</table>\n</div>"
     },
     "execution_count": 169,
     "metadata": {},
     "output_type": "execute_result"
    }
   ],
   "source": [
    "import pandas as pd\n",
    "import wandb\n",
    "api = wandb.Api()\n",
    "\n",
    "# Project is specified by <entity/project-name>\n",
    "runs = api.runs(\"joelavond/FedDecay\")\n",
    "\n",
    "summary_list, config_list, name_list = [], [], []\n",
    "for run in runs:\n",
    "    # .summary contains the output keys/values for metrics like accuracy.\n",
    "    #  We call ._json_dict to omit large files\n",
    "    summary_list.append(run.summary._json_dict)\n",
    "\n",
    "    # .config contains the hyperparameters.\n",
    "    #  We remove special values that start with _.\n",
    "    config_list.append(\n",
    "        {k: v for k,v in run.config.items()\n",
    "          if not k.startswith('_')})\n",
    "\n",
    "    # .name is the human-readable name of the run.\n",
    "    name_list.append(run.name)\n",
    "\n",
    "runs_df = pd.DataFrame({\n",
    "    \"summary\": summary_list,\n",
    "    \"config\": config_list,\n",
    "    \"name\": name_list\n",
    "    })\n",
    "\n",
    "print(runs_df.shape)\n",
    "runs_df.head()"
   ],
   "metadata": {
    "collapsed": false
   }
  },
  {
   "cell_type": "code",
   "execution_count": 192,
   "outputs": [
    {
     "data": {
      "text/plain": "  dataset method  finetune  n_epochs  batch_size    lr  beta  lr_  \\\n0    sst2  exact     False         6          32  0.05   0.8  NaN   \n1    sst2  exact     False         3          32  0.10   0.8  NaN   \n2    sst2  exact     False         6          16  0.01   0.8  NaN   \n3    sst2  exact     False         3          16  0.10   0.8  NaN   \n4    sst2  exact     False         6          64  0.05   0.8  NaN   \n\n   regular_weight_  regular_weight  ...  Results_unseen/test_acc  \\\n0              NaN             NaN  ...                 0.795853   \n1              NaN             NaN  ...                 0.725388   \n2              NaN             NaN  ...                 0.835741   \n3              NaN             NaN  ...                 0.794374   \n4              NaN             NaN  ...                 0.782765   \n\n   Results_unseen/test_acc_bottom_decile  Results_unseen/test_acc_std  \\\n0                               0.689655                     0.095085   \n1                               0.500000                     0.172125   \n2                               0.666667                     0.116070   \n3                               0.689655                     0.088426   \n4                               0.666667                     0.094767   \n\n   Results_unseen/test_f1  Results_unseen/test_f1_bottom_decile  \\\n0                0.645415                              0.408163   \n1                0.550466                              0.333333   \n2                0.699438                              0.400000   \n3                0.649479                              0.408163   \n4                0.639589                              0.414141   \n\n   Results_unseen/test_f1_std  Results_weighted/test_acc  \\\n0                    0.175969                   0.760671   \n1                    0.193473                   0.698171   \n2                    0.217982                   0.769817   \n3                    0.181342                   0.775915   \n4                    0.185805                   0.774390   \n\n   Results_weighted/test_f1  Results_weighted_unseen/test_acc  \\\n0                  0.528876                          0.787037   \n1                  0.494359                          0.708333   \n2                  0.530319                          0.796296   \n3                  0.547154                          0.768519   \n4                  0.538243                          0.768519   \n\n   Results_weighted_unseen/test_f1  \n0                         0.590872  \n1                         0.548012  \n2                         0.617272  \n3                         0.574300  \n4                         0.573656  \n\n[5 rows x 31 columns]",
      "text/html": "<div>\n<style scoped>\n    .dataframe tbody tr th:only-of-type {\n        vertical-align: middle;\n    }\n\n    .dataframe tbody tr th {\n        vertical-align: top;\n    }\n\n    .dataframe thead th {\n        text-align: right;\n    }\n</style>\n<table border=\"1\" class=\"dataframe\">\n  <thead>\n    <tr style=\"text-align: right;\">\n      <th></th>\n      <th>dataset</th>\n      <th>method</th>\n      <th>finetune</th>\n      <th>n_epochs</th>\n      <th>batch_size</th>\n      <th>lr</th>\n      <th>beta</th>\n      <th>lr_</th>\n      <th>regular_weight_</th>\n      <th>regular_weight</th>\n      <th>...</th>\n      <th>Results_unseen/test_acc</th>\n      <th>Results_unseen/test_acc_bottom_decile</th>\n      <th>Results_unseen/test_acc_std</th>\n      <th>Results_unseen/test_f1</th>\n      <th>Results_unseen/test_f1_bottom_decile</th>\n      <th>Results_unseen/test_f1_std</th>\n      <th>Results_weighted/test_acc</th>\n      <th>Results_weighted/test_f1</th>\n      <th>Results_weighted_unseen/test_acc</th>\n      <th>Results_weighted_unseen/test_f1</th>\n    </tr>\n  </thead>\n  <tbody>\n    <tr>\n      <th>0</th>\n      <td>sst2</td>\n      <td>exact</td>\n      <td>False</td>\n      <td>6</td>\n      <td>32</td>\n      <td>0.05</td>\n      <td>0.8</td>\n      <td>NaN</td>\n      <td>NaN</td>\n      <td>NaN</td>\n      <td>...</td>\n      <td>0.795853</td>\n      <td>0.689655</td>\n      <td>0.095085</td>\n      <td>0.645415</td>\n      <td>0.408163</td>\n      <td>0.175969</td>\n      <td>0.760671</td>\n      <td>0.528876</td>\n      <td>0.787037</td>\n      <td>0.590872</td>\n    </tr>\n    <tr>\n      <th>1</th>\n      <td>sst2</td>\n      <td>exact</td>\n      <td>False</td>\n      <td>3</td>\n      <td>32</td>\n      <td>0.10</td>\n      <td>0.8</td>\n      <td>NaN</td>\n      <td>NaN</td>\n      <td>NaN</td>\n      <td>...</td>\n      <td>0.725388</td>\n      <td>0.500000</td>\n      <td>0.172125</td>\n      <td>0.550466</td>\n      <td>0.333333</td>\n      <td>0.193473</td>\n      <td>0.698171</td>\n      <td>0.494359</td>\n      <td>0.708333</td>\n      <td>0.548012</td>\n    </tr>\n    <tr>\n      <th>2</th>\n      <td>sst2</td>\n      <td>exact</td>\n      <td>False</td>\n      <td>6</td>\n      <td>16</td>\n      <td>0.01</td>\n      <td>0.8</td>\n      <td>NaN</td>\n      <td>NaN</td>\n      <td>NaN</td>\n      <td>...</td>\n      <td>0.835741</td>\n      <td>0.666667</td>\n      <td>0.116070</td>\n      <td>0.699438</td>\n      <td>0.400000</td>\n      <td>0.217982</td>\n      <td>0.769817</td>\n      <td>0.530319</td>\n      <td>0.796296</td>\n      <td>0.617272</td>\n    </tr>\n    <tr>\n      <th>3</th>\n      <td>sst2</td>\n      <td>exact</td>\n      <td>False</td>\n      <td>3</td>\n      <td>16</td>\n      <td>0.10</td>\n      <td>0.8</td>\n      <td>NaN</td>\n      <td>NaN</td>\n      <td>NaN</td>\n      <td>...</td>\n      <td>0.794374</td>\n      <td>0.689655</td>\n      <td>0.088426</td>\n      <td>0.649479</td>\n      <td>0.408163</td>\n      <td>0.181342</td>\n      <td>0.775915</td>\n      <td>0.547154</td>\n      <td>0.768519</td>\n      <td>0.574300</td>\n    </tr>\n    <tr>\n      <th>4</th>\n      <td>sst2</td>\n      <td>exact</td>\n      <td>False</td>\n      <td>6</td>\n      <td>64</td>\n      <td>0.05</td>\n      <td>0.8</td>\n      <td>NaN</td>\n      <td>NaN</td>\n      <td>NaN</td>\n      <td>...</td>\n      <td>0.782765</td>\n      <td>0.666667</td>\n      <td>0.094767</td>\n      <td>0.639589</td>\n      <td>0.414141</td>\n      <td>0.185805</td>\n      <td>0.774390</td>\n      <td>0.538243</td>\n      <td>0.768519</td>\n      <td>0.573656</td>\n    </tr>\n  </tbody>\n</table>\n<p>5 rows × 31 columns</p>\n</div>"
     },
     "execution_count": 192,
     "metadata": {},
     "output_type": "execute_result"
    }
   ],
   "source": [
    "## Recover all metrics of interest from runs_df\n",
    "# get columns from summary dict\n",
    "metrics = runs_df['summary'].apply(pd.Series)\n",
    "\n",
    "# all metrics start with Results_\n",
    "# only keep test metrics other than validation columns\n",
    "validation_metric = 'Results_avg/val_acc'\n",
    "metrics = metrics[[name for name in metrics.columns if re.search('^Results', name)]]\n",
    "metrics = metrics[[\n",
    "    name for name in metrics.columns\n",
    "    if re.search('/test', name) or name == validation_metric\n",
    "]]\n",
    "\n",
    "# remove excess information from column names\n",
    "metrics.columns = [re.sub('_avg', '', re.sub('_fairness', '', name)) for name in metrics.columns]\n",
    "metrics = metrics[sorted(metrics.columns)]\n",
    "validation_metric = re.sub('_avg', '', re.sub('_fairness', '', validation_metric))\n",
    "\n",
    "# subset to metrics of interest\n",
    "metrics_of_interest = ['acc', 'avg_loss', 'f1']\n",
    "metrics = metrics[[\n",
    "    name for name\n",
    "    in metrics.columns\n",
    "    if (\n",
    "        any([bool(re.search(metric, name)) for metric in metrics_of_interest])\n",
    "        and not(bool(re.search('top', name)))  # not interested in metrics containing \"top\"\n",
    "    )\n",
    "]]\n",
    "\n",
    "# reorder metrics based on name\n",
    "\n",
    "## Extract run hyperparameters from name\n",
    "# convert to numeric\n",
    "hyperparameters = runs_df.name.str.split('--').apply(\n",
    "    lambda x: {\n",
    "        re.sub('[0-9.]*', '', obj):re.sub('[a-z_]*', '', obj)\n",
    "        for i, obj in enumerate(x)\n",
    "        if re.search('[0-9]', obj)\n",
    "           and i > 0\n",
    "    }\n",
    ").apply(pd.Series).apply(pd.to_numeric, errors='coerce')\n",
    "\n",
    "# identify method used\n",
    "methods = ['exact', 'fedavg', 'pfedme', 'fedbn', 'ditto', 'fedem']\n",
    "method = runs_df.name.apply(\n",
    "    lambda x: [method for method in methods if re.search(method, x)].pop(0)\n",
    ")\n",
    "dataset = runs_df.name.apply(lambda x: re.sub('-.*', '', x))\n",
    "finetune = runs_df.name.apply(lambda x: bool(re.search('finetune', x)))\n",
    "\n",
    "# combine with metrics\n",
    "df = pd.concat({'dataset':dataset, 'method':method, 'finetune':finetune}, axis=1)\n",
    "df = df.join(hyperparameters)\n",
    "df = df.join(metrics)\n",
    "\n",
    "## Copy fedsgd runs to exact decay with beta as 0\n",
    "fedsgd_runs = df.loc[(df.method == 'fedavg')].copy()\n",
    "fedsgd_runs.method = 'exact'\n",
    "fedsgd_runs.beta = 1.0\n",
    "fedsgd_runs.loc[(df.n_epochs == 1), 'beta'] = 0.0\n",
    "fedsgd_runs.head()\n",
    "\n",
    "# combine with previous data\n",
    "df = pd.concat([df, fedsgd_runs])\n",
    "df.head()\n",
    "\n"
   ],
   "metadata": {
    "collapsed": false
   }
  },
  {
   "cell_type": "code",
   "execution_count": 198,
   "outputs": [
    {
     "name": "stdout",
     "output_type": "stream",
     "text": [
      "80\n",
      "15\n"
     ]
    },
    {
     "data": {
      "text/plain": "   dataset  method  finetune  n_epochs  batch_size    lr  beta   lr_  \\\n3     sst2   exact     False         3          16  0.10   0.8   NaN   \n12    sst2  fedavg     False         3          16   NaN   NaN  0.05   \n12    sst2  fedavg     False         3          16   NaN   NaN  0.05   \n12    sst2   exact     False         3          16   NaN   1.0  0.05   \n12    sst2   exact     False         3          16   NaN   1.0  0.05   \n16    sst2   fedem     False         3          32   NaN   NaN  0.10   \n20    sst2   fedbn     False         3          64   NaN   NaN  0.50   \n28    sst2   ditto     False         3          32  0.05   NaN   NaN   \n34    sst2  pfedme     False         3          32  0.05   NaN   NaN   \n42    sst2   fedem      True         3          16   NaN   NaN   NaN   \n48    sst2   ditto      True         3          16  0.05   NaN   NaN   \n50    sst2   fedbn      True         3          64   NaN   NaN   NaN   \n56    sst2  pfedme      True         3          64  0.05   NaN   NaN   \n67    sst2  fedavg      True         3          16   NaN   NaN   NaN   \n67    sst2  fedavg      True         3          16   NaN   NaN   NaN   \n67    sst2  fedavg      True         3          16   NaN   NaN   NaN   \n67    sst2  fedavg      True         3          16   NaN   NaN   NaN   \n67    sst2   exact      True         3          16   NaN   1.0   NaN   \n67    sst2   exact      True         3          16   NaN   1.0   NaN   \n67    sst2   exact      True         3          16   NaN   1.0   NaN   \n67    sst2   exact      True         3          16   NaN   1.0   NaN   \n67    sst2  fedavg      True         3          16   NaN   NaN   NaN   \n67    sst2  fedavg      True         3          16   NaN   NaN   NaN   \n67    sst2  fedavg      True         3          16   NaN   NaN   NaN   \n67    sst2  fedavg      True         3          16   NaN   NaN   NaN   \n67    sst2   exact      True         3          16   NaN   1.0   NaN   \n67    sst2   exact      True         3          16   NaN   1.0   NaN   \n67    sst2   exact      True         3          16   NaN   1.0   NaN   \n67    sst2   exact      True         3          16   NaN   1.0   NaN   \n\n    regular_weight_  regular_weight  ...  Results_unseen/test_acc  \\\n3               NaN             NaN  ...                      2.0   \n12              NaN             NaN  ...                     10.0   \n12              NaN             NaN  ...                     11.0   \n12              NaN             NaN  ...                     10.0   \n12              NaN             NaN  ...                     11.0   \n16              NaN             NaN  ...                      3.0   \n20              NaN             NaN  ...                     13.0   \n28             0.05             NaN  ...                     14.0   \n34              NaN             0.9  ...                      4.0   \n42              NaN             NaN  ...                     12.0   \n48              NaN             NaN  ...                     15.0   \n50              NaN             NaN  ...                      1.0   \n56              NaN             0.8  ...                      5.0   \n67              NaN             NaN  ...                      6.0   \n67              NaN             NaN  ...                      7.0   \n67              NaN             NaN  ...                      8.0   \n67              NaN             NaN  ...                      9.0   \n67              NaN             NaN  ...                      6.0   \n67              NaN             NaN  ...                      7.0   \n67              NaN             NaN  ...                      8.0   \n67              NaN             NaN  ...                      9.0   \n67              NaN             NaN  ...                      6.0   \n67              NaN             NaN  ...                      7.0   \n67              NaN             NaN  ...                      8.0   \n67              NaN             NaN  ...                      9.0   \n67              NaN             NaN  ...                      6.0   \n67              NaN             NaN  ...                      7.0   \n67              NaN             NaN  ...                      8.0   \n67              NaN             NaN  ...                      9.0   \n\n    Results_unseen/test_acc_bottom_decile  Results_unseen/test_acc_std  \\\n3                                     3.0                          2.0   \n12                                   11.0                         10.0   \n12                                   12.0                         11.0   \n12                                   11.0                         10.0   \n12                                   12.0                         11.0   \n16                                    2.0                          3.0   \n20                                   13.0                         12.0   \n28                                   14.0                         14.0   \n34                                    1.0                          1.0   \n42                                   10.0                         13.0   \n48                                   15.0                         15.0   \n50                                    8.0                          9.0   \n56                                    9.0                          8.0   \n67                                    4.0                          4.0   \n67                                    5.0                          5.0   \n67                                    6.0                          6.0   \n67                                    7.0                          7.0   \n67                                    4.0                          4.0   \n67                                    5.0                          5.0   \n67                                    6.0                          6.0   \n67                                    7.0                          7.0   \n67                                    4.0                          4.0   \n67                                    5.0                          5.0   \n67                                    6.0                          6.0   \n67                                    7.0                          7.0   \n67                                    4.0                          4.0   \n67                                    5.0                          5.0   \n67                                    6.0                          6.0   \n67                                    7.0                          7.0   \n\n    Results_unseen/test_f1  Results_unseen/test_f1_bottom_decile  \\\n3                      1.0                                   5.0   \n12                    10.0                                   6.0   \n12                    11.0                                   7.0   \n12                    10.0                                   6.0   \n12                    11.0                                   7.0   \n16                     3.0                                   4.0   \n20                    13.0                                  13.0   \n28                    14.0                                  14.0   \n34                    12.0                                   3.0   \n42                     9.0                                  12.0   \n48                    15.0                                  15.0   \n50                     2.0                                   1.0   \n56                     4.0                                   2.0   \n67                     5.0                                   8.0   \n67                     6.0                                   9.0   \n67                     7.0                                  10.0   \n67                     8.0                                  11.0   \n67                     5.0                                   8.0   \n67                     6.0                                   9.0   \n67                     7.0                                  10.0   \n67                     8.0                                  11.0   \n67                     5.0                                   8.0   \n67                     6.0                                   9.0   \n67                     7.0                                  10.0   \n67                     8.0                                  11.0   \n67                     5.0                                   8.0   \n67                     6.0                                   9.0   \n67                     7.0                                  10.0   \n67                     8.0                                  11.0   \n\n    Results_unseen/test_f1_std  Results_weighted/test_acc  \\\n3                          3.0                        2.0   \n12                         9.0                        9.0   \n12                        10.0                       10.0   \n12                         9.0                        9.0   \n12                        10.0                       10.0   \n16                         8.0                        8.0   \n20                        12.0                       13.0   \n28                        14.0                       15.0   \n34                         1.0                       12.0   \n42                        13.0                        3.0   \n48                        15.0                       14.0   \n50                        11.0                       11.0   \n56                         2.0                        1.0   \n67                         4.0                        4.0   \n67                         5.0                        5.0   \n67                         6.0                        6.0   \n67                         7.0                        7.0   \n67                         4.0                        4.0   \n67                         5.0                        5.0   \n67                         6.0                        6.0   \n67                         7.0                        7.0   \n67                         4.0                        4.0   \n67                         5.0                        5.0   \n67                         6.0                        6.0   \n67                         7.0                        7.0   \n67                         4.0                        4.0   \n67                         5.0                        5.0   \n67                         6.0                        6.0   \n67                         7.0                        7.0   \n\n    Results_weighted/test_f1  Results_weighted_unseen/test_acc  \\\n3                        2.0                               1.0   \n12                       3.0                               7.0   \n12                       4.0                               8.0   \n12                       3.0                               7.0   \n12                       4.0                               8.0   \n16                      11.0                               3.0   \n20                      14.0                              13.0   \n28                      15.0                              14.0   \n34                       5.0                               2.0   \n42                      12.0                               4.0   \n48                      13.0                              15.0   \n50                      10.0                              12.0   \n56                       1.0                              11.0   \n67                       6.0                               5.0   \n67                       7.0                               6.0   \n67                       8.0                               9.0   \n67                       9.0                              10.0   \n67                       6.0                               5.0   \n67                       7.0                               6.0   \n67                       8.0                               9.0   \n67                       9.0                              10.0   \n67                       6.0                               5.0   \n67                       7.0                               6.0   \n67                       8.0                               9.0   \n67                       9.0                              10.0   \n67                       6.0                               5.0   \n67                       7.0                               6.0   \n67                       8.0                               9.0   \n67                       9.0                              10.0   \n\n    Results_weighted_unseen/test_f1  \n3                               6.0  \n12                              8.0  \n12                              9.0  \n12                              8.0  \n12                              9.0  \n16                              7.0  \n20                             13.0  \n28                             14.0  \n34                             10.0  \n42                              1.0  \n48                             15.0  \n50                             12.0  \n56                             11.0  \n67                              2.0  \n67                              3.0  \n67                              4.0  \n67                              5.0  \n67                              2.0  \n67                              3.0  \n67                              4.0  \n67                              5.0  \n67                              2.0  \n67                              3.0  \n67                              4.0  \n67                              5.0  \n67                              2.0  \n67                              3.0  \n67                              4.0  \n67                              5.0  \n\n[29 rows x 31 columns]",
      "text/html": "<div>\n<style scoped>\n    .dataframe tbody tr th:only-of-type {\n        vertical-align: middle;\n    }\n\n    .dataframe tbody tr th {\n        vertical-align: top;\n    }\n\n    .dataframe thead th {\n        text-align: right;\n    }\n</style>\n<table border=\"1\" class=\"dataframe\">\n  <thead>\n    <tr style=\"text-align: right;\">\n      <th></th>\n      <th>dataset</th>\n      <th>method</th>\n      <th>finetune</th>\n      <th>n_epochs</th>\n      <th>batch_size</th>\n      <th>lr</th>\n      <th>beta</th>\n      <th>lr_</th>\n      <th>regular_weight_</th>\n      <th>regular_weight</th>\n      <th>...</th>\n      <th>Results_unseen/test_acc</th>\n      <th>Results_unseen/test_acc_bottom_decile</th>\n      <th>Results_unseen/test_acc_std</th>\n      <th>Results_unseen/test_f1</th>\n      <th>Results_unseen/test_f1_bottom_decile</th>\n      <th>Results_unseen/test_f1_std</th>\n      <th>Results_weighted/test_acc</th>\n      <th>Results_weighted/test_f1</th>\n      <th>Results_weighted_unseen/test_acc</th>\n      <th>Results_weighted_unseen/test_f1</th>\n    </tr>\n  </thead>\n  <tbody>\n    <tr>\n      <th>3</th>\n      <td>sst2</td>\n      <td>exact</td>\n      <td>False</td>\n      <td>3</td>\n      <td>16</td>\n      <td>0.10</td>\n      <td>0.8</td>\n      <td>NaN</td>\n      <td>NaN</td>\n      <td>NaN</td>\n      <td>...</td>\n      <td>2.0</td>\n      <td>3.0</td>\n      <td>2.0</td>\n      <td>1.0</td>\n      <td>5.0</td>\n      <td>3.0</td>\n      <td>2.0</td>\n      <td>2.0</td>\n      <td>1.0</td>\n      <td>6.0</td>\n    </tr>\n    <tr>\n      <th>12</th>\n      <td>sst2</td>\n      <td>fedavg</td>\n      <td>False</td>\n      <td>3</td>\n      <td>16</td>\n      <td>NaN</td>\n      <td>NaN</td>\n      <td>0.05</td>\n      <td>NaN</td>\n      <td>NaN</td>\n      <td>...</td>\n      <td>10.0</td>\n      <td>11.0</td>\n      <td>10.0</td>\n      <td>10.0</td>\n      <td>6.0</td>\n      <td>9.0</td>\n      <td>9.0</td>\n      <td>3.0</td>\n      <td>7.0</td>\n      <td>8.0</td>\n    </tr>\n    <tr>\n      <th>12</th>\n      <td>sst2</td>\n      <td>fedavg</td>\n      <td>False</td>\n      <td>3</td>\n      <td>16</td>\n      <td>NaN</td>\n      <td>NaN</td>\n      <td>0.05</td>\n      <td>NaN</td>\n      <td>NaN</td>\n      <td>...</td>\n      <td>11.0</td>\n      <td>12.0</td>\n      <td>11.0</td>\n      <td>11.0</td>\n      <td>7.0</td>\n      <td>10.0</td>\n      <td>10.0</td>\n      <td>4.0</td>\n      <td>8.0</td>\n      <td>9.0</td>\n    </tr>\n    <tr>\n      <th>12</th>\n      <td>sst2</td>\n      <td>exact</td>\n      <td>False</td>\n      <td>3</td>\n      <td>16</td>\n      <td>NaN</td>\n      <td>1.0</td>\n      <td>0.05</td>\n      <td>NaN</td>\n      <td>NaN</td>\n      <td>...</td>\n      <td>10.0</td>\n      <td>11.0</td>\n      <td>10.0</td>\n      <td>10.0</td>\n      <td>6.0</td>\n      <td>9.0</td>\n      <td>9.0</td>\n      <td>3.0</td>\n      <td>7.0</td>\n      <td>8.0</td>\n    </tr>\n    <tr>\n      <th>12</th>\n      <td>sst2</td>\n      <td>exact</td>\n      <td>False</td>\n      <td>3</td>\n      <td>16</td>\n      <td>NaN</td>\n      <td>1.0</td>\n      <td>0.05</td>\n      <td>NaN</td>\n      <td>NaN</td>\n      <td>...</td>\n      <td>11.0</td>\n      <td>12.0</td>\n      <td>11.0</td>\n      <td>11.0</td>\n      <td>7.0</td>\n      <td>10.0</td>\n      <td>10.0</td>\n      <td>4.0</td>\n      <td>8.0</td>\n      <td>9.0</td>\n    </tr>\n    <tr>\n      <th>16</th>\n      <td>sst2</td>\n      <td>fedem</td>\n      <td>False</td>\n      <td>3</td>\n      <td>32</td>\n      <td>NaN</td>\n      <td>NaN</td>\n      <td>0.10</td>\n      <td>NaN</td>\n      <td>NaN</td>\n      <td>...</td>\n      <td>3.0</td>\n      <td>2.0</td>\n      <td>3.0</td>\n      <td>3.0</td>\n      <td>4.0</td>\n      <td>8.0</td>\n      <td>8.0</td>\n      <td>11.0</td>\n      <td>3.0</td>\n      <td>7.0</td>\n    </tr>\n    <tr>\n      <th>20</th>\n      <td>sst2</td>\n      <td>fedbn</td>\n      <td>False</td>\n      <td>3</td>\n      <td>64</td>\n      <td>NaN</td>\n      <td>NaN</td>\n      <td>0.50</td>\n      <td>NaN</td>\n      <td>NaN</td>\n      <td>...</td>\n      <td>13.0</td>\n      <td>13.0</td>\n      <td>12.0</td>\n      <td>13.0</td>\n      <td>13.0</td>\n      <td>12.0</td>\n      <td>13.0</td>\n      <td>14.0</td>\n      <td>13.0</td>\n      <td>13.0</td>\n    </tr>\n    <tr>\n      <th>28</th>\n      <td>sst2</td>\n      <td>ditto</td>\n      <td>False</td>\n      <td>3</td>\n      <td>32</td>\n      <td>0.05</td>\n      <td>NaN</td>\n      <td>NaN</td>\n      <td>0.05</td>\n      <td>NaN</td>\n      <td>...</td>\n      <td>14.0</td>\n      <td>14.0</td>\n      <td>14.0</td>\n      <td>14.0</td>\n      <td>14.0</td>\n      <td>14.0</td>\n      <td>15.0</td>\n      <td>15.0</td>\n      <td>14.0</td>\n      <td>14.0</td>\n    </tr>\n    <tr>\n      <th>34</th>\n      <td>sst2</td>\n      <td>pfedme</td>\n      <td>False</td>\n      <td>3</td>\n      <td>32</td>\n      <td>0.05</td>\n      <td>NaN</td>\n      <td>NaN</td>\n      <td>NaN</td>\n      <td>0.9</td>\n      <td>...</td>\n      <td>4.0</td>\n      <td>1.0</td>\n      <td>1.0</td>\n      <td>12.0</td>\n      <td>3.0</td>\n      <td>1.0</td>\n      <td>12.0</td>\n      <td>5.0</td>\n      <td>2.0</td>\n      <td>10.0</td>\n    </tr>\n    <tr>\n      <th>42</th>\n      <td>sst2</td>\n      <td>fedem</td>\n      <td>True</td>\n      <td>3</td>\n      <td>16</td>\n      <td>NaN</td>\n      <td>NaN</td>\n      <td>NaN</td>\n      <td>NaN</td>\n      <td>NaN</td>\n      <td>...</td>\n      <td>12.0</td>\n      <td>10.0</td>\n      <td>13.0</td>\n      <td>9.0</td>\n      <td>12.0</td>\n      <td>13.0</td>\n      <td>3.0</td>\n      <td>12.0</td>\n      <td>4.0</td>\n      <td>1.0</td>\n    </tr>\n    <tr>\n      <th>48</th>\n      <td>sst2</td>\n      <td>ditto</td>\n      <td>True</td>\n      <td>3</td>\n      <td>16</td>\n      <td>0.05</td>\n      <td>NaN</td>\n      <td>NaN</td>\n      <td>NaN</td>\n      <td>NaN</td>\n      <td>...</td>\n      <td>15.0</td>\n      <td>15.0</td>\n      <td>15.0</td>\n      <td>15.0</td>\n      <td>15.0</td>\n      <td>15.0</td>\n      <td>14.0</td>\n      <td>13.0</td>\n      <td>15.0</td>\n      <td>15.0</td>\n    </tr>\n    <tr>\n      <th>50</th>\n      <td>sst2</td>\n      <td>fedbn</td>\n      <td>True</td>\n      <td>3</td>\n      <td>64</td>\n      <td>NaN</td>\n      <td>NaN</td>\n      <td>NaN</td>\n      <td>NaN</td>\n      <td>NaN</td>\n      <td>...</td>\n      <td>1.0</td>\n      <td>8.0</td>\n      <td>9.0</td>\n      <td>2.0</td>\n      <td>1.0</td>\n      <td>11.0</td>\n      <td>11.0</td>\n      <td>10.0</td>\n      <td>12.0</td>\n      <td>12.0</td>\n    </tr>\n    <tr>\n      <th>56</th>\n      <td>sst2</td>\n      <td>pfedme</td>\n      <td>True</td>\n      <td>3</td>\n      <td>64</td>\n      <td>0.05</td>\n      <td>NaN</td>\n      <td>NaN</td>\n      <td>NaN</td>\n      <td>0.8</td>\n      <td>...</td>\n      <td>5.0</td>\n      <td>9.0</td>\n      <td>8.0</td>\n      <td>4.0</td>\n      <td>2.0</td>\n      <td>2.0</td>\n      <td>1.0</td>\n      <td>1.0</td>\n      <td>11.0</td>\n      <td>11.0</td>\n    </tr>\n    <tr>\n      <th>67</th>\n      <td>sst2</td>\n      <td>fedavg</td>\n      <td>True</td>\n      <td>3</td>\n      <td>16</td>\n      <td>NaN</td>\n      <td>NaN</td>\n      <td>NaN</td>\n      <td>NaN</td>\n      <td>NaN</td>\n      <td>...</td>\n      <td>6.0</td>\n      <td>4.0</td>\n      <td>4.0</td>\n      <td>5.0</td>\n      <td>8.0</td>\n      <td>4.0</td>\n      <td>4.0</td>\n      <td>6.0</td>\n      <td>5.0</td>\n      <td>2.0</td>\n    </tr>\n    <tr>\n      <th>67</th>\n      <td>sst2</td>\n      <td>fedavg</td>\n      <td>True</td>\n      <td>3</td>\n      <td>16</td>\n      <td>NaN</td>\n      <td>NaN</td>\n      <td>NaN</td>\n      <td>NaN</td>\n      <td>NaN</td>\n      <td>...</td>\n      <td>7.0</td>\n      <td>5.0</td>\n      <td>5.0</td>\n      <td>6.0</td>\n      <td>9.0</td>\n      <td>5.0</td>\n      <td>5.0</td>\n      <td>7.0</td>\n      <td>6.0</td>\n      <td>3.0</td>\n    </tr>\n    <tr>\n      <th>67</th>\n      <td>sst2</td>\n      <td>fedavg</td>\n      <td>True</td>\n      <td>3</td>\n      <td>16</td>\n      <td>NaN</td>\n      <td>NaN</td>\n      <td>NaN</td>\n      <td>NaN</td>\n      <td>NaN</td>\n      <td>...</td>\n      <td>8.0</td>\n      <td>6.0</td>\n      <td>6.0</td>\n      <td>7.0</td>\n      <td>10.0</td>\n      <td>6.0</td>\n      <td>6.0</td>\n      <td>8.0</td>\n      <td>9.0</td>\n      <td>4.0</td>\n    </tr>\n    <tr>\n      <th>67</th>\n      <td>sst2</td>\n      <td>fedavg</td>\n      <td>True</td>\n      <td>3</td>\n      <td>16</td>\n      <td>NaN</td>\n      <td>NaN</td>\n      <td>NaN</td>\n      <td>NaN</td>\n      <td>NaN</td>\n      <td>...</td>\n      <td>9.0</td>\n      <td>7.0</td>\n      <td>7.0</td>\n      <td>8.0</td>\n      <td>11.0</td>\n      <td>7.0</td>\n      <td>7.0</td>\n      <td>9.0</td>\n      <td>10.0</td>\n      <td>5.0</td>\n    </tr>\n    <tr>\n      <th>67</th>\n      <td>sst2</td>\n      <td>exact</td>\n      <td>True</td>\n      <td>3</td>\n      <td>16</td>\n      <td>NaN</td>\n      <td>1.0</td>\n      <td>NaN</td>\n      <td>NaN</td>\n      <td>NaN</td>\n      <td>...</td>\n      <td>6.0</td>\n      <td>4.0</td>\n      <td>4.0</td>\n      <td>5.0</td>\n      <td>8.0</td>\n      <td>4.0</td>\n      <td>4.0</td>\n      <td>6.0</td>\n      <td>5.0</td>\n      <td>2.0</td>\n    </tr>\n    <tr>\n      <th>67</th>\n      <td>sst2</td>\n      <td>exact</td>\n      <td>True</td>\n      <td>3</td>\n      <td>16</td>\n      <td>NaN</td>\n      <td>1.0</td>\n      <td>NaN</td>\n      <td>NaN</td>\n      <td>NaN</td>\n      <td>...</td>\n      <td>7.0</td>\n      <td>5.0</td>\n      <td>5.0</td>\n      <td>6.0</td>\n      <td>9.0</td>\n      <td>5.0</td>\n      <td>5.0</td>\n      <td>7.0</td>\n      <td>6.0</td>\n      <td>3.0</td>\n    </tr>\n    <tr>\n      <th>67</th>\n      <td>sst2</td>\n      <td>exact</td>\n      <td>True</td>\n      <td>3</td>\n      <td>16</td>\n      <td>NaN</td>\n      <td>1.0</td>\n      <td>NaN</td>\n      <td>NaN</td>\n      <td>NaN</td>\n      <td>...</td>\n      <td>8.0</td>\n      <td>6.0</td>\n      <td>6.0</td>\n      <td>7.0</td>\n      <td>10.0</td>\n      <td>6.0</td>\n      <td>6.0</td>\n      <td>8.0</td>\n      <td>9.0</td>\n      <td>4.0</td>\n    </tr>\n    <tr>\n      <th>67</th>\n      <td>sst2</td>\n      <td>exact</td>\n      <td>True</td>\n      <td>3</td>\n      <td>16</td>\n      <td>NaN</td>\n      <td>1.0</td>\n      <td>NaN</td>\n      <td>NaN</td>\n      <td>NaN</td>\n      <td>...</td>\n      <td>9.0</td>\n      <td>7.0</td>\n      <td>7.0</td>\n      <td>8.0</td>\n      <td>11.0</td>\n      <td>7.0</td>\n      <td>7.0</td>\n      <td>9.0</td>\n      <td>10.0</td>\n      <td>5.0</td>\n    </tr>\n    <tr>\n      <th>67</th>\n      <td>sst2</td>\n      <td>fedavg</td>\n      <td>True</td>\n      <td>3</td>\n      <td>16</td>\n      <td>NaN</td>\n      <td>NaN</td>\n      <td>NaN</td>\n      <td>NaN</td>\n      <td>NaN</td>\n      <td>...</td>\n      <td>6.0</td>\n      <td>4.0</td>\n      <td>4.0</td>\n      <td>5.0</td>\n      <td>8.0</td>\n      <td>4.0</td>\n      <td>4.0</td>\n      <td>6.0</td>\n      <td>5.0</td>\n      <td>2.0</td>\n    </tr>\n    <tr>\n      <th>67</th>\n      <td>sst2</td>\n      <td>fedavg</td>\n      <td>True</td>\n      <td>3</td>\n      <td>16</td>\n      <td>NaN</td>\n      <td>NaN</td>\n      <td>NaN</td>\n      <td>NaN</td>\n      <td>NaN</td>\n      <td>...</td>\n      <td>7.0</td>\n      <td>5.0</td>\n      <td>5.0</td>\n      <td>6.0</td>\n      <td>9.0</td>\n      <td>5.0</td>\n      <td>5.0</td>\n      <td>7.0</td>\n      <td>6.0</td>\n      <td>3.0</td>\n    </tr>\n    <tr>\n      <th>67</th>\n      <td>sst2</td>\n      <td>fedavg</td>\n      <td>True</td>\n      <td>3</td>\n      <td>16</td>\n      <td>NaN</td>\n      <td>NaN</td>\n      <td>NaN</td>\n      <td>NaN</td>\n      <td>NaN</td>\n      <td>...</td>\n      <td>8.0</td>\n      <td>6.0</td>\n      <td>6.0</td>\n      <td>7.0</td>\n      <td>10.0</td>\n      <td>6.0</td>\n      <td>6.0</td>\n      <td>8.0</td>\n      <td>9.0</td>\n      <td>4.0</td>\n    </tr>\n    <tr>\n      <th>67</th>\n      <td>sst2</td>\n      <td>fedavg</td>\n      <td>True</td>\n      <td>3</td>\n      <td>16</td>\n      <td>NaN</td>\n      <td>NaN</td>\n      <td>NaN</td>\n      <td>NaN</td>\n      <td>NaN</td>\n      <td>...</td>\n      <td>9.0</td>\n      <td>7.0</td>\n      <td>7.0</td>\n      <td>8.0</td>\n      <td>11.0</td>\n      <td>7.0</td>\n      <td>7.0</td>\n      <td>9.0</td>\n      <td>10.0</td>\n      <td>5.0</td>\n    </tr>\n    <tr>\n      <th>67</th>\n      <td>sst2</td>\n      <td>exact</td>\n      <td>True</td>\n      <td>3</td>\n      <td>16</td>\n      <td>NaN</td>\n      <td>1.0</td>\n      <td>NaN</td>\n      <td>NaN</td>\n      <td>NaN</td>\n      <td>...</td>\n      <td>6.0</td>\n      <td>4.0</td>\n      <td>4.0</td>\n      <td>5.0</td>\n      <td>8.0</td>\n      <td>4.0</td>\n      <td>4.0</td>\n      <td>6.0</td>\n      <td>5.0</td>\n      <td>2.0</td>\n    </tr>\n    <tr>\n      <th>67</th>\n      <td>sst2</td>\n      <td>exact</td>\n      <td>True</td>\n      <td>3</td>\n      <td>16</td>\n      <td>NaN</td>\n      <td>1.0</td>\n      <td>NaN</td>\n      <td>NaN</td>\n      <td>NaN</td>\n      <td>...</td>\n      <td>7.0</td>\n      <td>5.0</td>\n      <td>5.0</td>\n      <td>6.0</td>\n      <td>9.0</td>\n      <td>5.0</td>\n      <td>5.0</td>\n      <td>7.0</td>\n      <td>6.0</td>\n      <td>3.0</td>\n    </tr>\n    <tr>\n      <th>67</th>\n      <td>sst2</td>\n      <td>exact</td>\n      <td>True</td>\n      <td>3</td>\n      <td>16</td>\n      <td>NaN</td>\n      <td>1.0</td>\n      <td>NaN</td>\n      <td>NaN</td>\n      <td>NaN</td>\n      <td>...</td>\n      <td>8.0</td>\n      <td>6.0</td>\n      <td>6.0</td>\n      <td>7.0</td>\n      <td>10.0</td>\n      <td>6.0</td>\n      <td>6.0</td>\n      <td>8.0</td>\n      <td>9.0</td>\n      <td>4.0</td>\n    </tr>\n    <tr>\n      <th>67</th>\n      <td>sst2</td>\n      <td>exact</td>\n      <td>True</td>\n      <td>3</td>\n      <td>16</td>\n      <td>NaN</td>\n      <td>1.0</td>\n      <td>NaN</td>\n      <td>NaN</td>\n      <td>NaN</td>\n      <td>...</td>\n      <td>9.0</td>\n      <td>7.0</td>\n      <td>7.0</td>\n      <td>8.0</td>\n      <td>11.0</td>\n      <td>7.0</td>\n      <td>7.0</td>\n      <td>9.0</td>\n      <td>10.0</td>\n      <td>5.0</td>\n    </tr>\n  </tbody>\n</table>\n<p>29 rows × 31 columns</p>\n</div>"
     },
     "execution_count": 198,
     "metadata": {},
     "output_type": "execute_result"
    }
   ],
   "source": [
    "## Get best run for each group\n",
    "filtered_df = df.loc[(df.n_epochs < 6)]\n",
    "idx = filtered_df.groupby(['method', 'finetune'])[validation_metric].idxmax()\n",
    "filtered_df = filtered_df.loc[idx]\n",
    "print(len(df))\n",
    "print(len(filtered_df))\n",
    "\n",
    "descending_metrics = [name for name in filtered_df.columns if re.match('Results', name)]\n",
    "ascending_metrics = [\n",
    "    descending_metrics.pop(descending_metrics.index(name))\n",
    "    for name in descending_metrics\n",
    "    if re.search('std', name)\n",
    "]\n",
    "filtered_runs = filtered_df[[\n",
    "    name for name in filtered_df.columns\n",
    "    if name not in descending_metrics + ascending_metrics\n",
    "]]\n",
    "\n",
    "ranked_descending = filtered_df[descending_metrics].rank(\n",
    "    method='first',\n",
    "    ascending=False\n",
    ")\n",
    "ranked_ascending = filtered_df[ascending_metrics].rank(\n",
    "    method='first',\n",
    "    ascending=True\n",
    ")\n",
    "\n",
    "ranked_metrics = pd.concat([ranked_descending, ranked_ascending], axis=1)\n",
    "ranked_metrics = ranked_metrics[sorted(ranked_metrics.columns)]\n",
    "filtered_runs.join(ranked_metrics)\n"
   ],
   "metadata": {
    "collapsed": false
   }
  }
 ],
 "metadata": {
  "kernelspec": {
   "display_name": "Python 3",
   "language": "python",
   "name": "python3"
  },
  "language_info": {
   "codemirror_mode": {
    "name": "ipython",
    "version": 2
   },
   "file_extension": ".py",
   "mimetype": "text/x-python",
   "name": "python",
   "nbconvert_exporter": "python",
   "pygments_lexer": "ipython2",
   "version": "2.7.6"
  }
 },
 "nbformat": 4,
 "nbformat_minor": 0
}
