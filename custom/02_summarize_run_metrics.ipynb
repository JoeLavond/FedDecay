{
 "cells": [
  {
   "cell_type": "markdown",
   "source": [
    "Import packages and processed run metrics"
   ],
   "metadata": {
    "collapsed": false
   }
  },
  {
   "cell_type": "code",
   "execution_count": 63,
   "metadata": {
    "collapsed": true,
    "ExecuteTime": {
     "start_time": "2023-04-04T12:15:03.863419Z",
     "end_time": "2023-04-04T12:15:03.994049Z"
    }
   },
   "outputs": [
    {
     "name": "stdout",
     "output_type": "stream",
     "text": [
      "input datasets:\n",
      "\t (520, 36)\n",
      "\t (520, 36)\n",
      "\t (520, 36)\n",
      "all runs: (1560, 35)\n"
     ]
    }
   ],
   "source": [
    "# packages\n",
    "import os\n",
    "import re\n",
    "import numpy as np\n",
    "import pandas as pd\n",
    "\n",
    "# source\n",
    "helper = __import__('00_helper')\n",
    "\n",
    "# control\n",
    "write_files = 0\n",
    "validation_metric = 'Results/val_acc'\n",
    "project_names = [\n",
    "    'femnist--s02', 'sst2', 'pubmed'#,\n",
    "    #'cifar--alpha5.0', 'cifar--alpha0.5', 'cifar--alpha0.1'\n",
    "]\n",
    "df = helper.load_data(project_names)\n",
    "\n",
    "## For CIFAR\n",
    "#remove_methods = [\n",
    "#    method for method in df.method.unique()\n",
    "#    if method not in ['fedavg', 'exact']\n",
    "#\n"
   ]
  },
  {
   "cell_type": "markdown",
   "source": [
    "Filter data to runs of interest\n",
    "Apply summary function to filtered dataset"
   ],
   "metadata": {
    "collapsed": false
   }
  },
  {
   "cell_type": "code",
   "execution_count": 64,
   "outputs": [
    {
     "name": "stdout",
     "output_type": "stream",
     "text": [
      "input dataset: (1560, 35)\n",
      "\t reduce to 3 or fewer local meta-learning steps for pfedme: (1560, 35)\n",
      "\t reduce beta grid for decay: (1260, 35)\n"
     ]
    }
   ],
   "source": [
    "subset_df = df\n",
    "print('input dataset:', df.shape)\n",
    "\n",
    "## row (run) filtering\n",
    "# remove extra hyper-parameter searches\n",
    "\n",
    "subset_df = subset_df.loc[(subset_df.n_epochs < 6)]\n",
    "print('\\t reduce to 3 or fewer local update steps:', subset_df.shape)\n",
    "\n",
    "subset_df = subset_df.loc[(subset_df.K < 6) | (subset_df.method != 'pfedme')]\n",
    "print('\\t reduce to 3 or fewer local meta-learning steps for pfedme:', subset_df.shape)\n",
    "\n",
    "subset_df = subset_df.loc[((10 * subset_df.beta).astype('Int64') % 2 == 0) | (subset_df.method != 'exact')]\n",
    "print('\\t reduce beta grid for decay:', subset_df.shape)\n",
    "\n",
    "## column (metric) filtering\n",
    "subset_df = subset_df[[\n",
    "    name for name in subset_df.columns\n",
    "    if (\n",
    "        not re.search('^sys', name)\n",
    "        and not re.search('f1', name)\n",
    "        and not re.search('loss', name)\n",
    "    )\n",
    "]]"
   ],
   "metadata": {
    "collapsed": false,
    "ExecuteTime": {
     "start_time": "2023-04-04T12:15:03.944631Z",
     "end_time": "2023-04-04T12:15:03.995044Z"
    }
   }
  },
  {
   "cell_type": "code",
   "execution_count": 65,
   "outputs": [
    {
     "data": {
      "text/plain": "      method  finetune          dataset  alpha  n_epochs    lr  beta  \\\n1530   exact         0  cifar--alpha0.1    0.1         6  0.10   1.0   \n1450   exact         1  cifar--alpha0.1    0.1         6  0.10   0.8   \n1040  fedavg         0  cifar--alpha0.1    0.1         6  0.10   NaN   \n1041  fedavg         1  cifar--alpha0.1    0.1         6  0.10   NaN   \n989    exact         0  cifar--alpha0.5    0.5         6  0.05   0.2   \n1038   exact         1  cifar--alpha0.5    0.5         1  0.05   0.0   \n523   fedavg         0  cifar--alpha0.5    0.5         6  0.05   NaN   \n848   fedavg         1  cifar--alpha0.5    0.5         1  0.05   NaN   \n508    exact         0  cifar--alpha5.0    5.0         1  0.05   0.0   \n519    exact         1  cifar--alpha5.0    5.0         1  0.05   0.0   \n318   fedavg         0  cifar--alpha5.0    5.0         1  0.05   NaN   \n329   fedavg         1  cifar--alpha5.0    5.0         1  0.05   NaN   \n\n      regular_weight   K  Results/test_acc  Results/test_acc_bottom_decile  \\\n1530             NaN NaN          0.594851                        0.423423   \n1450             NaN NaN          0.589347                        0.369565   \n1040             NaN NaN          0.594851                        0.423423   \n1041             NaN NaN          0.590661                        0.358696   \n989              NaN NaN          0.712724                        0.615385   \n1038             NaN NaN          0.718009                        0.639344   \n523              NaN NaN          0.703486                        0.600000   \n848              NaN NaN          0.718009                        0.639344   \n508              NaN NaN          0.744859                        0.686047   \n519              NaN NaN          0.739490                        0.681319   \n318              NaN NaN          0.744859                        0.686047   \n329              NaN NaN          0.739490                        0.681319   \n\n      Results/test_acc_std  Results/val_acc  Results_unseen/test_acc  \\\n1530              0.146593         0.570317                 0.641625   \n1450              0.144460         0.568931                 0.633189   \n1040              0.146593         0.570317                 0.641625   \n1041              0.150555         0.566829                 0.625818   \n989               0.069776         0.714404                 0.711504   \n1038              0.063321         0.712604                 0.700924   \n523               0.071834         0.699693                 0.694635   \n848               0.063321         0.712604                 0.700924   \n508               0.044244         0.745662                 0.740950   \n519               0.043870         0.744677                 0.734124   \n318               0.044244         0.745662                 0.740950   \n329               0.043870         0.744677                 0.734124   \n\n      Results_unseen/test_acc_bottom_decile  Results_unseen/test_acc_std  \\\n1530                               0.515406                     0.117322   \n1450                               0.515152                     0.119887   \n1040                               0.515406                     0.117322   \n1041                               0.515152                     0.109783   \n989                                0.608696                     0.072264   \n1038                               0.633803                     0.070719   \n523                                0.619718                     0.052156   \n848                                0.633803                     0.070719   \n508                                0.696629                     0.034485   \n519                                0.677083                     0.045635   \n318                                0.696629                     0.034485   \n329                                0.677083                     0.045635   \n\n      Results_weighted/test_acc  Results_weighted_unseen/test_acc  \n1530                   0.564013                          0.615199  \n1450                   0.565931                          0.606755  \n1040                   0.564013                          0.615199  \n1041                   0.569408                          0.601930  \n989                    0.711944                          0.720452  \n1038                   0.713807                          0.709147  \n523                    0.703005                          0.700411  \n848                    0.713807                          0.709147  \n508                    0.744619                          0.741606  \n519                    0.739333                          0.734793  \n318                    0.744619                          0.741606  \n329                    0.739333                          0.734793  ",
      "text/html": "<div>\n<style scoped>\n    .dataframe tbody tr th:only-of-type {\n        vertical-align: middle;\n    }\n\n    .dataframe tbody tr th {\n        vertical-align: top;\n    }\n\n    .dataframe thead th {\n        text-align: right;\n    }\n</style>\n<table border=\"1\" class=\"dataframe\">\n  <thead>\n    <tr style=\"text-align: right;\">\n      <th></th>\n      <th>method</th>\n      <th>finetune</th>\n      <th>dataset</th>\n      <th>alpha</th>\n      <th>n_epochs</th>\n      <th>lr</th>\n      <th>beta</th>\n      <th>regular_weight</th>\n      <th>K</th>\n      <th>Results/test_acc</th>\n      <th>Results/test_acc_bottom_decile</th>\n      <th>Results/test_acc_std</th>\n      <th>Results/val_acc</th>\n      <th>Results_unseen/test_acc</th>\n      <th>Results_unseen/test_acc_bottom_decile</th>\n      <th>Results_unseen/test_acc_std</th>\n      <th>Results_weighted/test_acc</th>\n      <th>Results_weighted_unseen/test_acc</th>\n    </tr>\n  </thead>\n  <tbody>\n    <tr>\n      <th>1530</th>\n      <td>exact</td>\n      <td>0</td>\n      <td>cifar--alpha0.1</td>\n      <td>0.1</td>\n      <td>6</td>\n      <td>0.10</td>\n      <td>1.0</td>\n      <td>NaN</td>\n      <td>NaN</td>\n      <td>0.594851</td>\n      <td>0.423423</td>\n      <td>0.146593</td>\n      <td>0.570317</td>\n      <td>0.641625</td>\n      <td>0.515406</td>\n      <td>0.117322</td>\n      <td>0.564013</td>\n      <td>0.615199</td>\n    </tr>\n    <tr>\n      <th>1450</th>\n      <td>exact</td>\n      <td>1</td>\n      <td>cifar--alpha0.1</td>\n      <td>0.1</td>\n      <td>6</td>\n      <td>0.10</td>\n      <td>0.8</td>\n      <td>NaN</td>\n      <td>NaN</td>\n      <td>0.589347</td>\n      <td>0.369565</td>\n      <td>0.144460</td>\n      <td>0.568931</td>\n      <td>0.633189</td>\n      <td>0.515152</td>\n      <td>0.119887</td>\n      <td>0.565931</td>\n      <td>0.606755</td>\n    </tr>\n    <tr>\n      <th>1040</th>\n      <td>fedavg</td>\n      <td>0</td>\n      <td>cifar--alpha0.1</td>\n      <td>0.1</td>\n      <td>6</td>\n      <td>0.10</td>\n      <td>NaN</td>\n      <td>NaN</td>\n      <td>NaN</td>\n      <td>0.594851</td>\n      <td>0.423423</td>\n      <td>0.146593</td>\n      <td>0.570317</td>\n      <td>0.641625</td>\n      <td>0.515406</td>\n      <td>0.117322</td>\n      <td>0.564013</td>\n      <td>0.615199</td>\n    </tr>\n    <tr>\n      <th>1041</th>\n      <td>fedavg</td>\n      <td>1</td>\n      <td>cifar--alpha0.1</td>\n      <td>0.1</td>\n      <td>6</td>\n      <td>0.10</td>\n      <td>NaN</td>\n      <td>NaN</td>\n      <td>NaN</td>\n      <td>0.590661</td>\n      <td>0.358696</td>\n      <td>0.150555</td>\n      <td>0.566829</td>\n      <td>0.625818</td>\n      <td>0.515152</td>\n      <td>0.109783</td>\n      <td>0.569408</td>\n      <td>0.601930</td>\n    </tr>\n    <tr>\n      <th>989</th>\n      <td>exact</td>\n      <td>0</td>\n      <td>cifar--alpha0.5</td>\n      <td>0.5</td>\n      <td>6</td>\n      <td>0.05</td>\n      <td>0.2</td>\n      <td>NaN</td>\n      <td>NaN</td>\n      <td>0.712724</td>\n      <td>0.615385</td>\n      <td>0.069776</td>\n      <td>0.714404</td>\n      <td>0.711504</td>\n      <td>0.608696</td>\n      <td>0.072264</td>\n      <td>0.711944</td>\n      <td>0.720452</td>\n    </tr>\n    <tr>\n      <th>1038</th>\n      <td>exact</td>\n      <td>1</td>\n      <td>cifar--alpha0.5</td>\n      <td>0.5</td>\n      <td>1</td>\n      <td>0.05</td>\n      <td>0.0</td>\n      <td>NaN</td>\n      <td>NaN</td>\n      <td>0.718009</td>\n      <td>0.639344</td>\n      <td>0.063321</td>\n      <td>0.712604</td>\n      <td>0.700924</td>\n      <td>0.633803</td>\n      <td>0.070719</td>\n      <td>0.713807</td>\n      <td>0.709147</td>\n    </tr>\n    <tr>\n      <th>523</th>\n      <td>fedavg</td>\n      <td>0</td>\n      <td>cifar--alpha0.5</td>\n      <td>0.5</td>\n      <td>6</td>\n      <td>0.05</td>\n      <td>NaN</td>\n      <td>NaN</td>\n      <td>NaN</td>\n      <td>0.703486</td>\n      <td>0.600000</td>\n      <td>0.071834</td>\n      <td>0.699693</td>\n      <td>0.694635</td>\n      <td>0.619718</td>\n      <td>0.052156</td>\n      <td>0.703005</td>\n      <td>0.700411</td>\n    </tr>\n    <tr>\n      <th>848</th>\n      <td>fedavg</td>\n      <td>1</td>\n      <td>cifar--alpha0.5</td>\n      <td>0.5</td>\n      <td>1</td>\n      <td>0.05</td>\n      <td>NaN</td>\n      <td>NaN</td>\n      <td>NaN</td>\n      <td>0.718009</td>\n      <td>0.639344</td>\n      <td>0.063321</td>\n      <td>0.712604</td>\n      <td>0.700924</td>\n      <td>0.633803</td>\n      <td>0.070719</td>\n      <td>0.713807</td>\n      <td>0.709147</td>\n    </tr>\n    <tr>\n      <th>508</th>\n      <td>exact</td>\n      <td>0</td>\n      <td>cifar--alpha5.0</td>\n      <td>5.0</td>\n      <td>1</td>\n      <td>0.05</td>\n      <td>0.0</td>\n      <td>NaN</td>\n      <td>NaN</td>\n      <td>0.744859</td>\n      <td>0.686047</td>\n      <td>0.044244</td>\n      <td>0.745662</td>\n      <td>0.740950</td>\n      <td>0.696629</td>\n      <td>0.034485</td>\n      <td>0.744619</td>\n      <td>0.741606</td>\n    </tr>\n    <tr>\n      <th>519</th>\n      <td>exact</td>\n      <td>1</td>\n      <td>cifar--alpha5.0</td>\n      <td>5.0</td>\n      <td>1</td>\n      <td>0.05</td>\n      <td>0.0</td>\n      <td>NaN</td>\n      <td>NaN</td>\n      <td>0.739490</td>\n      <td>0.681319</td>\n      <td>0.043870</td>\n      <td>0.744677</td>\n      <td>0.734124</td>\n      <td>0.677083</td>\n      <td>0.045635</td>\n      <td>0.739333</td>\n      <td>0.734793</td>\n    </tr>\n    <tr>\n      <th>318</th>\n      <td>fedavg</td>\n      <td>0</td>\n      <td>cifar--alpha5.0</td>\n      <td>5.0</td>\n      <td>1</td>\n      <td>0.05</td>\n      <td>NaN</td>\n      <td>NaN</td>\n      <td>NaN</td>\n      <td>0.744859</td>\n      <td>0.686047</td>\n      <td>0.044244</td>\n      <td>0.745662</td>\n      <td>0.740950</td>\n      <td>0.696629</td>\n      <td>0.034485</td>\n      <td>0.744619</td>\n      <td>0.741606</td>\n    </tr>\n    <tr>\n      <th>329</th>\n      <td>fedavg</td>\n      <td>1</td>\n      <td>cifar--alpha5.0</td>\n      <td>5.0</td>\n      <td>1</td>\n      <td>0.05</td>\n      <td>NaN</td>\n      <td>NaN</td>\n      <td>NaN</td>\n      <td>0.739490</td>\n      <td>0.681319</td>\n      <td>0.043870</td>\n      <td>0.744677</td>\n      <td>0.734124</td>\n      <td>0.677083</td>\n      <td>0.045635</td>\n      <td>0.739333</td>\n      <td>0.734793</td>\n    </tr>\n  </tbody>\n</table>\n</div>"
     },
     "execution_count": 65,
     "metadata": {},
     "output_type": "execute_result"
    }
   ],
   "source": [
    "## get best runs for each group\n",
    "# regardless of finetuning\n",
    "best_runs = subset_df.loc[\n",
    "    subset_df.groupby(['dataset', 'method', 'finetune']) \\\n",
    "    [validation_metric].idxmax()  # return index of max validation metric\n",
    "]\n",
    "\n",
    "# treat finetuning groups as seperate\n",
    "ft_yes = best_runs.loc[best_runs.finetune == 1]\n",
    "ft_no = best_runs.loc[best_runs.finetune == 0]\n",
    "\n",
    "#best_runs.loc[[method not in remove_methods for method in best_runs.method]].head(12)"
   ],
   "metadata": {
    "collapsed": false,
    "ExecuteTime": {
     "start_time": "2023-04-04T12:15:03.972107Z",
     "end_time": "2023-04-04T12:15:04.018844Z"
    }
   }
  },
  {
   "cell_type": "markdown",
   "source": [
    "For all best runs, regardless of finetuning, produce summaries"
   ],
   "metadata": {
    "collapsed": false
   }
  },
  {
   "cell_type": "code",
   "execution_count": 66,
   "outputs": [
    {
     "name": "stdout",
     "output_type": "stream",
     "text": [
      "all runs: (4, 4)\n",
      "all metrics: (3, 4)\n"
     ]
    }
   ],
   "source": [
    "# For existing users, FT since sufficient data\n",
    "seen_best_runs = ft_yes[[\n",
    "    name for name in ft_yes.columns\n",
    "    if (\n",
    "        not re.search('weighted', name)\n",
    "        and not re.search('unseen', name)\n",
    "    )\n",
    "    or (\n",
    "        not re.search('Results', name)\n",
    "        or re.search('val', name)\n",
    "    )\n",
    "]]\n",
    "if write_files:\n",
    "    helper.runs_to_latex(seen_best_runs, 'seen--ft_yes')\n",
    "\n",
    "(seen_run_summary, seen_metric_summary, seen_rank_summary) = helper.process_run_metrics(seen_best_runs)\n",
    "print('all runs:', seen_run_summary.shape)\n",
    "print('all metrics:', seen_metric_summary.shape)"
   ],
   "metadata": {
    "collapsed": false,
    "ExecuteTime": {
     "start_time": "2023-04-04T12:15:04.021837Z",
     "end_time": "2023-04-04T12:15:04.140181Z"
    }
   }
  },
  {
   "cell_type": "code",
   "execution_count": 67,
   "outputs": [
    {
     "data": {
      "text/plain": "                 rank_one_ind  rank_two_ind  rank_three_ind  value\nmethod finetune                                                   \nexact  1                    4             5               0      9\nfedavg 1                    5             2               2      9\npfedme 1                    4             0               2      6\nfedem  1                    0             0               3      3",
      "text/html": "<div>\n<style scoped>\n    .dataframe tbody tr th:only-of-type {\n        vertical-align: middle;\n    }\n\n    .dataframe tbody tr th {\n        vertical-align: top;\n    }\n\n    .dataframe thead th {\n        text-align: right;\n    }\n</style>\n<table border=\"1\" class=\"dataframe\">\n  <thead>\n    <tr style=\"text-align: right;\">\n      <th></th>\n      <th></th>\n      <th>rank_one_ind</th>\n      <th>rank_two_ind</th>\n      <th>rank_three_ind</th>\n      <th>value</th>\n    </tr>\n    <tr>\n      <th>method</th>\n      <th>finetune</th>\n      <th></th>\n      <th></th>\n      <th></th>\n      <th></th>\n    </tr>\n  </thead>\n  <tbody>\n    <tr>\n      <th>exact</th>\n      <th>1</th>\n      <td>4</td>\n      <td>5</td>\n      <td>0</td>\n      <td>9</td>\n    </tr>\n    <tr>\n      <th>fedavg</th>\n      <th>1</th>\n      <td>5</td>\n      <td>2</td>\n      <td>2</td>\n      <td>9</td>\n    </tr>\n    <tr>\n      <th>pfedme</th>\n      <th>1</th>\n      <td>4</td>\n      <td>0</td>\n      <td>2</td>\n      <td>6</td>\n    </tr>\n    <tr>\n      <th>fedem</th>\n      <th>1</th>\n      <td>0</td>\n      <td>0</td>\n      <td>3</td>\n      <td>3</td>\n    </tr>\n  </tbody>\n</table>\n</div>"
     },
     "execution_count": 67,
     "metadata": {},
     "output_type": "execute_result"
    }
   ],
   "source": [
    "# run summary\n",
    "seen_run_summary.sort_values(by='value', ascending=False)"
   ],
   "metadata": {
    "collapsed": false,
    "ExecuteTime": {
     "start_time": "2023-04-04T12:15:04.065335Z",
     "end_time": "2023-04-04T12:15:04.191068Z"
    }
   }
  },
  {
   "cell_type": "markdown",
   "source": [
    "View processed summaries"
   ],
   "metadata": {
    "collapsed": false
   }
  },
  {
   "cell_type": "code",
   "execution_count": 68,
   "outputs": [
    {
     "data": {
      "text/plain": "                                rank_one_ind  rank_two_ind  rank_three_ind  \\\nmetric                                                                       \nResults/test_acc_bottom_decile             2             1               0   \nResults/test_acc_std                       2             1               0   \nResults/test_acc                           0             3               0   \n\n                                value  \nmetric                                 \nResults/test_acc_bottom_decile      3  \nResults/test_acc_std                3  \nResults/test_acc                    3  ",
      "text/html": "<div>\n<style scoped>\n    .dataframe tbody tr th:only-of-type {\n        vertical-align: middle;\n    }\n\n    .dataframe tbody tr th {\n        vertical-align: top;\n    }\n\n    .dataframe thead th {\n        text-align: right;\n    }\n</style>\n<table border=\"1\" class=\"dataframe\">\n  <thead>\n    <tr style=\"text-align: right;\">\n      <th></th>\n      <th>rank_one_ind</th>\n      <th>rank_two_ind</th>\n      <th>rank_three_ind</th>\n      <th>value</th>\n    </tr>\n    <tr>\n      <th>metric</th>\n      <th></th>\n      <th></th>\n      <th></th>\n      <th></th>\n    </tr>\n  </thead>\n  <tbody>\n    <tr>\n      <th>Results/test_acc_bottom_decile</th>\n      <td>2</td>\n      <td>1</td>\n      <td>0</td>\n      <td>3</td>\n    </tr>\n    <tr>\n      <th>Results/test_acc_std</th>\n      <td>2</td>\n      <td>1</td>\n      <td>0</td>\n      <td>3</td>\n    </tr>\n    <tr>\n      <th>Results/test_acc</th>\n      <td>0</td>\n      <td>3</td>\n      <td>0</td>\n      <td>3</td>\n    </tr>\n  </tbody>\n</table>\n</div>"
     },
     "execution_count": 68,
     "metadata": {},
     "output_type": "execute_result"
    }
   ],
   "source": [
    "# metrics summary\n",
    "sort_by = ['value', 'rank_one_ind', 'rank_two_ind', 'rank_three_ind']\n",
    "seen_metric_summary.sort_values(by=sort_by, ascending=False)"
   ],
   "metadata": {
    "collapsed": false,
    "ExecuteTime": {
     "start_time": "2023-04-04T12:15:04.092043Z",
     "end_time": "2023-04-04T12:15:04.231279Z"
    }
   }
  },
  {
   "cell_type": "markdown",
   "source": [
    "Now seperately, based on finetuning status, repeat the above summary"
   ],
   "metadata": {
    "collapsed": false
   }
  },
  {
   "cell_type": "code",
   "execution_count": 69,
   "outputs": [],
   "source": [
    "unseen_best_runs = best_runs[[\n",
    "    name for name in ft_yes.columns\n",
    "    if (\n",
    "               not re.search('weighted', name)\n",
    "               and re.search('unseen', name)\n",
    "       )\n",
    "       or (\n",
    "               not re.search('Results', name)\n",
    "               or re.search('val', name)\n",
    "       )\n",
    "]]"
   ],
   "metadata": {
    "collapsed": false,
    "ExecuteTime": {
     "start_time": "2023-04-04T12:15:04.121032Z",
     "end_time": "2023-04-04T12:15:04.231279Z"
    }
   }
  },
  {
   "cell_type": "code",
   "execution_count": 70,
   "outputs": [],
   "source": [
    "ft_yes = unseen_best_runs.loc[unseen_best_runs.finetune == 1]\n",
    "ft_no = unseen_best_runs.loc[unseen_best_runs.finetune == 0]\n",
    "\n",
    "(yes_run_summary, yes_metric_summary, _) = helper.process_run_metrics(ft_yes)\n",
    "if write_files:\n",
    "    helper.runs_to_latex(ft_yes, 'unseen--ft_yes')\n",
    "\n",
    "(no_run_summary, no_metric_summary, _) = helper.process_run_metrics(ft_no)\n",
    "if write_files:\n",
    "    helper.runs_to_latex(ft_no, 'unseen--ft_no')"
   ],
   "metadata": {
    "collapsed": false,
    "ExecuteTime": {
     "start_time": "2023-04-04T12:15:04.139178Z",
     "end_time": "2023-04-04T12:15:04.368121Z"
    }
   }
  },
  {
   "cell_type": "code",
   "execution_count": 71,
   "outputs": [
    {
     "data": {
      "text/plain": "                 rank_one_ind  rank_two_ind  rank_three_ind  value\nmethod finetune                                                   \nexact  1                    7             1               1      9\nfedavg 1                    6             3               0      9\npfedme 1                    1             0               4      5\nfedem  1                    1             0               3      4",
      "text/html": "<div>\n<style scoped>\n    .dataframe tbody tr th:only-of-type {\n        vertical-align: middle;\n    }\n\n    .dataframe tbody tr th {\n        vertical-align: top;\n    }\n\n    .dataframe thead th {\n        text-align: right;\n    }\n</style>\n<table border=\"1\" class=\"dataframe\">\n  <thead>\n    <tr style=\"text-align: right;\">\n      <th></th>\n      <th></th>\n      <th>rank_one_ind</th>\n      <th>rank_two_ind</th>\n      <th>rank_three_ind</th>\n      <th>value</th>\n    </tr>\n    <tr>\n      <th>method</th>\n      <th>finetune</th>\n      <th></th>\n      <th></th>\n      <th></th>\n      <th></th>\n    </tr>\n  </thead>\n  <tbody>\n    <tr>\n      <th>exact</th>\n      <th>1</th>\n      <td>7</td>\n      <td>1</td>\n      <td>1</td>\n      <td>9</td>\n    </tr>\n    <tr>\n      <th>fedavg</th>\n      <th>1</th>\n      <td>6</td>\n      <td>3</td>\n      <td>0</td>\n      <td>9</td>\n    </tr>\n    <tr>\n      <th>pfedme</th>\n      <th>1</th>\n      <td>1</td>\n      <td>0</td>\n      <td>4</td>\n      <td>5</td>\n    </tr>\n    <tr>\n      <th>fedem</th>\n      <th>1</th>\n      <td>1</td>\n      <td>0</td>\n      <td>3</td>\n      <td>4</td>\n    </tr>\n  </tbody>\n</table>\n</div>"
     },
     "execution_count": 71,
     "metadata": {},
     "output_type": "execute_result"
    }
   ],
   "source": [
    "# run summary\n",
    "yes_run_summary.sort_values(by='value', ascending=False)"
   ],
   "metadata": {
    "collapsed": false,
    "ExecuteTime": {
     "start_time": "2023-04-04T12:15:04.216275Z",
     "end_time": "2023-04-04T12:15:04.369264Z"
    }
   }
  },
  {
   "cell_type": "code",
   "execution_count": 72,
   "outputs": [
    {
     "data": {
      "text/plain": "                                       rank_one_ind  rank_two_ind  \\\nmetric                                                              \nResults_unseen/test_acc                           3             0   \nResults_unseen/test_acc_bottom_decile             3             0   \nResults_unseen/test_acc_std                       1             1   \n\n                                       rank_three_ind  value  \nmetric                                                        \nResults_unseen/test_acc                             0      3  \nResults_unseen/test_acc_bottom_decile               0      3  \nResults_unseen/test_acc_std                         1      3  ",
      "text/html": "<div>\n<style scoped>\n    .dataframe tbody tr th:only-of-type {\n        vertical-align: middle;\n    }\n\n    .dataframe tbody tr th {\n        vertical-align: top;\n    }\n\n    .dataframe thead th {\n        text-align: right;\n    }\n</style>\n<table border=\"1\" class=\"dataframe\">\n  <thead>\n    <tr style=\"text-align: right;\">\n      <th></th>\n      <th>rank_one_ind</th>\n      <th>rank_two_ind</th>\n      <th>rank_three_ind</th>\n      <th>value</th>\n    </tr>\n    <tr>\n      <th>metric</th>\n      <th></th>\n      <th></th>\n      <th></th>\n      <th></th>\n    </tr>\n  </thead>\n  <tbody>\n    <tr>\n      <th>Results_unseen/test_acc</th>\n      <td>3</td>\n      <td>0</td>\n      <td>0</td>\n      <td>3</td>\n    </tr>\n    <tr>\n      <th>Results_unseen/test_acc_bottom_decile</th>\n      <td>3</td>\n      <td>0</td>\n      <td>0</td>\n      <td>3</td>\n    </tr>\n    <tr>\n      <th>Results_unseen/test_acc_std</th>\n      <td>1</td>\n      <td>1</td>\n      <td>1</td>\n      <td>3</td>\n    </tr>\n  </tbody>\n</table>\n</div>"
     },
     "execution_count": 72,
     "metadata": {},
     "output_type": "execute_result"
    }
   ],
   "source": [
    "# metrics summary\n",
    "yes_metric_summary.sort_values(by=sort_by, ascending=False)"
   ],
   "metadata": {
    "collapsed": false,
    "ExecuteTime": {
     "start_time": "2023-04-04T12:15:04.245599Z",
     "end_time": "2023-04-04T12:15:04.480904Z"
    }
   }
  },
  {
   "cell_type": "code",
   "execution_count": 73,
   "outputs": [
    {
     "data": {
      "text/plain": "                 rank_one_ind  rank_two_ind  rank_three_ind  value\nmethod finetune                                                   \nexact  0                    5             3               1      9\nfedavg 0                    6             2               1      9\nfedem  0                    1             2               5      8\nditto  0                    1             0               0      1",
      "text/html": "<div>\n<style scoped>\n    .dataframe tbody tr th:only-of-type {\n        vertical-align: middle;\n    }\n\n    .dataframe tbody tr th {\n        vertical-align: top;\n    }\n\n    .dataframe thead th {\n        text-align: right;\n    }\n</style>\n<table border=\"1\" class=\"dataframe\">\n  <thead>\n    <tr style=\"text-align: right;\">\n      <th></th>\n      <th></th>\n      <th>rank_one_ind</th>\n      <th>rank_two_ind</th>\n      <th>rank_three_ind</th>\n      <th>value</th>\n    </tr>\n    <tr>\n      <th>method</th>\n      <th>finetune</th>\n      <th></th>\n      <th></th>\n      <th></th>\n      <th></th>\n    </tr>\n  </thead>\n  <tbody>\n    <tr>\n      <th>exact</th>\n      <th>0</th>\n      <td>5</td>\n      <td>3</td>\n      <td>1</td>\n      <td>9</td>\n    </tr>\n    <tr>\n      <th>fedavg</th>\n      <th>0</th>\n      <td>6</td>\n      <td>2</td>\n      <td>1</td>\n      <td>9</td>\n    </tr>\n    <tr>\n      <th>fedem</th>\n      <th>0</th>\n      <td>1</td>\n      <td>2</td>\n      <td>5</td>\n      <td>8</td>\n    </tr>\n    <tr>\n      <th>ditto</th>\n      <th>0</th>\n      <td>1</td>\n      <td>0</td>\n      <td>0</td>\n      <td>1</td>\n    </tr>\n  </tbody>\n</table>\n</div>"
     },
     "execution_count": 73,
     "metadata": {},
     "output_type": "execute_result"
    }
   ],
   "source": [
    "# run summary\n",
    "no_run_summary.sort_values(by='value', ascending=False)"
   ],
   "metadata": {
    "collapsed": false,
    "ExecuteTime": {
     "start_time": "2023-04-04T12:15:04.275735Z",
     "end_time": "2023-04-04T12:15:04.518338Z"
    }
   }
  },
  {
   "cell_type": "code",
   "execution_count": 74,
   "outputs": [
    {
     "data": {
      "text/plain": "                                       rank_one_ind  rank_two_ind  \\\nmetric                                                              \nResults_unseen/test_acc                           2             1   \nResults_unseen/test_acc_bottom_decile             2             1   \nResults_unseen/test_acc_std                       1             1   \n\n                                       rank_three_ind  value  \nmetric                                                        \nResults_unseen/test_acc                             0      3  \nResults_unseen/test_acc_bottom_decile               0      3  \nResults_unseen/test_acc_std                         1      3  ",
      "text/html": "<div>\n<style scoped>\n    .dataframe tbody tr th:only-of-type {\n        vertical-align: middle;\n    }\n\n    .dataframe tbody tr th {\n        vertical-align: top;\n    }\n\n    .dataframe thead th {\n        text-align: right;\n    }\n</style>\n<table border=\"1\" class=\"dataframe\">\n  <thead>\n    <tr style=\"text-align: right;\">\n      <th></th>\n      <th>rank_one_ind</th>\n      <th>rank_two_ind</th>\n      <th>rank_three_ind</th>\n      <th>value</th>\n    </tr>\n    <tr>\n      <th>metric</th>\n      <th></th>\n      <th></th>\n      <th></th>\n      <th></th>\n    </tr>\n  </thead>\n  <tbody>\n    <tr>\n      <th>Results_unseen/test_acc</th>\n      <td>2</td>\n      <td>1</td>\n      <td>0</td>\n      <td>3</td>\n    </tr>\n    <tr>\n      <th>Results_unseen/test_acc_bottom_decile</th>\n      <td>2</td>\n      <td>1</td>\n      <td>0</td>\n      <td>3</td>\n    </tr>\n    <tr>\n      <th>Results_unseen/test_acc_std</th>\n      <td>1</td>\n      <td>1</td>\n      <td>1</td>\n      <td>3</td>\n    </tr>\n  </tbody>\n</table>\n</div>"
     },
     "execution_count": 74,
     "metadata": {},
     "output_type": "execute_result"
    }
   ],
   "source": [
    "# metrics summary\n",
    "no_metric_summary.sort_values(by=sort_by, ascending=False)"
   ],
   "metadata": {
    "collapsed": false,
    "ExecuteTime": {
     "start_time": "2023-04-04T12:15:04.301746Z",
     "end_time": "2023-04-04T12:15:04.518338Z"
    }
   }
  }
 ],
 "metadata": {
  "kernelspec": {
   "display_name": "Python 3",
   "language": "python",
   "name": "python3"
  },
  "language_info": {
   "codemirror_mode": {
    "name": "ipython",
    "version": 2
   },
   "file_extension": ".py",
   "mimetype": "text/x-python",
   "name": "python",
   "nbconvert_exporter": "python",
   "pygments_lexer": "ipython2",
   "version": "2.7.6"
  }
 },
 "nbformat": 4,
 "nbformat_minor": 0
}
