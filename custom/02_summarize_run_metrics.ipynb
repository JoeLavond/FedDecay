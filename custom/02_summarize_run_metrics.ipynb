{
 "cells": [
  {
   "cell_type": "markdown",
   "source": [
    "Import packages and processed run metrics"
   ],
   "metadata": {
    "collapsed": false
   }
  },
  {
   "cell_type": "code",
   "execution_count": 75,
   "metadata": {
    "collapsed": true,
    "ExecuteTime": {
     "start_time": "2023-04-04T14:09:26.381923Z",
     "end_time": "2023-04-04T14:09:26.420527Z"
    }
   },
   "outputs": [
    {
     "name": "stdout",
     "output_type": "stream",
     "text": [
      "input datasets:\n",
      "\t (520, 36)\n",
      "\t (520, 36)\n",
      "\t (520, 36)\n",
      "all runs: (1560, 35)\n"
     ]
    }
   ],
   "source": [
    "# packages\n",
    "import os\n",
    "import re\n",
    "import numpy as np\n",
    "import pandas as pd\n",
    "\n",
    "# source\n",
    "helper = __import__('00_helper')\n",
    "\n",
    "# control\n",
    "write_files = 0\n",
    "validation_metric = 'Results/val_acc'\n",
    "project_names = [\n",
    "    #'femnist--s02', 'sst2', 'pubmed'#,\n",
    "    'cifar--alpha5.0', 'cifar--alpha0.5', 'cifar--alpha0.1'\n",
    "]\n",
    "df = helper.load_data(project_names)\n",
    "\n",
    "## For CIFAR\n",
    "remove_methods = [\n",
    "    method for method in df.method.unique()\n",
    "    if method not in ['fedavg', 'exact']\n",
    "]\n"
   ]
  },
  {
   "cell_type": "markdown",
   "source": [
    "Filter data to runs of interest\n",
    "Apply summary function to filtered dataset"
   ],
   "metadata": {
    "collapsed": false
   }
  },
  {
   "cell_type": "code",
   "execution_count": 76,
   "outputs": [
    {
     "name": "stdout",
     "output_type": "stream",
     "text": [
      "input dataset: (1560, 35)\n",
      "\t reduce to 3 or fewer local update steps: (1230, 35)\n",
      "\t reduce to 3 or fewer local meta-learning steps for pfedme: (1230, 35)\n",
      "\t reduce beta grid for decay: (1080, 35)\n"
     ]
    }
   ],
   "source": [
    "subset_df = df\n",
    "print('input dataset:', df.shape)\n",
    "\n",
    "## row (run) filtering\n",
    "# remove extra hyper-parameter searches\n",
    "\n",
    "subset_df = subset_df.loc[(subset_df.n_epochs < 6)]\n",
    "print('\\t reduce to 3 or fewer local update steps:', subset_df.shape)\n",
    "\n",
    "subset_df = subset_df.loc[(subset_df.K < 6) | (subset_df.method != 'pfedme')]\n",
    "print('\\t reduce to 3 or fewer local meta-learning steps for pfedme:', subset_df.shape)\n",
    "\n",
    "subset_df = subset_df.loc[((10 * subset_df.beta).astype('Int64') % 2 == 0) | (subset_df.method != 'exact')]\n",
    "print('\\t reduce beta grid for decay:', subset_df.shape)\n",
    "\n",
    "## column (metric) filtering\n",
    "subset_df = subset_df[[\n",
    "    name for name in subset_df.columns\n",
    "    if (\n",
    "        not re.search('^sys', name)\n",
    "        and not re.search('f1', name)\n",
    "        and not re.search('loss', name)\n",
    "    )\n",
    "]]"
   ],
   "metadata": {
    "collapsed": false,
    "ExecuteTime": {
     "start_time": "2023-04-04T14:09:26.424892Z",
     "end_time": "2023-04-04T14:09:26.435687Z"
    }
   }
  },
  {
   "cell_type": "code",
   "execution_count": 77,
   "outputs": [
    {
     "data": {
      "text/plain": "      method  finetune          dataset  alpha  n_epochs    lr  beta  \\\n1472   exact         0  cifar--alpha0.1    0.1         3  0.05   0.8   \n1527   exact         1  cifar--alpha0.1    0.1         3  0.10   0.2   \n1352  fedavg         0  cifar--alpha0.1    0.1         3  0.05   NaN   \n1363  fedavg         1  cifar--alpha0.1    0.1         3  0.10   NaN   \n997    exact         0  cifar--alpha0.5    0.5         3  0.05   0.2   \n1038   exact         1  cifar--alpha0.5    0.5         1  0.05   0.0   \n838   fedavg         0  cifar--alpha0.5    0.5         1  0.05   NaN   \n848   fedavg         1  cifar--alpha0.5    0.5         1  0.05   NaN   \n508    exact         0  cifar--alpha5.0    5.0         1  0.05   0.0   \n519    exact         1  cifar--alpha5.0    5.0         1  0.05   0.0   \n318   fedavg         0  cifar--alpha5.0    5.0         1  0.05   NaN   \n329   fedavg         1  cifar--alpha5.0    5.0         1  0.05   NaN   \n\n      regular_weight   K  Results/test_acc  Results/test_acc_bottom_decile  \\\n1472             NaN NaN          0.587413                        0.390244   \n1527             NaN NaN          0.571335                        0.379487   \n1352             NaN NaN          0.591100                        0.402174   \n1363             NaN NaN          0.571918                        0.368421   \n997              NaN NaN          0.705931                        0.583333   \n1038             NaN NaN          0.718009                        0.639344   \n838              NaN NaN          0.691403                        0.596386   \n848              NaN NaN          0.718009                        0.639344   \n508              NaN NaN          0.744859                        0.686047   \n519              NaN NaN          0.739490                        0.681319   \n318              NaN NaN          0.744859                        0.686047   \n329              NaN NaN          0.739490                        0.681319   \n\n      Results/test_acc_std  Results/val_acc  Results_unseen/test_acc  \\\n1472              0.146089         0.554641                 0.633594   \n1527              0.154435         0.566214                 0.554705   \n1352              0.144218         0.553132                 0.629551   \n1363              0.173997         0.547393                 0.595288   \n997               0.076710         0.712262                 0.713004   \n1038              0.063321         0.712604                 0.700924   \n838               0.073875         0.695444                 0.701865   \n848               0.063321         0.712604                 0.700924   \n508               0.044244         0.745662                 0.740950   \n519               0.043870         0.744677                 0.734124   \n318               0.044244         0.745662                 0.740950   \n329               0.043870         0.744677                 0.734124   \n\n      Results_unseen/test_acc_bottom_decile  Results_unseen/test_acc_std  \\\n1472                               0.492958                     0.128820   \n1527                               0.403670                     0.117521   \n1352                               0.500000                     0.125442   \n1363                               0.378788                     0.167245   \n997                                0.640000                     0.061599   \n1038                               0.633803                     0.070719   \n838                                0.619718                     0.058571   \n848                                0.633803                     0.070719   \n508                                0.696629                     0.034485   \n519                                0.677083                     0.045635   \n318                                0.696629                     0.034485   \n329                                0.677083                     0.045635   \n\n      Results_weighted/test_acc  Results_weighted_unseen/test_acc  \n1472                   0.562935                          0.609771  \n1527                   0.554304                          0.599517  \n1352                   0.564013                          0.606755  \n1363                   0.549389                          0.556695  \n997                    0.705860                          0.718397  \n1038                   0.713807                          0.709147  \n838                    0.691458                          0.705550  \n848                    0.713807                          0.709147  \n508                    0.744619                          0.741606  \n519                    0.739333                          0.734793  \n318                    0.744619                          0.741606  \n329                    0.739333                          0.734793  ",
      "text/html": "<div>\n<style scoped>\n    .dataframe tbody tr th:only-of-type {\n        vertical-align: middle;\n    }\n\n    .dataframe tbody tr th {\n        vertical-align: top;\n    }\n\n    .dataframe thead th {\n        text-align: right;\n    }\n</style>\n<table border=\"1\" class=\"dataframe\">\n  <thead>\n    <tr style=\"text-align: right;\">\n      <th></th>\n      <th>method</th>\n      <th>finetune</th>\n      <th>dataset</th>\n      <th>alpha</th>\n      <th>n_epochs</th>\n      <th>lr</th>\n      <th>beta</th>\n      <th>regular_weight</th>\n      <th>K</th>\n      <th>Results/test_acc</th>\n      <th>Results/test_acc_bottom_decile</th>\n      <th>Results/test_acc_std</th>\n      <th>Results/val_acc</th>\n      <th>Results_unseen/test_acc</th>\n      <th>Results_unseen/test_acc_bottom_decile</th>\n      <th>Results_unseen/test_acc_std</th>\n      <th>Results_weighted/test_acc</th>\n      <th>Results_weighted_unseen/test_acc</th>\n    </tr>\n  </thead>\n  <tbody>\n    <tr>\n      <th>1472</th>\n      <td>exact</td>\n      <td>0</td>\n      <td>cifar--alpha0.1</td>\n      <td>0.1</td>\n      <td>3</td>\n      <td>0.05</td>\n      <td>0.8</td>\n      <td>NaN</td>\n      <td>NaN</td>\n      <td>0.587413</td>\n      <td>0.390244</td>\n      <td>0.146089</td>\n      <td>0.554641</td>\n      <td>0.633594</td>\n      <td>0.492958</td>\n      <td>0.128820</td>\n      <td>0.562935</td>\n      <td>0.609771</td>\n    </tr>\n    <tr>\n      <th>1527</th>\n      <td>exact</td>\n      <td>1</td>\n      <td>cifar--alpha0.1</td>\n      <td>0.1</td>\n      <td>3</td>\n      <td>0.10</td>\n      <td>0.2</td>\n      <td>NaN</td>\n      <td>NaN</td>\n      <td>0.571335</td>\n      <td>0.379487</td>\n      <td>0.154435</td>\n      <td>0.566214</td>\n      <td>0.554705</td>\n      <td>0.403670</td>\n      <td>0.117521</td>\n      <td>0.554304</td>\n      <td>0.599517</td>\n    </tr>\n    <tr>\n      <th>1352</th>\n      <td>fedavg</td>\n      <td>0</td>\n      <td>cifar--alpha0.1</td>\n      <td>0.1</td>\n      <td>3</td>\n      <td>0.05</td>\n      <td>NaN</td>\n      <td>NaN</td>\n      <td>NaN</td>\n      <td>0.591100</td>\n      <td>0.402174</td>\n      <td>0.144218</td>\n      <td>0.553132</td>\n      <td>0.629551</td>\n      <td>0.500000</td>\n      <td>0.125442</td>\n      <td>0.564013</td>\n      <td>0.606755</td>\n    </tr>\n    <tr>\n      <th>1363</th>\n      <td>fedavg</td>\n      <td>1</td>\n      <td>cifar--alpha0.1</td>\n      <td>0.1</td>\n      <td>3</td>\n      <td>0.10</td>\n      <td>NaN</td>\n      <td>NaN</td>\n      <td>NaN</td>\n      <td>0.571918</td>\n      <td>0.368421</td>\n      <td>0.173997</td>\n      <td>0.547393</td>\n      <td>0.595288</td>\n      <td>0.378788</td>\n      <td>0.167245</td>\n      <td>0.549389</td>\n      <td>0.556695</td>\n    </tr>\n    <tr>\n      <th>997</th>\n      <td>exact</td>\n      <td>0</td>\n      <td>cifar--alpha0.5</td>\n      <td>0.5</td>\n      <td>3</td>\n      <td>0.05</td>\n      <td>0.2</td>\n      <td>NaN</td>\n      <td>NaN</td>\n      <td>0.705931</td>\n      <td>0.583333</td>\n      <td>0.076710</td>\n      <td>0.712262</td>\n      <td>0.713004</td>\n      <td>0.640000</td>\n      <td>0.061599</td>\n      <td>0.705860</td>\n      <td>0.718397</td>\n    </tr>\n    <tr>\n      <th>1038</th>\n      <td>exact</td>\n      <td>1</td>\n      <td>cifar--alpha0.5</td>\n      <td>0.5</td>\n      <td>1</td>\n      <td>0.05</td>\n      <td>0.0</td>\n      <td>NaN</td>\n      <td>NaN</td>\n      <td>0.718009</td>\n      <td>0.639344</td>\n      <td>0.063321</td>\n      <td>0.712604</td>\n      <td>0.700924</td>\n      <td>0.633803</td>\n      <td>0.070719</td>\n      <td>0.713807</td>\n      <td>0.709147</td>\n    </tr>\n    <tr>\n      <th>838</th>\n      <td>fedavg</td>\n      <td>0</td>\n      <td>cifar--alpha0.5</td>\n      <td>0.5</td>\n      <td>1</td>\n      <td>0.05</td>\n      <td>NaN</td>\n      <td>NaN</td>\n      <td>NaN</td>\n      <td>0.691403</td>\n      <td>0.596386</td>\n      <td>0.073875</td>\n      <td>0.695444</td>\n      <td>0.701865</td>\n      <td>0.619718</td>\n      <td>0.058571</td>\n      <td>0.691458</td>\n      <td>0.705550</td>\n    </tr>\n    <tr>\n      <th>848</th>\n      <td>fedavg</td>\n      <td>1</td>\n      <td>cifar--alpha0.5</td>\n      <td>0.5</td>\n      <td>1</td>\n      <td>0.05</td>\n      <td>NaN</td>\n      <td>NaN</td>\n      <td>NaN</td>\n      <td>0.718009</td>\n      <td>0.639344</td>\n      <td>0.063321</td>\n      <td>0.712604</td>\n      <td>0.700924</td>\n      <td>0.633803</td>\n      <td>0.070719</td>\n      <td>0.713807</td>\n      <td>0.709147</td>\n    </tr>\n    <tr>\n      <th>508</th>\n      <td>exact</td>\n      <td>0</td>\n      <td>cifar--alpha5.0</td>\n      <td>5.0</td>\n      <td>1</td>\n      <td>0.05</td>\n      <td>0.0</td>\n      <td>NaN</td>\n      <td>NaN</td>\n      <td>0.744859</td>\n      <td>0.686047</td>\n      <td>0.044244</td>\n      <td>0.745662</td>\n      <td>0.740950</td>\n      <td>0.696629</td>\n      <td>0.034485</td>\n      <td>0.744619</td>\n      <td>0.741606</td>\n    </tr>\n    <tr>\n      <th>519</th>\n      <td>exact</td>\n      <td>1</td>\n      <td>cifar--alpha5.0</td>\n      <td>5.0</td>\n      <td>1</td>\n      <td>0.05</td>\n      <td>0.0</td>\n      <td>NaN</td>\n      <td>NaN</td>\n      <td>0.739490</td>\n      <td>0.681319</td>\n      <td>0.043870</td>\n      <td>0.744677</td>\n      <td>0.734124</td>\n      <td>0.677083</td>\n      <td>0.045635</td>\n      <td>0.739333</td>\n      <td>0.734793</td>\n    </tr>\n    <tr>\n      <th>318</th>\n      <td>fedavg</td>\n      <td>0</td>\n      <td>cifar--alpha5.0</td>\n      <td>5.0</td>\n      <td>1</td>\n      <td>0.05</td>\n      <td>NaN</td>\n      <td>NaN</td>\n      <td>NaN</td>\n      <td>0.744859</td>\n      <td>0.686047</td>\n      <td>0.044244</td>\n      <td>0.745662</td>\n      <td>0.740950</td>\n      <td>0.696629</td>\n      <td>0.034485</td>\n      <td>0.744619</td>\n      <td>0.741606</td>\n    </tr>\n    <tr>\n      <th>329</th>\n      <td>fedavg</td>\n      <td>1</td>\n      <td>cifar--alpha5.0</td>\n      <td>5.0</td>\n      <td>1</td>\n      <td>0.05</td>\n      <td>NaN</td>\n      <td>NaN</td>\n      <td>NaN</td>\n      <td>0.739490</td>\n      <td>0.681319</td>\n      <td>0.043870</td>\n      <td>0.744677</td>\n      <td>0.734124</td>\n      <td>0.677083</td>\n      <td>0.045635</td>\n      <td>0.739333</td>\n      <td>0.734793</td>\n    </tr>\n  </tbody>\n</table>\n</div>"
     },
     "execution_count": 77,
     "metadata": {},
     "output_type": "execute_result"
    }
   ],
   "source": [
    "## get best runs for each group\n",
    "# regardless of finetuning\n",
    "best_runs = subset_df.loc[\n",
    "    subset_df.groupby(['dataset', 'method', 'finetune']) \\\n",
    "    [validation_metric].idxmax()  # return index of max validation metric\n",
    "]\n",
    "\n",
    "# treat finetuning groups as seperate\n",
    "ft_yes = best_runs.loc[best_runs.finetune == 1]\n",
    "ft_no = best_runs.loc[best_runs.finetune == 0]\n",
    "\n",
    "best_runs.loc[[method not in remove_methods for method in best_runs.method]].head(12)"
   ],
   "metadata": {
    "collapsed": false,
    "ExecuteTime": {
     "start_time": "2023-04-04T14:09:26.440134Z",
     "end_time": "2023-04-04T14:09:26.516967Z"
    }
   }
  },
  {
   "cell_type": "markdown",
   "source": [
    "For all best runs, regardless of finetuning, produce summaries"
   ],
   "metadata": {
    "collapsed": false
   }
  },
  {
   "cell_type": "code",
   "execution_count": 78,
   "outputs": [
    {
     "name": "stdout",
     "output_type": "stream",
     "text": [
      "all runs: (4, 4)\n",
      "all metrics: (3, 4)\n"
     ]
    }
   ],
   "source": [
    "# For existing users, FT since sufficient data\n",
    "seen_best_runs = ft_yes[[\n",
    "    name for name in ft_yes.columns\n",
    "    if (\n",
    "        not re.search('weighted', name)\n",
    "        and not re.search('unseen', name)\n",
    "    )\n",
    "    or (\n",
    "        not re.search('Results', name)\n",
    "        or re.search('val', name)\n",
    "    )\n",
    "]]\n",
    "if write_files:\n",
    "    helper.runs_to_latex(seen_best_runs, 'seen--ft_yes')\n",
    "\n",
    "(seen_run_summary, seen_metric_summary, seen_rank_summary) = helper.process_run_metrics(seen_best_runs)\n",
    "print('all runs:', seen_run_summary.shape)\n",
    "print('all metrics:', seen_metric_summary.shape)"
   ],
   "metadata": {
    "collapsed": false,
    "ExecuteTime": {
     "start_time": "2023-04-04T14:09:26.470164Z",
     "end_time": "2023-04-04T14:09:26.519091Z"
    }
   }
  },
  {
   "cell_type": "code",
   "execution_count": 79,
   "outputs": [
    {
     "data": {
      "text/plain": "                 rank_one_ind  rank_two_ind  rank_three_ind  value\nmethod finetune                                                   \nexact  1                    4             4               1      9\nfedavg 1                    4             3               2      9\npfedme 1                    5             0               1      6\nfedem  1                    0             0               3      3",
      "text/html": "<div>\n<style scoped>\n    .dataframe tbody tr th:only-of-type {\n        vertical-align: middle;\n    }\n\n    .dataframe tbody tr th {\n        vertical-align: top;\n    }\n\n    .dataframe thead th {\n        text-align: right;\n    }\n</style>\n<table border=\"1\" class=\"dataframe\">\n  <thead>\n    <tr style=\"text-align: right;\">\n      <th></th>\n      <th></th>\n      <th>rank_one_ind</th>\n      <th>rank_two_ind</th>\n      <th>rank_three_ind</th>\n      <th>value</th>\n    </tr>\n    <tr>\n      <th>method</th>\n      <th>finetune</th>\n      <th></th>\n      <th></th>\n      <th></th>\n      <th></th>\n    </tr>\n  </thead>\n  <tbody>\n    <tr>\n      <th>exact</th>\n      <th>1</th>\n      <td>4</td>\n      <td>4</td>\n      <td>1</td>\n      <td>9</td>\n    </tr>\n    <tr>\n      <th>fedavg</th>\n      <th>1</th>\n      <td>4</td>\n      <td>3</td>\n      <td>2</td>\n      <td>9</td>\n    </tr>\n    <tr>\n      <th>pfedme</th>\n      <th>1</th>\n      <td>5</td>\n      <td>0</td>\n      <td>1</td>\n      <td>6</td>\n    </tr>\n    <tr>\n      <th>fedem</th>\n      <th>1</th>\n      <td>0</td>\n      <td>0</td>\n      <td>3</td>\n      <td>3</td>\n    </tr>\n  </tbody>\n</table>\n</div>"
     },
     "execution_count": 79,
     "metadata": {},
     "output_type": "execute_result"
    }
   ],
   "source": [
    "# run summary\n",
    "seen_run_summary.sort_values(by='value', ascending=False)"
   ],
   "metadata": {
    "collapsed": false,
    "ExecuteTime": {
     "start_time": "2023-04-04T14:09:26.500497Z",
     "end_time": "2023-04-04T14:09:26.520249Z"
    }
   }
  },
  {
   "cell_type": "markdown",
   "source": [
    "View processed summaries"
   ],
   "metadata": {
    "collapsed": false
   }
  },
  {
   "cell_type": "code",
   "execution_count": 80,
   "outputs": [
    {
     "data": {
      "text/plain": "                                rank_one_ind  rank_two_ind  rank_three_ind  \\\nmetric                                                                       \nResults/test_acc_bottom_decile             2             1               0   \nResults/test_acc_std                       2             1               0   \nResults/test_acc                           0             2               1   \n\n                                value  \nmetric                                 \nResults/test_acc_bottom_decile      3  \nResults/test_acc_std                3  \nResults/test_acc                    3  ",
      "text/html": "<div>\n<style scoped>\n    .dataframe tbody tr th:only-of-type {\n        vertical-align: middle;\n    }\n\n    .dataframe tbody tr th {\n        vertical-align: top;\n    }\n\n    .dataframe thead th {\n        text-align: right;\n    }\n</style>\n<table border=\"1\" class=\"dataframe\">\n  <thead>\n    <tr style=\"text-align: right;\">\n      <th></th>\n      <th>rank_one_ind</th>\n      <th>rank_two_ind</th>\n      <th>rank_three_ind</th>\n      <th>value</th>\n    </tr>\n    <tr>\n      <th>metric</th>\n      <th></th>\n      <th></th>\n      <th></th>\n      <th></th>\n    </tr>\n  </thead>\n  <tbody>\n    <tr>\n      <th>Results/test_acc_bottom_decile</th>\n      <td>2</td>\n      <td>1</td>\n      <td>0</td>\n      <td>3</td>\n    </tr>\n    <tr>\n      <th>Results/test_acc_std</th>\n      <td>2</td>\n      <td>1</td>\n      <td>0</td>\n      <td>3</td>\n    </tr>\n    <tr>\n      <th>Results/test_acc</th>\n      <td>0</td>\n      <td>2</td>\n      <td>1</td>\n      <td>3</td>\n    </tr>\n  </tbody>\n</table>\n</div>"
     },
     "execution_count": 80,
     "metadata": {},
     "output_type": "execute_result"
    }
   ],
   "source": [
    "# metrics summary\n",
    "sort_by = ['value', 'rank_one_ind', 'rank_two_ind', 'rank_three_ind']\n",
    "seen_metric_summary.sort_values(by=sort_by, ascending=False)"
   ],
   "metadata": {
    "collapsed": false,
    "ExecuteTime": {
     "start_time": "2023-04-04T14:09:26.514463Z",
     "end_time": "2023-04-04T14:09:26.540182Z"
    }
   }
  },
  {
   "cell_type": "markdown",
   "source": [
    "Now seperately, based on finetuning status, repeat the above summary"
   ],
   "metadata": {
    "collapsed": false
   }
  },
  {
   "cell_type": "code",
   "execution_count": 81,
   "outputs": [],
   "source": [
    "unseen_best_runs = best_runs[[\n",
    "    name for name in ft_yes.columns\n",
    "    if (\n",
    "               not re.search('weighted', name)\n",
    "               and re.search('unseen', name)\n",
    "       )\n",
    "       or (\n",
    "               not re.search('Results', name)\n",
    "               or re.search('val', name)\n",
    "       )\n",
    "]]"
   ],
   "metadata": {
    "collapsed": false,
    "ExecuteTime": {
     "start_time": "2023-04-04T14:09:26.529857Z",
     "end_time": "2023-04-04T14:09:26.594583Z"
    }
   }
  },
  {
   "cell_type": "code",
   "execution_count": 82,
   "outputs": [],
   "source": [
    "ft_yes = unseen_best_runs.loc[unseen_best_runs.finetune == 1]\n",
    "ft_no = unseen_best_runs.loc[unseen_best_runs.finetune == 0]\n",
    "\n",
    "(yes_run_summary, yes_metric_summary, _) = helper.process_run_metrics(ft_yes)\n",
    "if write_files:\n",
    "    helper.runs_to_latex(ft_yes, 'unseen--ft_yes')\n",
    "\n",
    "(no_run_summary, no_metric_summary, _) = helper.process_run_metrics(ft_no)\n",
    "if write_files:\n",
    "    helper.runs_to_latex(ft_no, 'unseen--ft_no')"
   ],
   "metadata": {
    "collapsed": false,
    "ExecuteTime": {
     "start_time": "2023-04-04T14:09:26.547390Z",
     "end_time": "2023-04-04T14:09:26.755031Z"
    }
   }
  },
  {
   "cell_type": "code",
   "execution_count": 83,
   "outputs": [
    {
     "data": {
      "text/plain": "                 rank_one_ind  rank_two_ind  rank_three_ind  value\nmethod finetune                                                   \nexact  1                    5             2               1      8\nfedavg 1                    6             1               0      7\nfedem  1                    1             2               3      6\npfedme 1                    2             0               4      6",
      "text/html": "<div>\n<style scoped>\n    .dataframe tbody tr th:only-of-type {\n        vertical-align: middle;\n    }\n\n    .dataframe tbody tr th {\n        vertical-align: top;\n    }\n\n    .dataframe thead th {\n        text-align: right;\n    }\n</style>\n<table border=\"1\" class=\"dataframe\">\n  <thead>\n    <tr style=\"text-align: right;\">\n      <th></th>\n      <th></th>\n      <th>rank_one_ind</th>\n      <th>rank_two_ind</th>\n      <th>rank_three_ind</th>\n      <th>value</th>\n    </tr>\n    <tr>\n      <th>method</th>\n      <th>finetune</th>\n      <th></th>\n      <th></th>\n      <th></th>\n      <th></th>\n    </tr>\n  </thead>\n  <tbody>\n    <tr>\n      <th>exact</th>\n      <th>1</th>\n      <td>5</td>\n      <td>2</td>\n      <td>1</td>\n      <td>8</td>\n    </tr>\n    <tr>\n      <th>fedavg</th>\n      <th>1</th>\n      <td>6</td>\n      <td>1</td>\n      <td>0</td>\n      <td>7</td>\n    </tr>\n    <tr>\n      <th>fedem</th>\n      <th>1</th>\n      <td>1</td>\n      <td>2</td>\n      <td>3</td>\n      <td>6</td>\n    </tr>\n    <tr>\n      <th>pfedme</th>\n      <th>1</th>\n      <td>2</td>\n      <td>0</td>\n      <td>4</td>\n      <td>6</td>\n    </tr>\n  </tbody>\n</table>\n</div>"
     },
     "execution_count": 83,
     "metadata": {},
     "output_type": "execute_result"
    }
   ],
   "source": [
    "# run summary\n",
    "yes_run_summary.sort_values(by='value', ascending=False)"
   ],
   "metadata": {
    "collapsed": false,
    "ExecuteTime": {
     "start_time": "2023-04-04T14:09:26.607535Z",
     "end_time": "2023-04-04T14:09:26.800897Z"
    }
   }
  },
  {
   "cell_type": "code",
   "execution_count": 84,
   "outputs": [
    {
     "data": {
      "text/plain": "                                       rank_one_ind  rank_two_ind  \\\nmetric                                                              \nResults_unseen/test_acc_bottom_decile             2             0   \nResults_unseen/test_acc_std                       1             2   \nResults_unseen/test_acc                           2             0   \n\n                                       rank_three_ind  value  \nmetric                                                        \nResults_unseen/test_acc_bottom_decile               1      3  \nResults_unseen/test_acc_std                         0      3  \nResults_unseen/test_acc                             0      2  ",
      "text/html": "<div>\n<style scoped>\n    .dataframe tbody tr th:only-of-type {\n        vertical-align: middle;\n    }\n\n    .dataframe tbody tr th {\n        vertical-align: top;\n    }\n\n    .dataframe thead th {\n        text-align: right;\n    }\n</style>\n<table border=\"1\" class=\"dataframe\">\n  <thead>\n    <tr style=\"text-align: right;\">\n      <th></th>\n      <th>rank_one_ind</th>\n      <th>rank_two_ind</th>\n      <th>rank_three_ind</th>\n      <th>value</th>\n    </tr>\n    <tr>\n      <th>metric</th>\n      <th></th>\n      <th></th>\n      <th></th>\n      <th></th>\n    </tr>\n  </thead>\n  <tbody>\n    <tr>\n      <th>Results_unseen/test_acc_bottom_decile</th>\n      <td>2</td>\n      <td>0</td>\n      <td>1</td>\n      <td>3</td>\n    </tr>\n    <tr>\n      <th>Results_unseen/test_acc_std</th>\n      <td>1</td>\n      <td>2</td>\n      <td>0</td>\n      <td>3</td>\n    </tr>\n    <tr>\n      <th>Results_unseen/test_acc</th>\n      <td>2</td>\n      <td>0</td>\n      <td>0</td>\n      <td>2</td>\n    </tr>\n  </tbody>\n</table>\n</div>"
     },
     "execution_count": 84,
     "metadata": {},
     "output_type": "execute_result"
    }
   ],
   "source": [
    "# metrics summary\n",
    "yes_metric_summary.sort_values(by=sort_by, ascending=False)"
   ],
   "metadata": {
    "collapsed": false,
    "ExecuteTime": {
     "start_time": "2023-04-04T14:09:26.623256Z",
     "end_time": "2023-04-04T14:09:26.812827Z"
    }
   }
  },
  {
   "cell_type": "code",
   "execution_count": 85,
   "outputs": [
    {
     "data": {
      "text/plain": "                 rank_one_ind  rank_two_ind  rank_three_ind  value\nmethod finetune                                                   \nfedavg 0                    4             2               3      9\nexact  0                    5             2               1      8\nfedem  0                    2             1               5      8\nditto  0                    1             0               0      1\npfedme 0                    0             1               0      1",
      "text/html": "<div>\n<style scoped>\n    .dataframe tbody tr th:only-of-type {\n        vertical-align: middle;\n    }\n\n    .dataframe tbody tr th {\n        vertical-align: top;\n    }\n\n    .dataframe thead th {\n        text-align: right;\n    }\n</style>\n<table border=\"1\" class=\"dataframe\">\n  <thead>\n    <tr style=\"text-align: right;\">\n      <th></th>\n      <th></th>\n      <th>rank_one_ind</th>\n      <th>rank_two_ind</th>\n      <th>rank_three_ind</th>\n      <th>value</th>\n    </tr>\n    <tr>\n      <th>method</th>\n      <th>finetune</th>\n      <th></th>\n      <th></th>\n      <th></th>\n      <th></th>\n    </tr>\n  </thead>\n  <tbody>\n    <tr>\n      <th>fedavg</th>\n      <th>0</th>\n      <td>4</td>\n      <td>2</td>\n      <td>3</td>\n      <td>9</td>\n    </tr>\n    <tr>\n      <th>exact</th>\n      <th>0</th>\n      <td>5</td>\n      <td>2</td>\n      <td>1</td>\n      <td>8</td>\n    </tr>\n    <tr>\n      <th>fedem</th>\n      <th>0</th>\n      <td>2</td>\n      <td>1</td>\n      <td>5</td>\n      <td>8</td>\n    </tr>\n    <tr>\n      <th>ditto</th>\n      <th>0</th>\n      <td>1</td>\n      <td>0</td>\n      <td>0</td>\n      <td>1</td>\n    </tr>\n    <tr>\n      <th>pfedme</th>\n      <th>0</th>\n      <td>0</td>\n      <td>1</td>\n      <td>0</td>\n      <td>1</td>\n    </tr>\n  </tbody>\n</table>\n</div>"
     },
     "execution_count": 85,
     "metadata": {},
     "output_type": "execute_result"
    }
   ],
   "source": [
    "# run summary\n",
    "no_run_summary.sort_values(by='value', ascending=False)"
   ],
   "metadata": {
    "collapsed": false,
    "ExecuteTime": {
     "start_time": "2023-04-04T14:09:26.637399Z",
     "end_time": "2023-04-04T14:09:26.853198Z"
    }
   }
  },
  {
   "cell_type": "code",
   "execution_count": 86,
   "outputs": [
    {
     "data": {
      "text/plain": "                                       rank_one_ind  rank_two_ind  \\\nmetric                                                              \nResults_unseen/test_acc                           2             1   \nResults_unseen/test_acc_bottom_decile             2             0   \nResults_unseen/test_acc_std                       1             1   \n\n                                       rank_three_ind  value  \nmetric                                                        \nResults_unseen/test_acc                             0      3  \nResults_unseen/test_acc_bottom_decile               1      3  \nResults_unseen/test_acc_std                         0      2  ",
      "text/html": "<div>\n<style scoped>\n    .dataframe tbody tr th:only-of-type {\n        vertical-align: middle;\n    }\n\n    .dataframe tbody tr th {\n        vertical-align: top;\n    }\n\n    .dataframe thead th {\n        text-align: right;\n    }\n</style>\n<table border=\"1\" class=\"dataframe\">\n  <thead>\n    <tr style=\"text-align: right;\">\n      <th></th>\n      <th>rank_one_ind</th>\n      <th>rank_two_ind</th>\n      <th>rank_three_ind</th>\n      <th>value</th>\n    </tr>\n    <tr>\n      <th>metric</th>\n      <th></th>\n      <th></th>\n      <th></th>\n      <th></th>\n    </tr>\n  </thead>\n  <tbody>\n    <tr>\n      <th>Results_unseen/test_acc</th>\n      <td>2</td>\n      <td>1</td>\n      <td>0</td>\n      <td>3</td>\n    </tr>\n    <tr>\n      <th>Results_unseen/test_acc_bottom_decile</th>\n      <td>2</td>\n      <td>0</td>\n      <td>1</td>\n      <td>3</td>\n    </tr>\n    <tr>\n      <th>Results_unseen/test_acc_std</th>\n      <td>1</td>\n      <td>1</td>\n      <td>0</td>\n      <td>2</td>\n    </tr>\n  </tbody>\n</table>\n</div>"
     },
     "execution_count": 86,
     "metadata": {},
     "output_type": "execute_result"
    }
   ],
   "source": [
    "# metrics summary\n",
    "no_metric_summary.sort_values(by=sort_by, ascending=False)"
   ],
   "metadata": {
    "collapsed": false,
    "ExecuteTime": {
     "start_time": "2023-04-04T14:09:26.653387Z",
     "end_time": "2023-04-04T14:09:26.853198Z"
    }
   }
  }
 ],
 "metadata": {
  "kernelspec": {
   "display_name": "Python 3",
   "language": "python",
   "name": "python3"
  },
  "language_info": {
   "codemirror_mode": {
    "name": "ipython",
    "version": 2
   },
   "file_extension": ".py",
   "mimetype": "text/x-python",
   "name": "python",
   "nbconvert_exporter": "python",
   "pygments_lexer": "ipython2",
   "version": "2.7.6"
  }
 },
 "nbformat": 4,
 "nbformat_minor": 0
}
