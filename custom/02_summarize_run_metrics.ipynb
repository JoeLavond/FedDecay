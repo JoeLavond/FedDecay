{
 "cells": [
  {
   "cell_type": "markdown",
   "source": [
    "Import packages and processed run metrics"
   ],
   "metadata": {
    "collapsed": false
   }
  },
  {
   "cell_type": "code",
   "execution_count": 1,
   "metadata": {
    "collapsed": true
   },
   "outputs": [],
   "source": [
    "import re\n",
    "import pandas as pd\n",
    "df = pd.read_csv('final_run_metrics.csv')\n",
    "validation_metric = 'Results/val_acc'"
   ]
  },
  {
   "cell_type": "markdown",
   "source": [
    "Filter data to runs of interest"
   ],
   "metadata": {
    "collapsed": false
   }
  },
  {
   "cell_type": "code",
   "execution_count": 2,
   "outputs": [],
   "source": [
    "filtered_df = df.loc[(df.n_epochs < 6)]"
   ],
   "metadata": {
    "collapsed": false
   }
  },
  {
   "cell_type": "markdown",
   "source": [
    "Write function to return summaries of run's metric performance"
   ],
   "metadata": {
    "collapsed": false
   }
  },
  {
   "cell_type": "code",
   "execution_count": 3,
   "outputs": [],
   "source": [
    "# get best runs for each group\n",
    "idx = filtered_df.groupby(['dataset', 'method', 'finetune']) \\\n",
    "    [validation_metric].idxmax()  # return index of max validation metric\n",
    "filtered_df = df.loc[idx]\n",
    "\n",
    "## Process metrics and get top runs for each\n",
    "# are large or small metric values are desirable?\n",
    "descending_metrics = [name for name in filtered_df.columns if re.match('Results', name)]\n",
    "ascending_metrics = [\n",
    "    descending_metrics.pop(descending_metrics.index(name))\n",
    "    for name in descending_metrics\n",
    "    if re.search('std', name)\n",
    "]\n",
    "\n",
    "# all non-metrics columns are used to identify the experimental run\n",
    "filtered_runs = filtered_df[[\n",
    "    name for name in filtered_df.columns\n",
    "    if name not in descending_metrics + ascending_metrics\n",
    "]]\n",
    "\n",
    "# rank the metrics\n",
    "ranked_descending = filtered_df[descending_metrics].rank(\n",
    "    method='first',\n",
    "    ascending=False\n",
    ")\n",
    "ranked_ascending = filtered_df[ascending_metrics].rank(\n",
    "    method='first',\n",
    "    ascending=True\n",
    ")\n",
    "\n",
    "# combine and sort the ranked_metrics\n",
    "ranked_metrics = pd.concat([ranked_descending, ranked_ascending], axis=1)\n",
    "ranked_metrics = ranked_metrics[sorted(ranked_metrics.columns)]\n",
    "filtered_ranks = filtered_runs.join(ranked_metrics)\n"
   ],
   "metadata": {
    "collapsed": false
   }
  },
  {
   "cell_type": "code",
   "execution_count": 9,
   "outputs": [],
   "source": [
    "(ranked_metrics == 1).sum(axis = 1)"
   ],
   "metadata": {
    "collapsed": false
   }
  },
  {
   "cell_type": "code",
   "execution_count": null,
   "outputs": [],
   "source": [
    "def process_run_metrics(df):\n",
    "    pass\n",
    "\n",
    "\"\"\"\n",
    "    # get best runs for each group\n",
    "    idx = df.groupby(['dataset', 'method', 'finetune']) \\\n",
    "        [validation_metric].idxmax()  # return index of max validation metric\n",
    "    filtered_df = df.loc[idx]\n",
    "\n",
    "    ## Process metrics and get top runs for each\n",
    "    # are large or small metric values are desirable?\n",
    "    descending_metrics = [name for name in filtered_df.columns if re.match('Results', name)]\n",
    "    ascending_metrics = [\n",
    "        descending_metrics.pop(descending_metrics.index(name))\n",
    "        for name in descending_metrics\n",
    "        if re.search('std', name)\n",
    "    ]\n",
    "\n",
    "    # all non-metrics columns are used to identify the experimental run\n",
    "    filtered_runs = filtered_df[[\n",
    "        name for name in filtered_df.columns\n",
    "        if name not in descending_metrics + ascending_metrics\n",
    "    ]]\n",
    "\n",
    "    # rank the metrics\n",
    "    ranked_descending = filtered_df[descending_metrics].rank(\n",
    "        method='first',\n",
    "        ascending=False\n",
    "    )\n",
    "    ranked_ascending = filtered_df[ascending_metrics].rank(\n",
    "        method='first',\n",
    "        ascending=True\n",
    "    )\n",
    "\n",
    "    # combine and sort the ranked_metrics\n",
    "    ranked_metrics = pd.concat([ranked_descending, ranked_ascending], axis=1)\n",
    "    ranked_metrics = ranked_metrics[sorted(ranked_metrics.columns)]\n",
    "    filtered_ranks = filtered_runs.join(ranked_metrics)\n",
    "\n",
    "    return (\n",
    "        filtered_ranks,\n",
    "        filtered_df\n",
    "    )\n",
    "\"\"\"\n",
    "\n"
   ],
   "metadata": {
    "collapsed": false
   }
  }
 ],
 "metadata": {
  "kernelspec": {
   "display_name": "Python 3",
   "language": "python",
   "name": "python3"
  },
  "language_info": {
   "codemirror_mode": {
    "name": "ipython",
    "version": 2
   },
   "file_extension": ".py",
   "mimetype": "text/x-python",
   "name": "python",
   "nbconvert_exporter": "python",
   "pygments_lexer": "ipython2",
   "version": "2.7.6"
  }
 },
 "nbformat": 4,
 "nbformat_minor": 0
}
