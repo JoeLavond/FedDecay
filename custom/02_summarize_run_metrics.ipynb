{
 "cells": [
  {
   "cell_type": "markdown",
   "source": [
    "Import packages and processed run metrics"
   ],
   "metadata": {
    "collapsed": false
   }
  },
  {
   "cell_type": "code",
   "execution_count": 96,
   "metadata": {
    "collapsed": true
   },
   "outputs": [
    {
     "name": "stdout",
     "output_type": "stream",
     "text": [
      "(1201, 36)\n",
      "(780, 28)\n",
      "(560, 27)\n",
      "(520, 27)\n",
      "(520, 27)\n",
      "\n",
      "all runs: (3581, 37)\n"
     ]
    }
   ],
   "source": [
    "# packages\n",
    "import re\n",
    "import numpy as np\n",
    "import pandas as pd\n",
    "\n",
    "# control\n",
    "project_names = [\n",
    "    'decay--sst2',\n",
    "    'decay--pubmed',\n",
    "    'decay--cifar--alpha5.0',\n",
    "    'decay--cifar--alpha0.5',\n",
    "    'decay--cifar--alpha0.1'\n",
    "]\n",
    "validation_metric = 'Results/val_acc'\n",
    "\n",
    "# read each data set\n",
    "df = []\n",
    "for project_name in project_names:\n",
    "    temp = pd.read_csv(f'{project_name}.csv')\n",
    "    print(temp.shape)\n",
    "    df.append(temp)\n",
    "\n",
    "df = pd.concat(df, axis=0, ignore_index=True)\n",
    "print()\n",
    "print('all runs:', df.shape)"
   ]
  },
  {
   "cell_type": "markdown",
   "source": [
    "Write function to return summaries of run's metric performance"
   ],
   "metadata": {
    "collapsed": false
   }
  },
  {
   "cell_type": "code",
   "execution_count": 97,
   "outputs": [],
   "source": [
    "def process_run_metrics(filtered_df, method='exact'):\n",
    "    pass\n",
    "\n",
    "\n",
    "    ## Process metrics and get top runs for each\n",
    "    # are large or small metric values are desirable?\n",
    "    descending_metrics = [name for name in filtered_df.columns if re.search('Results.*test', name)]\n",
    "    ascending_metrics = [\n",
    "        descending_metrics.pop(descending_metrics.index(name))\n",
    "        for name in descending_metrics\n",
    "        if re.search('std', name)\n",
    "    ]\n",
    "    print('metrics:')\n",
    "    print('\\t', descending_metrics)\n",
    "    print('\\t', ascending_metrics)\n",
    "\n",
    "    # convert metrics to numeric\n",
    "    #filtered_df[descending_metrics + ascending_metrics] = filtered_df[descending_metrics + ascending_metrics].apply(pd.to_numeric)\n",
    "\n",
    "    # all non-metrics columns are used to identify the experimental run\n",
    "    filtered_runs = filtered_df[[\n",
    "        name for name in filtered_df.columns\n",
    "        if name not in descending_metrics + ascending_metrics\n",
    "    ]]\n",
    "\n",
    "    # rank the metrics\n",
    "    ranked_descending = filtered_df.groupby(['dataset'])[descending_metrics].rank(\n",
    "        method='min',\n",
    "        ascending=False\n",
    "    )\n",
    "    ranked_ascending = filtered_df.groupby(['dataset'])[ascending_metrics].rank(\n",
    "        method='min',\n",
    "        ascending=True\n",
    "    )\n",
    "\n",
    "    # combine and sort the ranked_metrics\n",
    "    ranked_metrics = pd.concat([ranked_descending, ranked_ascending], axis=1)\n",
    "    ranked_metrics = ranked_metrics[sorted(ranked_metrics.columns)]\n",
    "    filtered_ranks = filtered_runs.join(ranked_metrics)\n",
    "\n",
    "\n",
    "    ## Manipulate rank data to be summarized by runs and metrics\n",
    "    # convert to long format\n",
    "    # filter to top ranks\n",
    "    long_filtered_ranks = pd.melt(filtered_ranks, id_vars=filtered_runs.columns, var_name='metric')\n",
    "    top_filtered_metrics = long_filtered_ranks.loc[long_filtered_ranks.value <= 3].copy()  # top 3 runs\n",
    "\n",
    "    # compute rank summaries to understand what runs are top overall\n",
    "    top_filtered_metrics['rank_one_ind'] = (top_filtered_metrics.value == 1)\n",
    "    top_filtered_metrics['rank_two_ind'] = (top_filtered_metrics.value == 2)\n",
    "    top_filtered_metrics['rank_three_ind'] = (top_filtered_metrics.value == 3)\n",
    "    top_filtered_metrics.replace(False, pd.NA, inplace=True)\n",
    "\n",
    "    # summarized metric ranks for run type\n",
    "    rank_summary_columns = ['rank_one_ind', 'rank_two_ind', 'rank_three_ind', 'value']\n",
    "    #id_columns = ['dataset', 'method', 'finetune']\n",
    "    id_columns = ['method', 'finetune']\n",
    "    run_summary = top_filtered_metrics.groupby(id_columns)[rank_summary_columns].count()\n",
    "\n",
    "    # summarize metric ranks for metric choice\n",
    "    metric_summary = top_filtered_metrics.loc[top_filtered_metrics.method == method]\n",
    "    metric_summary = metric_summary.sort_values(by='metric').groupby('metric')[rank_summary_columns].count()\n",
    "\n",
    "    return (\n",
    "        run_summary,\n",
    "        metric_summary,\n",
    "        filtered_runs\n",
    "    )\n"
   ],
   "metadata": {
    "collapsed": false
   }
  },
  {
   "cell_type": "markdown",
   "source": [
    "Filter data to runs of interest\n",
    "Apply summary function to filtered dataset"
   ],
   "metadata": {
    "collapsed": false
   }
  },
  {
   "cell_type": "code",
   "execution_count": 0,
   "outputs": [],
   "source": [
    "subset_df = df\n",
    "print('input dataset:', df.shape)\n",
    "\n",
    "## row (run) filtering\n",
    "# remove extra hyper-parameter searches\n",
    "subset_df = subset_df.loc[(df.n_epochs < 6)]\n",
    "print('\\t reduce to 3 or fewer local update steps:', df.shape)\n",
    "subset_df = subset_df.loc[(df.K < 6) | (df.method != 'pfedme')]\n",
    "print('\\t reduce to 3 or fewer local meta-learning steps for pfedme:', df.shape)\n",
    "subset_df = subset_df.loc[(int(10 * df.beta) % 2 == 0) | (df.method != 'exact')]\n",
    "print('\\t reduce beta grid for decay:', df.shape)\n",
    "\n",
    "\"\"\"\n",
    "subset_df = subset_df.loc[[\n",
    "    True if beta in betas else False\n",
    "    for beta in subset_df.beta\n",
    "    ] | (subset_df.method != 'exact')\n",
    "]\n",
    "\n",
    "# column (metric) filtering\n",
    "subset_df = subset_df[[\n",
    "    name for name in subset_df.columns\n",
    "    if not re.search('f1', name)\n",
    "       and not re.search('loss', name)\n",
    "]]\n",
    "\"\"\""
   ],
   "metadata": {
    "collapsed": false
   }
  },
  {
   "cell_type": "code",
   "execution_count": 0,
   "outputs": [],
   "source": [
    "## get best runs for each group\n",
    "# regardless of finetuning\n",
    "best_runs = df.loc[\n",
    "    df.groupby(['dataset', 'method', 'finetune']) \\\n",
    "    [validation_metric].idxmax()  # return index of max validation metric\n",
    "]\n",
    "\n",
    "# treat finetuning groups as seperate\n",
    "ft_yes = best_runs.loc[best_runs.finetune == 1]\n",
    "ft_no = best_runs.loc[best_runs.finetune == 0]"
   ],
   "metadata": {
    "collapsed": false
   }
  },
  {
   "cell_type": "markdown",
   "source": [
    "For all best runs, regardless of finetuning, produce summaries"
   ],
   "metadata": {
    "collapsed": false
   }
  },
  {
   "cell_type": "code",
   "execution_count": 98,
   "outputs": [
    {
     "name": "stdout",
     "output_type": "stream",
     "text": [
      "input runs: (2610, 21)\n",
      "top validation runs: (44, 21)\n",
      "metrics:\n",
      "\t ['Results/test_acc', 'Results/test_acc_bottom_decile', 'Results_unseen/test_acc', 'Results_unseen/test_acc_bottom_decile', 'Results_weighted/test_acc', 'Results_weighted_unseen/test_acc']\n",
      "\t ['Results/test_acc_std', 'Results_unseen/test_acc_std']\n"
     ]
    },
    {
     "data": {
      "text/plain": "      Unnamed: 0  method  finetune          dataset  n_epochs  batch_size  \\\n3399         338   ditto         0  cifar--alpha0.1         3         NaN   \n3548         487   exact         0  cifar--alpha0.1         3         NaN   \n3373         312  fedavg         0  cifar--alpha0.1         3         NaN   \n3351         290   fedbn         0  cifar--alpha0.1         3         NaN   \n3353         292   fedbn         1  cifar--alpha0.1         3         NaN   \n3332         271   fedem         0  cifar--alpha0.1         3         NaN   \n3198         137  pfedme         0  cifar--alpha0.1         3         NaN   \n2873         332   ditto         0  cifar--alpha0.5         3         NaN   \n3059         328   exact         0  cifar--alpha0.5         1         NaN   \n2869         328  fedavg         0  cifar--alpha0.5         1         NaN   \n2831         290   fedbn         1  cifar--alpha0.5         3         NaN   \n2814         273   fedem         0  cifar--alpha0.5         1         NaN   \n2667         126  pfedme         0  cifar--alpha0.5         3         NaN   \n2367         386   ditto         0  cifar--alpha5.0         3         NaN   \n2529         358   exact         0  cifar--alpha5.0         1         NaN   \n2339         358  fedavg         0  cifar--alpha5.0         1         NaN   \n2311         330   fedbn         0  cifar--alpha5.0         3         NaN   \n2321         340   fedbn         1  cifar--alpha5.0         3         NaN   \n2266         285   fedem         0  cifar--alpha5.0         1         NaN   \n2105         124  pfedme         0  cifar--alpha5.0         3         NaN   \n1872         671   ditto         0           pubmed         3         NaN   \n1923         722   ditto         1           pubmed         1         NaN   \n1278          77   exact         0           pubmed         3         NaN   \n1317         116   exact         1           pubmed         3         NaN   \n1412         211  fedavg         0           pubmed         1         NaN   \n1414         213  fedavg         1           pubmed         1         NaN   \n1425         224   fedbn         0           pubmed         3         NaN   \n1427         226   fedbn         1           pubmed         3         NaN   \n1934         733   fedem         0           pubmed         3         NaN   \n1903         702   fedem         1           pubmed         3         NaN   \n1514         313  pfedme         0           pubmed         3         NaN   \n1732         531  pfedme         1           pubmed         3         NaN   \n389          389   ditto         0             sst2         3        32.0   \n816          816   ditto         1             sst2         3        16.0   \n89            89   exact         0             sst2         3        16.0   \n119          119   exact         1             sst2         3        16.0   \n265          265  fedavg         0             sst2         3        16.0   \n1136        1136  fedavg         1             sst2         3        16.0   \n300          300   fedbn         0             sst2         3        64.0   \n840          840   fedbn         1             sst2         3        64.0   \n280          280   fedem         0             sst2         3        32.0   \n714          714   fedem         1             sst2         3        16.0   \n506          506  pfedme         0             sst2         3        32.0   \n886          886  pfedme         1             sst2         3        64.0   \n\n         lr  beta  regular_weight   K  finetune_lr  Results/val_acc  alpha  \n3399  0.500   NaN            0.50 NaN          NaN         0.487736    0.1  \n3548  0.100   0.2             NaN NaN          NaN         0.566214    0.1  \n3373  0.050   NaN             NaN NaN          NaN         0.553132    0.1  \n3351  0.100   NaN             NaN NaN          NaN         0.407272    0.1  \n3353  0.010   NaN             NaN NaN          NaN         0.349454    0.1  \n3332  0.050   NaN             NaN NaN          NaN         0.563560    0.1  \n3198  0.500   NaN            0.05 NaN          NaN         0.581741    0.1  \n2873  0.100   NaN            0.10 NaN          NaN         0.688934    0.5  \n3059  0.050   0.0             NaN NaN          NaN         0.712604    0.5  \n2869  0.050   NaN             NaN NaN          NaN         0.712604    0.5  \n2831  0.100   NaN             NaN NaN          NaN         0.588584    0.5  \n2814  0.100   NaN             NaN NaN          NaN         0.717528    0.5  \n2667  0.050   NaN            0.50 NaN          NaN         0.703262    0.5  \n2367  0.050   NaN            0.50 NaN          NaN         0.732669    5.0  \n2529  0.050   0.0             NaN NaN          NaN         0.745662    5.0  \n2339  0.050   NaN             NaN NaN          NaN         0.745662    5.0  \n2311  0.050   NaN             NaN NaN          NaN         0.705526    5.0  \n2321  0.100   NaN             NaN NaN          NaN         0.673253    5.0  \n2266  0.050   NaN             NaN NaN          NaN         0.747703    5.0  \n2105  0.500   NaN            0.05 NaN          NaN         0.753776    5.0  \n1872  0.010   NaN            0.10 NaN          NaN         0.872384    NaN  \n1923  0.005   NaN            0.10 NaN          NaN         0.878669    NaN  \n1278  0.500   0.6             NaN NaN          NaN         0.868711    NaN  \n1317  0.500   0.4             NaN NaN          NaN         0.870355    NaN  \n1412  0.500   NaN             NaN NaN          NaN         0.859714    NaN  \n1414  0.500   NaN             NaN NaN          NaN         0.865036    NaN  \n1425  0.010   NaN             NaN NaN          NaN         0.882109    NaN  \n1427  0.005   NaN             NaN NaN          NaN         0.886812    NaN  \n1934  0.500   NaN             NaN NaN          NaN         0.869085    NaN  \n1903  0.500   NaN             NaN NaN          NaN         0.882958    NaN  \n1514  0.500   NaN            0.05 NaN          NaN         0.871253    NaN  \n1732  0.500   NaN            0.50 NaN          NaN         0.866221    NaN  \n389   0.050   NaN            0.05 NaN          NaN         0.670620    NaN  \n816   0.050   NaN            0.80 NaN          NaN         0.723308    NaN  \n89    0.100   0.8             NaN NaN          NaN         0.830993    NaN  \n119   0.050   0.6             NaN NaN          NaN         0.842564    NaN  \n265   0.050   NaN             NaN NaN          NaN         0.823137    NaN  \n1136  0.050   NaN             NaN NaN          NaN         0.834747    NaN  \n300   0.100   NaN             NaN NaN          NaN         0.776281    NaN  \n840   0.100   NaN             NaN NaN          NaN         0.826240    NaN  \n280   0.100   NaN             NaN NaN          NaN         0.839241    NaN  \n714   0.050   NaN             NaN NaN          NaN         0.843569    NaN  \n506   0.050   NaN            0.90 NaN          NaN         0.768078    NaN  \n886   0.050   NaN            0.80 NaN          NaN         0.799065    NaN  ",
      "text/html": "<div>\n<style scoped>\n    .dataframe tbody tr th:only-of-type {\n        vertical-align: middle;\n    }\n\n    .dataframe tbody tr th {\n        vertical-align: top;\n    }\n\n    .dataframe thead th {\n        text-align: right;\n    }\n</style>\n<table border=\"1\" class=\"dataframe\">\n  <thead>\n    <tr style=\"text-align: right;\">\n      <th></th>\n      <th>Unnamed: 0</th>\n      <th>method</th>\n      <th>finetune</th>\n      <th>dataset</th>\n      <th>n_epochs</th>\n      <th>batch_size</th>\n      <th>lr</th>\n      <th>beta</th>\n      <th>regular_weight</th>\n      <th>K</th>\n      <th>finetune_lr</th>\n      <th>Results/val_acc</th>\n      <th>alpha</th>\n    </tr>\n  </thead>\n  <tbody>\n    <tr>\n      <th>3399</th>\n      <td>338</td>\n      <td>ditto</td>\n      <td>0</td>\n      <td>cifar--alpha0.1</td>\n      <td>3</td>\n      <td>NaN</td>\n      <td>0.500</td>\n      <td>NaN</td>\n      <td>0.50</td>\n      <td>NaN</td>\n      <td>NaN</td>\n      <td>0.487736</td>\n      <td>0.1</td>\n    </tr>\n    <tr>\n      <th>3548</th>\n      <td>487</td>\n      <td>exact</td>\n      <td>0</td>\n      <td>cifar--alpha0.1</td>\n      <td>3</td>\n      <td>NaN</td>\n      <td>0.100</td>\n      <td>0.2</td>\n      <td>NaN</td>\n      <td>NaN</td>\n      <td>NaN</td>\n      <td>0.566214</td>\n      <td>0.1</td>\n    </tr>\n    <tr>\n      <th>3373</th>\n      <td>312</td>\n      <td>fedavg</td>\n      <td>0</td>\n      <td>cifar--alpha0.1</td>\n      <td>3</td>\n      <td>NaN</td>\n      <td>0.050</td>\n      <td>NaN</td>\n      <td>NaN</td>\n      <td>NaN</td>\n      <td>NaN</td>\n      <td>0.553132</td>\n      <td>0.1</td>\n    </tr>\n    <tr>\n      <th>3351</th>\n      <td>290</td>\n      <td>fedbn</td>\n      <td>0</td>\n      <td>cifar--alpha0.1</td>\n      <td>3</td>\n      <td>NaN</td>\n      <td>0.100</td>\n      <td>NaN</td>\n      <td>NaN</td>\n      <td>NaN</td>\n      <td>NaN</td>\n      <td>0.407272</td>\n      <td>0.1</td>\n    </tr>\n    <tr>\n      <th>3353</th>\n      <td>292</td>\n      <td>fedbn</td>\n      <td>1</td>\n      <td>cifar--alpha0.1</td>\n      <td>3</td>\n      <td>NaN</td>\n      <td>0.010</td>\n      <td>NaN</td>\n      <td>NaN</td>\n      <td>NaN</td>\n      <td>NaN</td>\n      <td>0.349454</td>\n      <td>0.1</td>\n    </tr>\n    <tr>\n      <th>3332</th>\n      <td>271</td>\n      <td>fedem</td>\n      <td>0</td>\n      <td>cifar--alpha0.1</td>\n      <td>3</td>\n      <td>NaN</td>\n      <td>0.050</td>\n      <td>NaN</td>\n      <td>NaN</td>\n      <td>NaN</td>\n      <td>NaN</td>\n      <td>0.563560</td>\n      <td>0.1</td>\n    </tr>\n    <tr>\n      <th>3198</th>\n      <td>137</td>\n      <td>pfedme</td>\n      <td>0</td>\n      <td>cifar--alpha0.1</td>\n      <td>3</td>\n      <td>NaN</td>\n      <td>0.500</td>\n      <td>NaN</td>\n      <td>0.05</td>\n      <td>NaN</td>\n      <td>NaN</td>\n      <td>0.581741</td>\n      <td>0.1</td>\n    </tr>\n    <tr>\n      <th>2873</th>\n      <td>332</td>\n      <td>ditto</td>\n      <td>0</td>\n      <td>cifar--alpha0.5</td>\n      <td>3</td>\n      <td>NaN</td>\n      <td>0.100</td>\n      <td>NaN</td>\n      <td>0.10</td>\n      <td>NaN</td>\n      <td>NaN</td>\n      <td>0.688934</td>\n      <td>0.5</td>\n    </tr>\n    <tr>\n      <th>3059</th>\n      <td>328</td>\n      <td>exact</td>\n      <td>0</td>\n      <td>cifar--alpha0.5</td>\n      <td>1</td>\n      <td>NaN</td>\n      <td>0.050</td>\n      <td>0.0</td>\n      <td>NaN</td>\n      <td>NaN</td>\n      <td>NaN</td>\n      <td>0.712604</td>\n      <td>0.5</td>\n    </tr>\n    <tr>\n      <th>2869</th>\n      <td>328</td>\n      <td>fedavg</td>\n      <td>0</td>\n      <td>cifar--alpha0.5</td>\n      <td>1</td>\n      <td>NaN</td>\n      <td>0.050</td>\n      <td>NaN</td>\n      <td>NaN</td>\n      <td>NaN</td>\n      <td>NaN</td>\n      <td>0.712604</td>\n      <td>0.5</td>\n    </tr>\n    <tr>\n      <th>2831</th>\n      <td>290</td>\n      <td>fedbn</td>\n      <td>1</td>\n      <td>cifar--alpha0.5</td>\n      <td>3</td>\n      <td>NaN</td>\n      <td>0.100</td>\n      <td>NaN</td>\n      <td>NaN</td>\n      <td>NaN</td>\n      <td>NaN</td>\n      <td>0.588584</td>\n      <td>0.5</td>\n    </tr>\n    <tr>\n      <th>2814</th>\n      <td>273</td>\n      <td>fedem</td>\n      <td>0</td>\n      <td>cifar--alpha0.5</td>\n      <td>1</td>\n      <td>NaN</td>\n      <td>0.100</td>\n      <td>NaN</td>\n      <td>NaN</td>\n      <td>NaN</td>\n      <td>NaN</td>\n      <td>0.717528</td>\n      <td>0.5</td>\n    </tr>\n    <tr>\n      <th>2667</th>\n      <td>126</td>\n      <td>pfedme</td>\n      <td>0</td>\n      <td>cifar--alpha0.5</td>\n      <td>3</td>\n      <td>NaN</td>\n      <td>0.050</td>\n      <td>NaN</td>\n      <td>0.50</td>\n      <td>NaN</td>\n      <td>NaN</td>\n      <td>0.703262</td>\n      <td>0.5</td>\n    </tr>\n    <tr>\n      <th>2367</th>\n      <td>386</td>\n      <td>ditto</td>\n      <td>0</td>\n      <td>cifar--alpha5.0</td>\n      <td>3</td>\n      <td>NaN</td>\n      <td>0.050</td>\n      <td>NaN</td>\n      <td>0.50</td>\n      <td>NaN</td>\n      <td>NaN</td>\n      <td>0.732669</td>\n      <td>5.0</td>\n    </tr>\n    <tr>\n      <th>2529</th>\n      <td>358</td>\n      <td>exact</td>\n      <td>0</td>\n      <td>cifar--alpha5.0</td>\n      <td>1</td>\n      <td>NaN</td>\n      <td>0.050</td>\n      <td>0.0</td>\n      <td>NaN</td>\n      <td>NaN</td>\n      <td>NaN</td>\n      <td>0.745662</td>\n      <td>5.0</td>\n    </tr>\n    <tr>\n      <th>2339</th>\n      <td>358</td>\n      <td>fedavg</td>\n      <td>0</td>\n      <td>cifar--alpha5.0</td>\n      <td>1</td>\n      <td>NaN</td>\n      <td>0.050</td>\n      <td>NaN</td>\n      <td>NaN</td>\n      <td>NaN</td>\n      <td>NaN</td>\n      <td>0.745662</td>\n      <td>5.0</td>\n    </tr>\n    <tr>\n      <th>2311</th>\n      <td>330</td>\n      <td>fedbn</td>\n      <td>0</td>\n      <td>cifar--alpha5.0</td>\n      <td>3</td>\n      <td>NaN</td>\n      <td>0.050</td>\n      <td>NaN</td>\n      <td>NaN</td>\n      <td>NaN</td>\n      <td>NaN</td>\n      <td>0.705526</td>\n      <td>5.0</td>\n    </tr>\n    <tr>\n      <th>2321</th>\n      <td>340</td>\n      <td>fedbn</td>\n      <td>1</td>\n      <td>cifar--alpha5.0</td>\n      <td>3</td>\n      <td>NaN</td>\n      <td>0.100</td>\n      <td>NaN</td>\n      <td>NaN</td>\n      <td>NaN</td>\n      <td>NaN</td>\n      <td>0.673253</td>\n      <td>5.0</td>\n    </tr>\n    <tr>\n      <th>2266</th>\n      <td>285</td>\n      <td>fedem</td>\n      <td>0</td>\n      <td>cifar--alpha5.0</td>\n      <td>1</td>\n      <td>NaN</td>\n      <td>0.050</td>\n      <td>NaN</td>\n      <td>NaN</td>\n      <td>NaN</td>\n      <td>NaN</td>\n      <td>0.747703</td>\n      <td>5.0</td>\n    </tr>\n    <tr>\n      <th>2105</th>\n      <td>124</td>\n      <td>pfedme</td>\n      <td>0</td>\n      <td>cifar--alpha5.0</td>\n      <td>3</td>\n      <td>NaN</td>\n      <td>0.500</td>\n      <td>NaN</td>\n      <td>0.05</td>\n      <td>NaN</td>\n      <td>NaN</td>\n      <td>0.753776</td>\n      <td>5.0</td>\n    </tr>\n    <tr>\n      <th>1872</th>\n      <td>671</td>\n      <td>ditto</td>\n      <td>0</td>\n      <td>pubmed</td>\n      <td>3</td>\n      <td>NaN</td>\n      <td>0.010</td>\n      <td>NaN</td>\n      <td>0.10</td>\n      <td>NaN</td>\n      <td>NaN</td>\n      <td>0.872384</td>\n      <td>NaN</td>\n    </tr>\n    <tr>\n      <th>1923</th>\n      <td>722</td>\n      <td>ditto</td>\n      <td>1</td>\n      <td>pubmed</td>\n      <td>1</td>\n      <td>NaN</td>\n      <td>0.005</td>\n      <td>NaN</td>\n      <td>0.10</td>\n      <td>NaN</td>\n      <td>NaN</td>\n      <td>0.878669</td>\n      <td>NaN</td>\n    </tr>\n    <tr>\n      <th>1278</th>\n      <td>77</td>\n      <td>exact</td>\n      <td>0</td>\n      <td>pubmed</td>\n      <td>3</td>\n      <td>NaN</td>\n      <td>0.500</td>\n      <td>0.6</td>\n      <td>NaN</td>\n      <td>NaN</td>\n      <td>NaN</td>\n      <td>0.868711</td>\n      <td>NaN</td>\n    </tr>\n    <tr>\n      <th>1317</th>\n      <td>116</td>\n      <td>exact</td>\n      <td>1</td>\n      <td>pubmed</td>\n      <td>3</td>\n      <td>NaN</td>\n      <td>0.500</td>\n      <td>0.4</td>\n      <td>NaN</td>\n      <td>NaN</td>\n      <td>NaN</td>\n      <td>0.870355</td>\n      <td>NaN</td>\n    </tr>\n    <tr>\n      <th>1412</th>\n      <td>211</td>\n      <td>fedavg</td>\n      <td>0</td>\n      <td>pubmed</td>\n      <td>1</td>\n      <td>NaN</td>\n      <td>0.500</td>\n      <td>NaN</td>\n      <td>NaN</td>\n      <td>NaN</td>\n      <td>NaN</td>\n      <td>0.859714</td>\n      <td>NaN</td>\n    </tr>\n    <tr>\n      <th>1414</th>\n      <td>213</td>\n      <td>fedavg</td>\n      <td>1</td>\n      <td>pubmed</td>\n      <td>1</td>\n      <td>NaN</td>\n      <td>0.500</td>\n      <td>NaN</td>\n      <td>NaN</td>\n      <td>NaN</td>\n      <td>NaN</td>\n      <td>0.865036</td>\n      <td>NaN</td>\n    </tr>\n    <tr>\n      <th>1425</th>\n      <td>224</td>\n      <td>fedbn</td>\n      <td>0</td>\n      <td>pubmed</td>\n      <td>3</td>\n      <td>NaN</td>\n      <td>0.010</td>\n      <td>NaN</td>\n      <td>NaN</td>\n      <td>NaN</td>\n      <td>NaN</td>\n      <td>0.882109</td>\n      <td>NaN</td>\n    </tr>\n    <tr>\n      <th>1427</th>\n      <td>226</td>\n      <td>fedbn</td>\n      <td>1</td>\n      <td>pubmed</td>\n      <td>3</td>\n      <td>NaN</td>\n      <td>0.005</td>\n      <td>NaN</td>\n      <td>NaN</td>\n      <td>NaN</td>\n      <td>NaN</td>\n      <td>0.886812</td>\n      <td>NaN</td>\n    </tr>\n    <tr>\n      <th>1934</th>\n      <td>733</td>\n      <td>fedem</td>\n      <td>0</td>\n      <td>pubmed</td>\n      <td>3</td>\n      <td>NaN</td>\n      <td>0.500</td>\n      <td>NaN</td>\n      <td>NaN</td>\n      <td>NaN</td>\n      <td>NaN</td>\n      <td>0.869085</td>\n      <td>NaN</td>\n    </tr>\n    <tr>\n      <th>1903</th>\n      <td>702</td>\n      <td>fedem</td>\n      <td>1</td>\n      <td>pubmed</td>\n      <td>3</td>\n      <td>NaN</td>\n      <td>0.500</td>\n      <td>NaN</td>\n      <td>NaN</td>\n      <td>NaN</td>\n      <td>NaN</td>\n      <td>0.882958</td>\n      <td>NaN</td>\n    </tr>\n    <tr>\n      <th>1514</th>\n      <td>313</td>\n      <td>pfedme</td>\n      <td>0</td>\n      <td>pubmed</td>\n      <td>3</td>\n      <td>NaN</td>\n      <td>0.500</td>\n      <td>NaN</td>\n      <td>0.05</td>\n      <td>NaN</td>\n      <td>NaN</td>\n      <td>0.871253</td>\n      <td>NaN</td>\n    </tr>\n    <tr>\n      <th>1732</th>\n      <td>531</td>\n      <td>pfedme</td>\n      <td>1</td>\n      <td>pubmed</td>\n      <td>3</td>\n      <td>NaN</td>\n      <td>0.500</td>\n      <td>NaN</td>\n      <td>0.50</td>\n      <td>NaN</td>\n      <td>NaN</td>\n      <td>0.866221</td>\n      <td>NaN</td>\n    </tr>\n    <tr>\n      <th>389</th>\n      <td>389</td>\n      <td>ditto</td>\n      <td>0</td>\n      <td>sst2</td>\n      <td>3</td>\n      <td>32.0</td>\n      <td>0.050</td>\n      <td>NaN</td>\n      <td>0.05</td>\n      <td>NaN</td>\n      <td>NaN</td>\n      <td>0.670620</td>\n      <td>NaN</td>\n    </tr>\n    <tr>\n      <th>816</th>\n      <td>816</td>\n      <td>ditto</td>\n      <td>1</td>\n      <td>sst2</td>\n      <td>3</td>\n      <td>16.0</td>\n      <td>0.050</td>\n      <td>NaN</td>\n      <td>0.80</td>\n      <td>NaN</td>\n      <td>NaN</td>\n      <td>0.723308</td>\n      <td>NaN</td>\n    </tr>\n    <tr>\n      <th>89</th>\n      <td>89</td>\n      <td>exact</td>\n      <td>0</td>\n      <td>sst2</td>\n      <td>3</td>\n      <td>16.0</td>\n      <td>0.100</td>\n      <td>0.8</td>\n      <td>NaN</td>\n      <td>NaN</td>\n      <td>NaN</td>\n      <td>0.830993</td>\n      <td>NaN</td>\n    </tr>\n    <tr>\n      <th>119</th>\n      <td>119</td>\n      <td>exact</td>\n      <td>1</td>\n      <td>sst2</td>\n      <td>3</td>\n      <td>16.0</td>\n      <td>0.050</td>\n      <td>0.6</td>\n      <td>NaN</td>\n      <td>NaN</td>\n      <td>NaN</td>\n      <td>0.842564</td>\n      <td>NaN</td>\n    </tr>\n    <tr>\n      <th>265</th>\n      <td>265</td>\n      <td>fedavg</td>\n      <td>0</td>\n      <td>sst2</td>\n      <td>3</td>\n      <td>16.0</td>\n      <td>0.050</td>\n      <td>NaN</td>\n      <td>NaN</td>\n      <td>NaN</td>\n      <td>NaN</td>\n      <td>0.823137</td>\n      <td>NaN</td>\n    </tr>\n    <tr>\n      <th>1136</th>\n      <td>1136</td>\n      <td>fedavg</td>\n      <td>1</td>\n      <td>sst2</td>\n      <td>3</td>\n      <td>16.0</td>\n      <td>0.050</td>\n      <td>NaN</td>\n      <td>NaN</td>\n      <td>NaN</td>\n      <td>NaN</td>\n      <td>0.834747</td>\n      <td>NaN</td>\n    </tr>\n    <tr>\n      <th>300</th>\n      <td>300</td>\n      <td>fedbn</td>\n      <td>0</td>\n      <td>sst2</td>\n      <td>3</td>\n      <td>64.0</td>\n      <td>0.100</td>\n      <td>NaN</td>\n      <td>NaN</td>\n      <td>NaN</td>\n      <td>NaN</td>\n      <td>0.776281</td>\n      <td>NaN</td>\n    </tr>\n    <tr>\n      <th>840</th>\n      <td>840</td>\n      <td>fedbn</td>\n      <td>1</td>\n      <td>sst2</td>\n      <td>3</td>\n      <td>64.0</td>\n      <td>0.100</td>\n      <td>NaN</td>\n      <td>NaN</td>\n      <td>NaN</td>\n      <td>NaN</td>\n      <td>0.826240</td>\n      <td>NaN</td>\n    </tr>\n    <tr>\n      <th>280</th>\n      <td>280</td>\n      <td>fedem</td>\n      <td>0</td>\n      <td>sst2</td>\n      <td>3</td>\n      <td>32.0</td>\n      <td>0.100</td>\n      <td>NaN</td>\n      <td>NaN</td>\n      <td>NaN</td>\n      <td>NaN</td>\n      <td>0.839241</td>\n      <td>NaN</td>\n    </tr>\n    <tr>\n      <th>714</th>\n      <td>714</td>\n      <td>fedem</td>\n      <td>1</td>\n      <td>sst2</td>\n      <td>3</td>\n      <td>16.0</td>\n      <td>0.050</td>\n      <td>NaN</td>\n      <td>NaN</td>\n      <td>NaN</td>\n      <td>NaN</td>\n      <td>0.843569</td>\n      <td>NaN</td>\n    </tr>\n    <tr>\n      <th>506</th>\n      <td>506</td>\n      <td>pfedme</td>\n      <td>0</td>\n      <td>sst2</td>\n      <td>3</td>\n      <td>32.0</td>\n      <td>0.050</td>\n      <td>NaN</td>\n      <td>0.90</td>\n      <td>NaN</td>\n      <td>NaN</td>\n      <td>0.768078</td>\n      <td>NaN</td>\n    </tr>\n    <tr>\n      <th>886</th>\n      <td>886</td>\n      <td>pfedme</td>\n      <td>1</td>\n      <td>sst2</td>\n      <td>3</td>\n      <td>64.0</td>\n      <td>0.050</td>\n      <td>NaN</td>\n      <td>0.80</td>\n      <td>NaN</td>\n      <td>NaN</td>\n      <td>0.799065</td>\n      <td>NaN</td>\n    </tr>\n  </tbody>\n</table>\n</div>"
     },
     "execution_count": 98,
     "metadata": {},
     "output_type": "execute_result"
    }
   ],
   "source": [
    "(all_run_summary, all_metric_summary, _) = process_run_metrics(best_runs, method='exact')\n",
    "\n",
    "# run summary\n",
    "print(all_run_summary.shape)\n",
    "all_run_summary.sort_values(by='value', ascending=False)"
   ],
   "metadata": {
    "collapsed": false
   }
  },
  {
   "cell_type": "markdown",
   "source": [
    "View processed summaries"
   ],
   "metadata": {
    "collapsed": false
   }
  },
  {
   "cell_type": "code",
   "execution_count": 100,
   "outputs": [
    {
     "name": "stdout",
     "output_type": "stream",
     "text": [
      "(8, 4)\n"
     ]
    },
    {
     "data": {
      "text/plain": "                                       rank_one_ind  rank_two_ind  \\\nmetric                                                              \nResults_unseen/test_acc                           3             1   \nResults_weighted_unseen/test_acc                  3             1   \nResults/test_acc_bottom_decile                    2             3   \nResults/test_acc_std                              4             0   \nResults/test_acc                                  2             2   \nResults_unseen/test_acc_std                       1             2   \nResults_unseen/test_acc_bottom_decile             2             0   \nResults_weighted/test_acc                         1             2   \n\n                                       rank_three_ind  value  \nmetric                                                        \nResults_unseen/test_acc                             1      5  \nResults_weighted_unseen/test_acc                    1      5  \nResults/test_acc_bottom_decile                      0      5  \nResults/test_acc_std                                0      4  \nResults/test_acc                                    0      4  \nResults_unseen/test_acc_std                         1      4  \nResults_unseen/test_acc_bottom_decile               1      3  \nResults_weighted/test_acc                           0      3  ",
      "text/html": "<div>\n<style scoped>\n    .dataframe tbody tr th:only-of-type {\n        vertical-align: middle;\n    }\n\n    .dataframe tbody tr th {\n        vertical-align: top;\n    }\n\n    .dataframe thead th {\n        text-align: right;\n    }\n</style>\n<table border=\"1\" class=\"dataframe\">\n  <thead>\n    <tr style=\"text-align: right;\">\n      <th></th>\n      <th>rank_one_ind</th>\n      <th>rank_two_ind</th>\n      <th>rank_three_ind</th>\n      <th>value</th>\n    </tr>\n    <tr>\n      <th>metric</th>\n      <th></th>\n      <th></th>\n      <th></th>\n      <th></th>\n    </tr>\n  </thead>\n  <tbody>\n    <tr>\n      <th>Results_unseen/test_acc</th>\n      <td>3</td>\n      <td>1</td>\n      <td>1</td>\n      <td>5</td>\n    </tr>\n    <tr>\n      <th>Results_weighted_unseen/test_acc</th>\n      <td>3</td>\n      <td>1</td>\n      <td>1</td>\n      <td>5</td>\n    </tr>\n    <tr>\n      <th>Results/test_acc_bottom_decile</th>\n      <td>2</td>\n      <td>3</td>\n      <td>0</td>\n      <td>5</td>\n    </tr>\n    <tr>\n      <th>Results/test_acc_std</th>\n      <td>4</td>\n      <td>0</td>\n      <td>0</td>\n      <td>4</td>\n    </tr>\n    <tr>\n      <th>Results/test_acc</th>\n      <td>2</td>\n      <td>2</td>\n      <td>0</td>\n      <td>4</td>\n    </tr>\n    <tr>\n      <th>Results_unseen/test_acc_std</th>\n      <td>1</td>\n      <td>2</td>\n      <td>1</td>\n      <td>4</td>\n    </tr>\n    <tr>\n      <th>Results_unseen/test_acc_bottom_decile</th>\n      <td>2</td>\n      <td>0</td>\n      <td>1</td>\n      <td>3</td>\n    </tr>\n    <tr>\n      <th>Results_weighted/test_acc</th>\n      <td>1</td>\n      <td>2</td>\n      <td>0</td>\n      <td>3</td>\n    </tr>\n  </tbody>\n</table>\n</div>"
     },
     "execution_count": 100,
     "metadata": {},
     "output_type": "execute_result"
    }
   ],
   "source": [
    "print(all_metric_summary.shape)\n",
    "\n",
    "# metrics summary\n",
    "sort_by = ['value', 'rank_one_ind', 'rank_two_ind', 'rank_three_ind']\n",
    "all_metric_summary.sort_values(by=sort_by, ascending=False)"
   ],
   "metadata": {
    "collapsed": false
   }
  },
  {
   "cell_type": "code",
   "execution_count": null,
   "outputs": [],
   "source": [],
   "metadata": {
    "collapsed": false
   }
  }
 ],
 "metadata": {
  "kernelspec": {
   "display_name": "Python 3",
   "language": "python",
   "name": "python3"
  },
  "language_info": {
   "codemirror_mode": {
    "name": "ipython",
    "version": 2
   },
   "file_extension": ".py",
   "mimetype": "text/x-python",
   "name": "python",
   "nbconvert_exporter": "python",
   "pygments_lexer": "ipython2",
   "version": "2.7.6"
  }
 },
 "nbformat": 4,
 "nbformat_minor": 0
}
