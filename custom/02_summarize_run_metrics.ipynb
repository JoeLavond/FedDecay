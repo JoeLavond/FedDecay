{
 "cells": [
  {
   "cell_type": "markdown",
   "source": [
    "Import packages and processed run metrics"
   ],
   "metadata": {
    "collapsed": false
   }
  },
  {
   "cell_type": "code",
   "execution_count": 15,
   "metadata": {
    "collapsed": true,
    "ExecuteTime": {
     "start_time": "2023-04-19T10:54:22.654184Z",
     "end_time": "2023-04-19T10:54:23.166421Z"
    }
   },
   "outputs": [
    {
     "name": "stdout",
     "output_type": "stream",
     "text": [
      "input datasets:\n",
      "\t (651, 36)\n",
      "\t (1200, 44)\n",
      "\t (780, 37)\n",
      "all runs: (2631, 44)\n"
     ]
    }
   ],
   "source": [
    "# packages\n",
    "import os\n",
    "import re\n",
    "import numpy as np\n",
    "import pandas as pd\n",
    "\n",
    "# source\n",
    "helper = __import__('00_helper')\n",
    "\n",
    "# control\n",
    "write_files = 1\n",
    "validation_metric = 'Results/val_acc'\n",
    "project_names = [\n",
    "    'femnist--s02', 'sst2', 'pubmed'#,\n",
    "    #'cifar--alpha5.0', 'cifar--alpha0.5', 'cifar--alpha0.1'\n",
    "]\n",
    "df = helper.load_data(project_names)\n",
    "\n",
    "## For CIFAR\n",
    "# remove_methods = [\n",
    "#     method for method in df.method.unique()\n",
    "#     if method not in ['fedavg', 'exact']\n",
    "# ]\n"
   ]
  },
  {
   "cell_type": "code",
   "execution_count": 16,
   "outputs": [],
   "source": [
    "def df_to_latex(\n",
    "    df,\n",
    "    id_columns,\n",
    "    file_name=None,\n",
    "    remove_columns=None,\n",
    "    file_path='output'\n",
    "):\n",
    "\n",
    "    # remove columns not of interest\n",
    "    if remove_columns is None:\n",
    "        remove_columns = list()\n",
    "    temp_df = df[[name for name in df.columns if name not in remove_columns]]\n",
    "\n",
    "    # sort by id columns\n",
    "    temp_df = temp_df.sort_values(by=id_columns)\n",
    "\n",
    "    # create output file\n",
    "    string_df = temp_df.to_string(\n",
    "        header=True,\n",
    "        index=False,\n",
    "        index_names=False\n",
    "    )\n",
    "\n",
    "    # remove any leading space\n",
    "    string_df = re.sub('^[\\s]+', '', string_df)\n",
    "    # remove leading space after newlines\n",
    "    string_df = re.sub('\\n[\\s]+', '\\n', string_df)\n",
    "    # replace white space between words with table column skip\n",
    "    string_df = re.sub('[ \\t]+', ' & ', string_df)\n",
    "\n",
    "    # add latex newline to end of each line\n",
    "    string_df = string_df.replace('_', ' ')\n",
    "    string_df = string_df.replace('\\n', ' \\\\\\\\\\n')\n",
    "    string_df = string_df + ' \\\\\\\\'\n",
    "\n",
    "    if file_name is not None:\n",
    "\n",
    "        # write to file\n",
    "        with open(os.path.join(file_path, f'{file_name}.txt'), 'w') as f:\n",
    "            f.writelines(string_df)\n",
    "\n",
    "    else:\n",
    "        return string_df\n"
   ],
   "metadata": {
    "collapsed": false,
    "ExecuteTime": {
     "start_time": "2023-04-19T10:54:22.799745Z",
     "end_time": "2023-04-19T10:54:23.167419Z"
    }
   }
  },
  {
   "cell_type": "markdown",
   "source": [
    "Filter data to runs of interest\n",
    "Apply summary function to filtered dataset"
   ],
   "metadata": {
    "collapsed": false
   }
  },
  {
   "cell_type": "code",
   "execution_count": 17,
   "outputs": [
    {
     "name": "stdout",
     "output_type": "stream",
     "text": [
      "input dataset: (2631, 44)\n",
      "\t reduce to 3 or fewer local update steps: (1945, 44)\n",
      "\t reduce to 3 or fewer local meta-learning steps for pfedme: (1865, 44)\n",
      "\t reduce beta grid for decay: (1768, 44)\n"
     ]
    }
   ],
   "source": [
    "subset_df = df\n",
    "print('input dataset:', df.shape)\n",
    "\n",
    "## row (run) filtering\n",
    "# remove extra hyper-parameter searches\n",
    "\n",
    "subset_df = subset_df.loc[(subset_df.n_epochs < 6)]\n",
    "print('\\t reduce to 3 or fewer local update steps:', subset_df.shape)\n",
    "\n",
    "subset_df = subset_df.loc[(subset_df.K < 6) | (subset_df.method != 'pfedme')]\n",
    "print('\\t reduce to 3 or fewer local meta-learning steps for pfedme:', subset_df.shape)\n",
    "\n",
    "subset_df = subset_df.loc[((10 * subset_df.beta).astype('Int64') % 2 == 0) | (subset_df.method != 'exact')]\n",
    "print('\\t reduce beta grid for decay:', subset_df.shape)\n",
    "\n",
    "## column (metric) filtering\n",
    "subset_df = subset_df[[\n",
    "    name for name in subset_df.columns\n",
    "    if (\n",
    "        not re.search('^sys', name)\n",
    "        and not re.search('f1', name)\n",
    "        and not re.search('loss', name)\n",
    "    )\n",
    "]]"
   ],
   "metadata": {
    "collapsed": false,
    "ExecuteTime": {
     "start_time": "2023-04-19T10:54:22.828676Z",
     "end_time": "2023-04-19T10:54:23.168418Z"
    }
   }
  },
  {
   "cell_type": "code",
   "execution_count": 18,
   "outputs": [
    {
     "data": {
      "text/plain": "Index(['method', 'finetune', 'dataset', 's', 'n_epochs', 'lr',\n       'regular_weight', 'K', 'beta', 'Results/test_acc',\n       'Results/test_acc_bottom_decile', 'Results/test_acc_std',\n       'Results/val_acc', 'Results_unseen/test_acc',\n       'Results_unseen/test_acc_bottom_decile', 'Results_unseen/test_acc_std',\n       'Results_weighted/test_acc', 'Results_weighted_unseen/test_acc',\n       'batch_size'],\n      dtype='object')"
     },
     "execution_count": 18,
     "metadata": {},
     "output_type": "execute_result"
    }
   ],
   "source": [
    "## get best runs for each group\n",
    "# regardless of finetuning\n",
    "best_runs = subset_df.loc[\n",
    "    subset_df.groupby(['dataset', 'method', 'finetune']) \\\n",
    "    [validation_metric].idxmax()  # return index of max validation metric\n",
    "]\n",
    "\n",
    "# treat finetuning groups as seperate\n",
    "ft_yes = best_runs.loc[best_runs.finetune == 1]\n",
    "ft_no = best_runs.loc[best_runs.finetune == 0]\n",
    "\n",
    "# best_runs.loc[[method not in remove_methods for method in best_runs.method]].head(12)\n",
    "best_runs.columns"
   ],
   "metadata": {
    "collapsed": false,
    "ExecuteTime": {
     "start_time": "2023-04-19T10:54:22.873255Z",
     "end_time": "2023-04-19T10:54:23.231025Z"
    }
   }
  },
  {
   "cell_type": "markdown",
   "source": [
    "For all best runs, regardless of finetuning, produce summaries"
   ],
   "metadata": {
    "collapsed": false
   }
  },
  {
   "cell_type": "code",
   "execution_count": 19,
   "outputs": [
    {
     "name": "stdout",
     "output_type": "stream",
     "text": [
      "all runs: (6, 4)\n",
      "all metrics: (3, 4)\n"
     ]
    }
   ],
   "source": [
    "# For existing users, FT since sufficient data\n",
    "seen_best_runs = ft_yes[[\n",
    "    name for name in ft_yes.columns\n",
    "    if (\n",
    "        not re.search('weighted', name)\n",
    "        and not re.search('unseen', name)\n",
    "    )\n",
    "    or (\n",
    "        not re.search('Results', name)\n",
    "        or re.search('val', name)\n",
    "    )\n",
    "]]\n",
    "if write_files:\n",
    "    helper.runs_to_latex(seen_best_runs, 'seen--ft_yes')\n",
    "\n",
    "(seen_run_summary, seen_metric_summary, seen_rank_summary) = helper.process_run_metrics(seen_best_runs)\n",
    "print('all runs:', seen_run_summary.shape)\n",
    "print('all metrics:', seen_metric_summary.shape)"
   ],
   "metadata": {
    "collapsed": false,
    "ExecuteTime": {
     "start_time": "2023-04-19T10:54:22.915549Z",
     "end_time": "2023-04-19T10:54:23.235015Z"
    }
   }
  },
  {
   "cell_type": "code",
   "execution_count": 20,
   "outputs": [
    {
     "data": {
      "text/plain": "                 rank_one_ind  rank_two_ind  rank_three_ind  value\nmethod finetune                                                   \nfedbn  1                    2             3               1      6\npfedme 1                    3             1               2      6\nditto  1                    0             2               3      5\nexact  1                    2             2               1      5\nfedem  1                    1             1               1      3\nfedavg 1                    1             1               0      2",
      "text/html": "<div>\n<style scoped>\n    .dataframe tbody tr th:only-of-type {\n        vertical-align: middle;\n    }\n\n    .dataframe tbody tr th {\n        vertical-align: top;\n    }\n\n    .dataframe thead th {\n        text-align: right;\n    }\n</style>\n<table border=\"1\" class=\"dataframe\">\n  <thead>\n    <tr style=\"text-align: right;\">\n      <th></th>\n      <th></th>\n      <th>rank_one_ind</th>\n      <th>rank_two_ind</th>\n      <th>rank_three_ind</th>\n      <th>value</th>\n    </tr>\n    <tr>\n      <th>method</th>\n      <th>finetune</th>\n      <th></th>\n      <th></th>\n      <th></th>\n      <th></th>\n    </tr>\n  </thead>\n  <tbody>\n    <tr>\n      <th>fedbn</th>\n      <th>1</th>\n      <td>2</td>\n      <td>3</td>\n      <td>1</td>\n      <td>6</td>\n    </tr>\n    <tr>\n      <th>pfedme</th>\n      <th>1</th>\n      <td>3</td>\n      <td>1</td>\n      <td>2</td>\n      <td>6</td>\n    </tr>\n    <tr>\n      <th>ditto</th>\n      <th>1</th>\n      <td>0</td>\n      <td>2</td>\n      <td>3</td>\n      <td>5</td>\n    </tr>\n    <tr>\n      <th>exact</th>\n      <th>1</th>\n      <td>2</td>\n      <td>2</td>\n      <td>1</td>\n      <td>5</td>\n    </tr>\n    <tr>\n      <th>fedem</th>\n      <th>1</th>\n      <td>1</td>\n      <td>1</td>\n      <td>1</td>\n      <td>3</td>\n    </tr>\n    <tr>\n      <th>fedavg</th>\n      <th>1</th>\n      <td>1</td>\n      <td>1</td>\n      <td>0</td>\n      <td>2</td>\n    </tr>\n  </tbody>\n</table>\n</div>"
     },
     "execution_count": 20,
     "metadata": {},
     "output_type": "execute_result"
    }
   ],
   "source": [
    "# run summary\n",
    "seen_run_summary.sort_values(by='value', ascending=False)"
   ],
   "metadata": {
    "collapsed": false,
    "ExecuteTime": {
     "start_time": "2023-04-19T10:54:23.132234Z",
     "end_time": "2023-04-19T10:54:23.248978Z"
    }
   }
  },
  {
   "cell_type": "markdown",
   "source": [
    "View processed summaries"
   ],
   "metadata": {
    "collapsed": false
   }
  },
  {
   "cell_type": "code",
   "execution_count": 21,
   "outputs": [
    {
     "data": {
      "text/plain": "                                rank_one_ind  rank_two_ind  rank_three_ind  \\\nmetric                                                                       \nResults/test_acc_std                       1             0               1   \nResults/test_acc_bottom_decile             0             2               0   \nResults/test_acc                           1             0               0   \n\n                                value  \nmetric                                 \nResults/test_acc_std                2  \nResults/test_acc_bottom_decile      2  \nResults/test_acc                    1  ",
      "text/html": "<div>\n<style scoped>\n    .dataframe tbody tr th:only-of-type {\n        vertical-align: middle;\n    }\n\n    .dataframe tbody tr th {\n        vertical-align: top;\n    }\n\n    .dataframe thead th {\n        text-align: right;\n    }\n</style>\n<table border=\"1\" class=\"dataframe\">\n  <thead>\n    <tr style=\"text-align: right;\">\n      <th></th>\n      <th>rank_one_ind</th>\n      <th>rank_two_ind</th>\n      <th>rank_three_ind</th>\n      <th>value</th>\n    </tr>\n    <tr>\n      <th>metric</th>\n      <th></th>\n      <th></th>\n      <th></th>\n      <th></th>\n    </tr>\n  </thead>\n  <tbody>\n    <tr>\n      <th>Results/test_acc_std</th>\n      <td>1</td>\n      <td>0</td>\n      <td>1</td>\n      <td>2</td>\n    </tr>\n    <tr>\n      <th>Results/test_acc_bottom_decile</th>\n      <td>0</td>\n      <td>2</td>\n      <td>0</td>\n      <td>2</td>\n    </tr>\n    <tr>\n      <th>Results/test_acc</th>\n      <td>1</td>\n      <td>0</td>\n      <td>0</td>\n      <td>1</td>\n    </tr>\n  </tbody>\n</table>\n</div>"
     },
     "execution_count": 21,
     "metadata": {},
     "output_type": "execute_result"
    }
   ],
   "source": [
    "# metrics summary\n",
    "sort_by = ['value', 'rank_one_ind', 'rank_two_ind', 'rank_three_ind']\n",
    "seen_metric_summary.sort_values(by=sort_by, ascending=False)"
   ],
   "metadata": {
    "collapsed": false,
    "ExecuteTime": {
     "start_time": "2023-04-19T10:54:23.180171Z",
     "end_time": "2023-04-19T10:54:23.546526Z"
    }
   }
  },
  {
   "cell_type": "markdown",
   "source": [
    "Now seperately, based on finetuning status, repeat the above summary"
   ],
   "metadata": {
    "collapsed": false
   }
  },
  {
   "cell_type": "code",
   "execution_count": 22,
   "outputs": [],
   "source": [
    "unseen_best_runs = best_runs[[\n",
    "    name for name in ft_yes.columns\n",
    "    if (\n",
    "               not re.search('weighted', name)\n",
    "               and re.search('unseen', name)\n",
    "       )\n",
    "       or (\n",
    "               not re.search('Results', name)\n",
    "               or re.search('val', name)\n",
    "       )\n",
    "]]"
   ],
   "metadata": {
    "collapsed": false,
    "ExecuteTime": {
     "start_time": "2023-04-19T10:54:23.228038Z",
     "end_time": "2023-04-19T10:54:23.569256Z"
    }
   }
  },
  {
   "cell_type": "code",
   "execution_count": 23,
   "outputs": [],
   "source": [
    "ft_yes = unseen_best_runs.loc[unseen_best_runs.finetune == 1]\n",
    "ft_no = unseen_best_runs.loc[unseen_best_runs.finetune == 0]\n",
    "\n",
    "(yes_run_summary, yes_metric_summary, _) = helper.process_run_metrics(ft_yes)\n",
    "if write_files:\n",
    "    helper.runs_to_latex(ft_yes, 'unseen--ft_yes')\n",
    "\n",
    "(no_run_summary, no_metric_summary, _) = helper.process_run_metrics(ft_no)\n",
    "if write_files:\n",
    "    helper.runs_to_latex(ft_no, 'unseen--ft_no')"
   ],
   "metadata": {
    "collapsed": false,
    "ExecuteTime": {
     "start_time": "2023-04-19T10:54:23.287817Z",
     "end_time": "2023-04-19T10:54:23.851568Z"
    }
   }
  },
  {
   "cell_type": "code",
   "execution_count": 24,
   "outputs": [
    {
     "data": {
      "text/plain": "                 rank_one_ind  rank_two_ind  rank_three_ind  value\nmethod finetune                                                   \nexact  1                    4             2               1      7\nfedavg 1                    2             1               1      4\nfedbn  1                    0             3               1      4\npfedme 1                    0             1               3      4\nfedem  1                    1             1               0      2",
      "text/html": "<div>\n<style scoped>\n    .dataframe tbody tr th:only-of-type {\n        vertical-align: middle;\n    }\n\n    .dataframe tbody tr th {\n        vertical-align: top;\n    }\n\n    .dataframe thead th {\n        text-align: right;\n    }\n</style>\n<table border=\"1\" class=\"dataframe\">\n  <thead>\n    <tr style=\"text-align: right;\">\n      <th></th>\n      <th></th>\n      <th>rank_one_ind</th>\n      <th>rank_two_ind</th>\n      <th>rank_three_ind</th>\n      <th>value</th>\n    </tr>\n    <tr>\n      <th>method</th>\n      <th>finetune</th>\n      <th></th>\n      <th></th>\n      <th></th>\n      <th></th>\n    </tr>\n  </thead>\n  <tbody>\n    <tr>\n      <th>exact</th>\n      <th>1</th>\n      <td>4</td>\n      <td>2</td>\n      <td>1</td>\n      <td>7</td>\n    </tr>\n    <tr>\n      <th>fedavg</th>\n      <th>1</th>\n      <td>2</td>\n      <td>1</td>\n      <td>1</td>\n      <td>4</td>\n    </tr>\n    <tr>\n      <th>fedbn</th>\n      <th>1</th>\n      <td>0</td>\n      <td>3</td>\n      <td>1</td>\n      <td>4</td>\n    </tr>\n    <tr>\n      <th>pfedme</th>\n      <th>1</th>\n      <td>0</td>\n      <td>1</td>\n      <td>3</td>\n      <td>4</td>\n    </tr>\n    <tr>\n      <th>fedem</th>\n      <th>1</th>\n      <td>1</td>\n      <td>1</td>\n      <td>0</td>\n      <td>2</td>\n    </tr>\n  </tbody>\n</table>\n</div>"
     },
     "execution_count": 24,
     "metadata": {},
     "output_type": "execute_result"
    }
   ],
   "source": [
    "# run summary\n",
    "yes_run_summary.sort_values(by='value', ascending=False)"
   ],
   "metadata": {
    "collapsed": false,
    "ExecuteTime": {
     "start_time": "2023-04-19T10:54:23.653395Z",
     "end_time": "2023-04-19T10:54:24.017767Z"
    }
   }
  },
  {
   "cell_type": "code",
   "execution_count": 25,
   "outputs": [
    {
     "data": {
      "text/plain": "                                       rank_one_ind  rank_two_ind  \\\nmetric                                                              \nResults_unseen/test_acc                           2             1   \nResults_unseen/test_acc_std                       1             1   \nResults_unseen/test_acc_bottom_decile             1             0   \n\n                                       rank_three_ind  value  \nmetric                                                        \nResults_unseen/test_acc                             0      3  \nResults_unseen/test_acc_std                         0      2  \nResults_unseen/test_acc_bottom_decile               1      2  ",
      "text/html": "<div>\n<style scoped>\n    .dataframe tbody tr th:only-of-type {\n        vertical-align: middle;\n    }\n\n    .dataframe tbody tr th {\n        vertical-align: top;\n    }\n\n    .dataframe thead th {\n        text-align: right;\n    }\n</style>\n<table border=\"1\" class=\"dataframe\">\n  <thead>\n    <tr style=\"text-align: right;\">\n      <th></th>\n      <th>rank_one_ind</th>\n      <th>rank_two_ind</th>\n      <th>rank_three_ind</th>\n      <th>value</th>\n    </tr>\n    <tr>\n      <th>metric</th>\n      <th></th>\n      <th></th>\n      <th></th>\n      <th></th>\n    </tr>\n  </thead>\n  <tbody>\n    <tr>\n      <th>Results_unseen/test_acc</th>\n      <td>2</td>\n      <td>1</td>\n      <td>0</td>\n      <td>3</td>\n    </tr>\n    <tr>\n      <th>Results_unseen/test_acc_std</th>\n      <td>1</td>\n      <td>1</td>\n      <td>0</td>\n      <td>2</td>\n    </tr>\n    <tr>\n      <th>Results_unseen/test_acc_bottom_decile</th>\n      <td>1</td>\n      <td>0</td>\n      <td>1</td>\n      <td>2</td>\n    </tr>\n  </tbody>\n</table>\n</div>"
     },
     "execution_count": 25,
     "metadata": {},
     "output_type": "execute_result"
    }
   ],
   "source": [
    "# metrics summary\n",
    "yes_metric_summary.sort_values(by=sort_by, ascending=False)"
   ],
   "metadata": {
    "collapsed": false,
    "ExecuteTime": {
     "start_time": "2023-04-19T10:54:23.692349Z",
     "end_time": "2023-04-19T10:54:24.141410Z"
    }
   }
  },
  {
   "cell_type": "code",
   "execution_count": 26,
   "outputs": [
    {
     "data": {
      "text/plain": "                 rank_one_ind  rank_two_ind  rank_three_ind  value\nmethod finetune                                                   \nfedem  0                    1             3               3      7\nexact  0                    3             2               1      6\npfedme 0                    2             1               2      5\nditto  0                    0             1               0      1\nfedavg 0                    0             0               1      1\nfedbn  0                    1             0               0      1",
      "text/html": "<div>\n<style scoped>\n    .dataframe tbody tr th:only-of-type {\n        vertical-align: middle;\n    }\n\n    .dataframe tbody tr th {\n        vertical-align: top;\n    }\n\n    .dataframe thead th {\n        text-align: right;\n    }\n</style>\n<table border=\"1\" class=\"dataframe\">\n  <thead>\n    <tr style=\"text-align: right;\">\n      <th></th>\n      <th></th>\n      <th>rank_one_ind</th>\n      <th>rank_two_ind</th>\n      <th>rank_three_ind</th>\n      <th>value</th>\n    </tr>\n    <tr>\n      <th>method</th>\n      <th>finetune</th>\n      <th></th>\n      <th></th>\n      <th></th>\n      <th></th>\n    </tr>\n  </thead>\n  <tbody>\n    <tr>\n      <th>fedem</th>\n      <th>0</th>\n      <td>1</td>\n      <td>3</td>\n      <td>3</td>\n      <td>7</td>\n    </tr>\n    <tr>\n      <th>exact</th>\n      <th>0</th>\n      <td>3</td>\n      <td>2</td>\n      <td>1</td>\n      <td>6</td>\n    </tr>\n    <tr>\n      <th>pfedme</th>\n      <th>0</th>\n      <td>2</td>\n      <td>1</td>\n      <td>2</td>\n      <td>5</td>\n    </tr>\n    <tr>\n      <th>ditto</th>\n      <th>0</th>\n      <td>0</td>\n      <td>1</td>\n      <td>0</td>\n      <td>1</td>\n    </tr>\n    <tr>\n      <th>fedavg</th>\n      <th>0</th>\n      <td>0</td>\n      <td>0</td>\n      <td>1</td>\n      <td>1</td>\n    </tr>\n    <tr>\n      <th>fedbn</th>\n      <th>0</th>\n      <td>1</td>\n      <td>0</td>\n      <td>0</td>\n      <td>1</td>\n    </tr>\n  </tbody>\n</table>\n</div>"
     },
     "execution_count": 26,
     "metadata": {},
     "output_type": "execute_result"
    }
   ],
   "source": [
    "# run summary\n",
    "no_run_summary.sort_values(by='value', ascending=False)"
   ],
   "metadata": {
    "collapsed": false,
    "ExecuteTime": {
     "start_time": "2023-04-19T10:54:23.742534Z",
     "end_time": "2023-04-19T10:54:24.191990Z"
    }
   }
  },
  {
   "cell_type": "code",
   "execution_count": 27,
   "outputs": [
    {
     "data": {
      "text/plain": "                                       rank_one_ind  rank_two_ind  \\\nmetric                                                              \nResults_unseen/test_acc                           2             1   \nResults_unseen/test_acc_bottom_decile             1             0   \nResults_unseen/test_acc_std                       0             1   \n\n                                       rank_three_ind  value  \nmetric                                                        \nResults_unseen/test_acc                             0      3  \nResults_unseen/test_acc_bottom_decile               1      2  \nResults_unseen/test_acc_std                         0      1  ",
      "text/html": "<div>\n<style scoped>\n    .dataframe tbody tr th:only-of-type {\n        vertical-align: middle;\n    }\n\n    .dataframe tbody tr th {\n        vertical-align: top;\n    }\n\n    .dataframe thead th {\n        text-align: right;\n    }\n</style>\n<table border=\"1\" class=\"dataframe\">\n  <thead>\n    <tr style=\"text-align: right;\">\n      <th></th>\n      <th>rank_one_ind</th>\n      <th>rank_two_ind</th>\n      <th>rank_three_ind</th>\n      <th>value</th>\n    </tr>\n    <tr>\n      <th>metric</th>\n      <th></th>\n      <th></th>\n      <th></th>\n      <th></th>\n    </tr>\n  </thead>\n  <tbody>\n    <tr>\n      <th>Results_unseen/test_acc</th>\n      <td>2</td>\n      <td>1</td>\n      <td>0</td>\n      <td>3</td>\n    </tr>\n    <tr>\n      <th>Results_unseen/test_acc_bottom_decile</th>\n      <td>1</td>\n      <td>0</td>\n      <td>1</td>\n      <td>2</td>\n    </tr>\n    <tr>\n      <th>Results_unseen/test_acc_std</th>\n      <td>0</td>\n      <td>1</td>\n      <td>0</td>\n      <td>1</td>\n    </tr>\n  </tbody>\n</table>\n</div>"
     },
     "execution_count": 27,
     "metadata": {},
     "output_type": "execute_result"
    }
   ],
   "source": [
    "# metrics summary\n",
    "no_metric_summary.sort_values(by=sort_by, ascending=False)"
   ],
   "metadata": {
    "collapsed": false,
    "ExecuteTime": {
     "start_time": "2023-04-19T10:54:23.787371Z",
     "end_time": "2023-04-19T10:54:24.194979Z"
    }
   }
  },
  {
   "cell_type": "markdown",
   "source": [
    "Temporary scratch work below"
   ],
   "metadata": {
    "collapsed": false
   }
  },
  {
   "cell_type": "code",
   "execution_count": 28,
   "outputs": [
    {
     "name": "stdout",
     "output_type": "stream",
     "text": [
      "method & finetune & dataset & Results/test acc & Results unseen/test acc & generalization gap \\\\\n",
      "ditto & 0 & femnist--s02 & 0.895517 & 0.013385 & -0.882132 \\\\\n",
      "ditto & 0 & pubmed & 0.871126 & 0.001783 & -0.869343 \\\\\n",
      "ditto & 0 & sst2 & 0.513384 & 0.539752 & 0.026368 \\\\\n",
      "ditto & 1 & femnist--s02 & 0.903150 & 0.567176 & -0.335973 \\\\\n",
      "ditto & 1 & pubmed & 0.875375 & 0.244207 & -0.631169 \\\\\n",
      "ditto & 1 & sst2 & 0.594936 & 0.474551 & -0.120386 \\\\\n",
      "exact & 0 & femnist--s02 & 0.893264 & 0.913772 & 0.020508 \\\\\n",
      "exact & 0 & pubmed & 0.874337 & 0.704100 & -0.170237 \\\\\n",
      "exact & 0 & sst2 & 0.783775 & 0.794374 & 0.010599 \\\\\n",
      "exact & 1 & femnist--s02 & 0.898591 & 0.915247 & 0.016656 \\\\\n",
      "exact & 1 & pubmed & 0.872161 & 0.803922 & -0.068239 \\\\\n",
      "exact & 1 & sst2 & 0.781485 & 0.810150 & 0.028664 \\\\\n",
      "fedavg & 0 & femnist--s02 & 0.873541 & 0.897397 & 0.023856 \\\\\n",
      "fedavg & 0 & pubmed & 0.855285 & 0.666667 & -0.188618 \\\\\n",
      "fedavg & 0 & sst2 & 0.774538 & 0.752555 & -0.021983 \\\\\n",
      "fedavg & 1 & femnist--s02 & 0.885054 & 0.905504 & 0.020450 \\\\\n",
      "fedavg & 1 & pubmed & 0.867145 & 0.791444 & -0.075701 \\\\\n",
      "fedavg & 1 & sst2 & 0.765423 & 0.767984 & 0.002561 \\\\\n",
      "fedbn & 0 & femnist--s02 & 0.917154 & 0.002764 & -0.914391 \\\\\n",
      "fedbn & 0 & pubmed & 0.879817 & 0.456328 & -0.423489 \\\\\n",
      "fedbn & 0 & sst2 & 0.680186 & 0.691454 & 0.011269 \\\\\n",
      "fedbn & 1 & femnist--s02 & 0.918204 & 0.905893 & -0.012310 \\\\\n",
      "fedbn & 1 & pubmed & 0.878750 & 0.800357 & -0.078394 \\\\\n",
      "fedbn & 1 & sst2 & 0.736021 & 0.802959 & 0.066938 \\\\\n",
      "fedem & 0 & femnist--s02 & 0.894978 & 0.915469 & 0.020491 \\\\\n",
      "fedem & 0 & pubmed & 0.867725 & 0.689840 & -0.177885 \\\\\n",
      "fedem & 0 & sst2 & 0.768824 & 0.789156 & 0.020333 \\\\\n",
      "fedem & 1 & femnist--s02 & 0.895239 & 0.917450 & 0.022211 \\\\\n",
      "fedem & 1 & pubmed & 0.882248 & 0.787879 & -0.094370 \\\\\n",
      "fedem & 1 & sst2 & 0.780802 & 0.740449 & -0.040353 \\\\\n",
      "pfedme & 0 & femnist--s02 & 0.938622 & 0.913504 & -0.025117 \\\\\n",
      "pfedme & 0 & pubmed & 0.863289 & 0.691622 & -0.171667 \\\\\n",
      "pfedme & 0 & sst2 & 0.746476 & 0.783981 & 0.037506 \\\\\n",
      "pfedme & 1 & femnist--s02 & 0.928046 & 0.903646 & -0.024400 \\\\\n",
      "pfedme & 1 & pubmed & 0.866572 & 0.793226 & -0.073346 \\\\\n",
      "pfedme & 1 & sst2 & 0.769898 & 0.778507 & 0.008609 \\\\\n"
     ]
    },
    {
     "name": "stderr",
     "output_type": "stream",
     "text": [
      "C:\\Users\\joela\\AppData\\Local\\Temp\\ipykernel_22352\\365917792.py:4: SettingWithCopyWarning: \n",
      "A value is trying to be set on a copy of a slice from a DataFrame.\n",
      "Try using .loc[row_indexer,col_indexer] = value instead\n",
      "\n",
      "See the caveats in the documentation: https://pandas.pydata.org/pandas-docs/stable/user_guide/indexing.html#returning-a-view-versus-a-copy\n",
      "  temp['generalization_gap'] = temp['Results_unseen/test_acc'] - temp['Results/test_acc']\n"
     ]
    }
   ],
   "source": [
    "id_columns = ['method', 'finetune', 'dataset']\n",
    "metrics = ['Results/test_acc','Results_unseen/test_acc']\n",
    "temp = best_runs[id_columns + metrics]\n",
    "temp['generalization_gap'] = temp['Results_unseen/test_acc'] - temp['Results/test_acc']\n",
    "\n",
    "s = df_to_latex(temp, id_columns)\n",
    "print(s)"
   ],
   "metadata": {
    "collapsed": false,
    "ExecuteTime": {
     "start_time": "2023-04-19T10:54:23.834297Z",
     "end_time": "2023-04-19T10:54:24.220492Z"
    }
   }
  }
 ],
 "metadata": {
  "kernelspec": {
   "display_name": "Python 3",
   "language": "python",
   "name": "python3"
  },
  "language_info": {
   "codemirror_mode": {
    "name": "ipython",
    "version": 2
   },
   "file_extension": ".py",
   "mimetype": "text/x-python",
   "name": "python",
   "nbconvert_exporter": "python",
   "pygments_lexer": "ipython2",
   "version": "2.7.6"
  }
 },
 "nbformat": 4,
 "nbformat_minor": 0
}
