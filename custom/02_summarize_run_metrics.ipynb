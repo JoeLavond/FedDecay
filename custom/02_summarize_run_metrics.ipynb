{
 "cells": [
  {
   "cell_type": "markdown",
   "source": [
    "Import packages and processed run metrics"
   ],
   "metadata": {
    "collapsed": false
   }
  },
  {
   "cell_type": "code",
   "execution_count": 75,
   "metadata": {
    "collapsed": true,
    "ExecuteTime": {
     "start_time": "2023-05-08T09:33:59.897940Z",
     "end_time": "2023-05-08T09:34:00.260504Z"
    }
   },
   "outputs": [
    {
     "name": "stdout",
     "output_type": "stream",
     "text": [
      "input datasets:\n",
      "\t (681, 36)\n",
      "\t (1320, 44)\n",
      "\t (810, 37)\n",
      "all runs: (2811, 44)\n"
     ]
    }
   ],
   "source": [
    "# packages\n",
    "import os\n",
    "import re\n",
    "import numpy as np\n",
    "import pandas as pd\n",
    "\n",
    "# source\n",
    "helper = __import__('00_helper')\n",
    "\n",
    "# control\n",
    "write_files = 1\n",
    "validation_metric = 'Results/val_acc'\n",
    "project_names = [\n",
    "    'femnist--s02', 'sst2', 'pubmed'\n",
    "    #'pubmed2'#,\n",
    "    #'cifar--alpha5.0', 'cifar--alpha0.5', 'cifar--alpha0.1'\n",
    "]\n",
    "df = helper.load_data(project_names)\n",
    "\n",
    "## For CIFAR\n",
    "# remove_methods = [\n",
    "#     method for method in df.method.unique()\n",
    "#     if method not in ['fedavg', 'exact']\n",
    "# ]\n",
    "\n",
    "# Custom sorts\n",
    "from pandas.api.types import CategoricalDtype\n",
    "cat_method_type = CategoricalDtype(\n",
    "    [\n",
    "        'ditto', 'fedbn', 'fedem', 'pfedme',  # pfl-methods\n",
    "        'fomaml', 'fedavg', 'exact', 'linear'  # ml-methodsd\n",
    "    ],\n",
    "    ordered=True\n",
    ")\n",
    "cat_dataset_type = CategoricalDtype(\n",
    "    [\n",
    "        'femnist--s02', 'sst2', 'pubmed'\n",
    "    ],\n",
    "    ordered=True\n",
    ")\n"
   ]
  },
  {
   "cell_type": "code",
   "execution_count": 76,
   "outputs": [],
   "source": [
    "def df_to_latex(\n",
    "    df,\n",
    "    id_columns,\n",
    "    file_name=None,\n",
    "    remove_columns=None,\n",
    "    file_path='output'\n",
    "):\n",
    "\n",
    "    # remove columns not of interest\n",
    "    if remove_columns is None:\n",
    "        remove_columns = list()\n",
    "    temp_df = df[[name for name in df.columns if name not in remove_columns]]\n",
    "\n",
    "    # sort by id columns\n",
    "    temp_df = temp_df.sort_values(by=id_columns)\n",
    "\n",
    "    # create output file\n",
    "    string_df = temp_df.to_string(\n",
    "        header=True,\n",
    "        index=False,\n",
    "        index_names=False\n",
    "    )\n",
    "\n",
    "    # remove any leading space\n",
    "    string_df = re.sub('^[\\s]+', '', string_df)\n",
    "    # remove leading space after newlines\n",
    "    string_df = re.sub('\\n[\\s]+', '\\n', string_df)\n",
    "    # replace white space between words with table column skip\n",
    "    string_df = re.sub('[ \\t]+', ' & ', string_df)\n",
    "\n",
    "    # add latex newline to end of each line\n",
    "    string_df = string_df.replace('_', ' ')\n",
    "    string_df = string_df.replace('\\n', ' \\\\\\\\\\n')\n",
    "    string_df = string_df + ' \\\\\\\\'\n",
    "\n",
    "    if file_name is not None:\n",
    "\n",
    "        # write to file\n",
    "        with open(os.path.join(file_path, f'{file_name}.txt'), 'w') as f:\n",
    "            f.writelines(string_df)\n",
    "\n",
    "    else:\n",
    "        return string_df\n"
   ],
   "metadata": {
    "collapsed": false,
    "ExecuteTime": {
     "start_time": "2023-05-08T09:34:00.238798Z",
     "end_time": "2023-05-08T09:34:00.322243Z"
    }
   }
  },
  {
   "cell_type": "markdown",
   "source": [
    "Filter data to runs of interest\n",
    "Apply summary function to filtered dataset"
   ],
   "metadata": {
    "collapsed": false
   }
  },
  {
   "cell_type": "code",
   "execution_count": 77,
   "outputs": [
    {
     "name": "stdout",
     "output_type": "stream",
     "text": [
      "input dataset: (2811, 44)\n",
      "\t reduce to 3 or fewer local update steps: (2125, 44)\n",
      "\t reduce to 3 or fewer local meta-learning steps for pfedme: (2045, 44)\n",
      "\t reduce beta grid for decay: (1948, 44)\n"
     ]
    }
   ],
   "source": [
    "row_df = df\n",
    "print('input dataset:', df.shape)\n",
    "\n",
    "## row (run) filtering\n",
    "# remove extra hyper-parameter searches\n",
    "\n",
    "row_df = row_df.loc[(row_df.n_epochs < 6)]\n",
    "print('\\t reduce to 3 or fewer local update steps:', row_df.shape)\n",
    "\n",
    "row_df = row_df.loc[(row_df.K < 6) | (row_df.method != 'pfedme')]\n",
    "print('\\t reduce to 3 or fewer local meta-learning steps for pfedme:', row_df.shape)\n",
    "\n",
    "row_df = row_df.loc[((10 * row_df.beta).astype('Int64') % 2 == 0) | (row_df.method != 'exact')]\n",
    "print('\\t reduce beta grid for decay:', row_df.shape)\n",
    "\n",
    "## column (metric) filtering\n",
    "subset_df = row_df[[\n",
    "    name for name in row_df.columns\n",
    "    if (\n",
    "        not re.search('^sys', name)\n",
    "        and not re.search('f1', name)\n",
    "        and not re.search('loss', name)\n",
    "    )\n",
    "]]"
   ],
   "metadata": {
    "collapsed": false,
    "ExecuteTime": {
     "start_time": "2023-05-08T09:34:00.285409Z",
     "end_time": "2023-05-08T09:34:00.358533Z"
    }
   }
  },
  {
   "cell_type": "code",
   "execution_count": 78,
   "outputs": [
    {
     "data": {
      "text/plain": "Index(['method', 'finetune', 'dataset', 's', 'n_epochs', 'lr', 'beta',\n       'regular_weight', 'K', 'Results/test_acc',\n       'Results/test_acc_bottom_decile', 'Results/test_acc_std',\n       'Results/val_acc', 'Results_unseen/test_acc',\n       'Results_unseen/test_acc_bottom_decile', 'Results_unseen/test_acc_std',\n       'Results_weighted/test_acc', 'Results_weighted_unseen/test_acc',\n       'batch_size'],\n      dtype='object')"
     },
     "execution_count": 78,
     "metadata": {},
     "output_type": "execute_result"
    }
   ],
   "source": [
    "## get best runs for each group\n",
    "# regardless of finetuning\n",
    "best_runs = subset_df.loc[\n",
    "    subset_df.groupby(['dataset', 'method', 'finetune']) \\\n",
    "    [validation_metric].idxmax()  # return index of max validation metric\n",
    "]\n",
    "best_runs['method'] = best_runs['method'].astype(cat_method_type)\n",
    "best_runs['dataset'] = best_runs['dataset'].astype(cat_dataset_type)\n",
    "\n",
    "# treat finetuning groups as seperate\n",
    "ft_yes = best_runs.loc[best_runs.finetune == 1]\n",
    "ft_no = best_runs.loc[best_runs.finetune == 0]\n",
    "\n",
    "# best_runs.loc[[method not in remove_methods for method in best_runs.method]].head(12)\n",
    "best_runs.columns"
   ],
   "metadata": {
    "collapsed": false,
    "ExecuteTime": {
     "start_time": "2023-05-08T09:34:00.362522Z",
     "end_time": "2023-05-08T09:34:00.445766Z"
    }
   }
  },
  {
   "cell_type": "markdown",
   "source": [
    "For all best runs, regardless of finetuning, produce summaries"
   ],
   "metadata": {
    "collapsed": false
   }
  },
  {
   "cell_type": "code",
   "execution_count": 79,
   "outputs": [
    {
     "name": "stdout",
     "output_type": "stream",
     "text": [
      "\n",
      "descending metrics: ['Results/test_acc', 'Results/test_acc_bottom_decile']\n",
      "\n",
      "ascending metrics: ['Results/test_acc_std']\n",
      "\n",
      "id_columns Index(['method', 'finetune', 'dataset', 's', 'n_epochs', 'lr', 'beta',\n",
      "       'regular_weight', 'K', 'Results/val_acc', 'batch_size'],\n",
      "      dtype='object')\n",
      "all runs: (8, 4)\n",
      "all metrics: (3, 4)\n"
     ]
    }
   ],
   "source": [
    "# For existing users, FT since sufficient data\n",
    "seen_best_runs = ft_yes[[\n",
    "    name for name in ft_yes.columns\n",
    "    if (\n",
    "        not re.search('weighted', name)\n",
    "        and not re.search('unseen', name)\n",
    "    )\n",
    "    or (\n",
    "        not re.search('Results', name)\n",
    "        or re.search('val', name)\n",
    "    )\n",
    "]]\n",
    "\n",
    "if write_files:\n",
    "    helper.runs_to_latex(seen_best_runs, 'seen--ft_yes')\n",
    "\n",
    "(seen_run_summary, seen_metric_summary, seen_rank_summary) = helper.process_run_metrics(seen_best_runs)\n",
    "print('all runs:', seen_run_summary.shape)\n",
    "print('all metrics:', seen_metric_summary.shape)"
   ],
   "metadata": {
    "collapsed": false,
    "ExecuteTime": {
     "start_time": "2023-05-08T09:34:00.452705Z",
     "end_time": "2023-05-08T09:34:00.675768Z"
    }
   }
  },
  {
   "cell_type": "code",
   "execution_count": 80,
   "outputs": [
    {
     "data": {
      "text/plain": "                 rank_one_ind  rank_two_ind  rank_three_ind  value\nmethod finetune                                                   \nditto  1                    0             1               4      5\nfedbn  1                    2             3               0      5\npfedme 1                    3             0               1      4\nexact  1                    1             3               0      4\nfedem  1                    1             1               1      3\nfomaml 1                    1             1               1      3\nlinear 1                    1             0               2      3\nfedavg 1                    1             1               0      2",
      "text/html": "<div>\n<style scoped>\n    .dataframe tbody tr th:only-of-type {\n        vertical-align: middle;\n    }\n\n    .dataframe tbody tr th {\n        vertical-align: top;\n    }\n\n    .dataframe thead th {\n        text-align: right;\n    }\n</style>\n<table border=\"1\" class=\"dataframe\">\n  <thead>\n    <tr style=\"text-align: right;\">\n      <th></th>\n      <th></th>\n      <th>rank_one_ind</th>\n      <th>rank_two_ind</th>\n      <th>rank_three_ind</th>\n      <th>value</th>\n    </tr>\n    <tr>\n      <th>method</th>\n      <th>finetune</th>\n      <th></th>\n      <th></th>\n      <th></th>\n      <th></th>\n    </tr>\n  </thead>\n  <tbody>\n    <tr>\n      <th>ditto</th>\n      <th>1</th>\n      <td>0</td>\n      <td>1</td>\n      <td>4</td>\n      <td>5</td>\n    </tr>\n    <tr>\n      <th>fedbn</th>\n      <th>1</th>\n      <td>2</td>\n      <td>3</td>\n      <td>0</td>\n      <td>5</td>\n    </tr>\n    <tr>\n      <th>pfedme</th>\n      <th>1</th>\n      <td>3</td>\n      <td>0</td>\n      <td>1</td>\n      <td>4</td>\n    </tr>\n    <tr>\n      <th>exact</th>\n      <th>1</th>\n      <td>1</td>\n      <td>3</td>\n      <td>0</td>\n      <td>4</td>\n    </tr>\n    <tr>\n      <th>fedem</th>\n      <th>1</th>\n      <td>1</td>\n      <td>1</td>\n      <td>1</td>\n      <td>3</td>\n    </tr>\n    <tr>\n      <th>fomaml</th>\n      <th>1</th>\n      <td>1</td>\n      <td>1</td>\n      <td>1</td>\n      <td>3</td>\n    </tr>\n    <tr>\n      <th>linear</th>\n      <th>1</th>\n      <td>1</td>\n      <td>0</td>\n      <td>2</td>\n      <td>3</td>\n    </tr>\n    <tr>\n      <th>fedavg</th>\n      <th>1</th>\n      <td>1</td>\n      <td>1</td>\n      <td>0</td>\n      <td>2</td>\n    </tr>\n  </tbody>\n</table>\n</div>"
     },
     "execution_count": 80,
     "metadata": {},
     "output_type": "execute_result"
    }
   ],
   "source": [
    "# run summary\n",
    "seen_run_summary.sort_values(by='value', ascending=False)"
   ],
   "metadata": {
    "collapsed": false,
    "ExecuteTime": {
     "start_time": "2023-05-08T09:34:00.681804Z",
     "end_time": "2023-05-08T09:34:00.764747Z"
    }
   }
  },
  {
   "cell_type": "markdown",
   "source": [
    "View processed summaries"
   ],
   "metadata": {
    "collapsed": false
   }
  },
  {
   "cell_type": "code",
   "execution_count": 81,
   "outputs": [
    {
     "data": {
      "text/plain": "                                rank_one_ind  rank_two_ind  rank_three_ind  \\\nmetric                                                                       \nResults/test_acc_bottom_decile             2             2               2   \nResults/test_acc                           1             1               1   \nResults/test_acc_std                       1             1               1   \n\n                                value  \nmetric                                 \nResults/test_acc_bottom_decile      2  \nResults/test_acc                    1  \nResults/test_acc_std                1  ",
      "text/html": "<div>\n<style scoped>\n    .dataframe tbody tr th:only-of-type {\n        vertical-align: middle;\n    }\n\n    .dataframe tbody tr th {\n        vertical-align: top;\n    }\n\n    .dataframe thead th {\n        text-align: right;\n    }\n</style>\n<table border=\"1\" class=\"dataframe\">\n  <thead>\n    <tr style=\"text-align: right;\">\n      <th></th>\n      <th>rank_one_ind</th>\n      <th>rank_two_ind</th>\n      <th>rank_three_ind</th>\n      <th>value</th>\n    </tr>\n    <tr>\n      <th>metric</th>\n      <th></th>\n      <th></th>\n      <th></th>\n      <th></th>\n    </tr>\n  </thead>\n  <tbody>\n    <tr>\n      <th>Results/test_acc_bottom_decile</th>\n      <td>2</td>\n      <td>2</td>\n      <td>2</td>\n      <td>2</td>\n    </tr>\n    <tr>\n      <th>Results/test_acc</th>\n      <td>1</td>\n      <td>1</td>\n      <td>1</td>\n      <td>1</td>\n    </tr>\n    <tr>\n      <th>Results/test_acc_std</th>\n      <td>1</td>\n      <td>1</td>\n      <td>1</td>\n      <td>1</td>\n    </tr>\n  </tbody>\n</table>\n</div>"
     },
     "execution_count": 81,
     "metadata": {},
     "output_type": "execute_result"
    }
   ],
   "source": [
    "# metrics summary\n",
    "sort_by = ['value', 'rank_one_ind', 'rank_two_ind', 'rank_three_ind']\n",
    "seen_metric_summary.sort_values(by=sort_by, ascending=False)"
   ],
   "metadata": {
    "collapsed": false,
    "ExecuteTime": {
     "start_time": "2023-05-08T09:34:00.713292Z",
     "end_time": "2023-05-08T09:34:00.779602Z"
    }
   }
  },
  {
   "cell_type": "markdown",
   "source": [
    "Now seperately, based on finetuning status, repeat the above summary"
   ],
   "metadata": {
    "collapsed": false
   }
  },
  {
   "cell_type": "code",
   "execution_count": 82,
   "outputs": [],
   "source": [
    "unseen_best_runs = best_runs[[\n",
    "    name for name in ft_yes.columns\n",
    "    if (\n",
    "               not re.search('weighted', name)\n",
    "               and re.search('unseen', name)\n",
    "       )\n",
    "       or (\n",
    "               not re.search('Results', name)\n",
    "               or re.search('val', name)\n",
    "       )\n",
    "]]"
   ],
   "metadata": {
    "collapsed": false,
    "ExecuteTime": {
     "start_time": "2023-05-08T09:34:00.738817Z",
     "end_time": "2023-05-08T09:34:00.779602Z"
    }
   }
  },
  {
   "cell_type": "code",
   "execution_count": 83,
   "outputs": [
    {
     "name": "stdout",
     "output_type": "stream",
     "text": [
      "\n",
      "descending metrics: ['Results_unseen/test_acc', 'Results_unseen/test_acc_bottom_decile']\n",
      "\n",
      "ascending metrics: ['Results_unseen/test_acc_std']\n",
      "\n",
      "id_columns Index(['method', 'finetune', 'dataset', 's', 'n_epochs', 'lr', 'beta',\n",
      "       'regular_weight', 'K', 'Results/val_acc', 'batch_size'],\n",
      "      dtype='object')\n"
     ]
    }
   ],
   "source": [
    "ft_yes = unseen_best_runs.loc[unseen_best_runs.finetune == 1]\n",
    "(yes_run_summary, yes_metric_summary, _) = helper.process_run_metrics(ft_yes)\n",
    "if write_files:\n",
    "    helper.runs_to_latex(ft_yes, 'unseen--ft_yes')"
   ],
   "metadata": {
    "collapsed": false,
    "ExecuteTime": {
     "start_time": "2023-05-08T09:34:00.754668Z",
     "end_time": "2023-05-08T09:34:01.101489Z"
    }
   }
  },
  {
   "cell_type": "code",
   "execution_count": 84,
   "outputs": [
    {
     "data": {
      "text/plain": "                 rank_one_ind  rank_two_ind  rank_three_ind  value\nmethod finetune                                                   \nexact  1                    4             0               2      6\nlinear 1                    2             3               1      6\nfedbn  1                    0             2               1      3\nfomaml 1                    0             2               1      3\nfedavg 1                    1             2               0      3\nfedem  1                    0             1               1      2\npfedme 1                    0             1               0      1\nditto  1                    0             0               0      0",
      "text/html": "<div>\n<style scoped>\n    .dataframe tbody tr th:only-of-type {\n        vertical-align: middle;\n    }\n\n    .dataframe tbody tr th {\n        vertical-align: top;\n    }\n\n    .dataframe thead th {\n        text-align: right;\n    }\n</style>\n<table border=\"1\" class=\"dataframe\">\n  <thead>\n    <tr style=\"text-align: right;\">\n      <th></th>\n      <th></th>\n      <th>rank_one_ind</th>\n      <th>rank_two_ind</th>\n      <th>rank_three_ind</th>\n      <th>value</th>\n    </tr>\n    <tr>\n      <th>method</th>\n      <th>finetune</th>\n      <th></th>\n      <th></th>\n      <th></th>\n      <th></th>\n    </tr>\n  </thead>\n  <tbody>\n    <tr>\n      <th>exact</th>\n      <th>1</th>\n      <td>4</td>\n      <td>0</td>\n      <td>2</td>\n      <td>6</td>\n    </tr>\n    <tr>\n      <th>linear</th>\n      <th>1</th>\n      <td>2</td>\n      <td>3</td>\n      <td>1</td>\n      <td>6</td>\n    </tr>\n    <tr>\n      <th>fedbn</th>\n      <th>1</th>\n      <td>0</td>\n      <td>2</td>\n      <td>1</td>\n      <td>3</td>\n    </tr>\n    <tr>\n      <th>fomaml</th>\n      <th>1</th>\n      <td>0</td>\n      <td>2</td>\n      <td>1</td>\n      <td>3</td>\n    </tr>\n    <tr>\n      <th>fedavg</th>\n      <th>1</th>\n      <td>1</td>\n      <td>2</td>\n      <td>0</td>\n      <td>3</td>\n    </tr>\n    <tr>\n      <th>fedem</th>\n      <th>1</th>\n      <td>0</td>\n      <td>1</td>\n      <td>1</td>\n      <td>2</td>\n    </tr>\n    <tr>\n      <th>pfedme</th>\n      <th>1</th>\n      <td>0</td>\n      <td>1</td>\n      <td>0</td>\n      <td>1</td>\n    </tr>\n    <tr>\n      <th>ditto</th>\n      <th>1</th>\n      <td>0</td>\n      <td>0</td>\n      <td>0</td>\n      <td>0</td>\n    </tr>\n  </tbody>\n</table>\n</div>"
     },
     "execution_count": 84,
     "metadata": {},
     "output_type": "execute_result"
    }
   ],
   "source": [
    "# run summary\n",
    "yes_run_summary.sort_values(by='value', ascending=False)"
   ],
   "metadata": {
    "collapsed": false,
    "ExecuteTime": {
     "start_time": "2023-05-08T09:34:00.931707Z",
     "end_time": "2023-05-08T09:34:01.262860Z"
    }
   }
  },
  {
   "cell_type": "code",
   "execution_count": 85,
   "outputs": [
    {
     "data": {
      "text/plain": "                                       rank_one_ind  rank_two_ind  \\\nmetric                                                              \nResults_unseen/test_acc                           3             3   \nResults_unseen/test_acc_bottom_decile             2             2   \nResults_unseen/test_acc_std                       1             1   \n\n                                       rank_three_ind  value  \nmetric                                                        \nResults_unseen/test_acc                             3      3  \nResults_unseen/test_acc_bottom_decile               2      2  \nResults_unseen/test_acc_std                         1      1  ",
      "text/html": "<div>\n<style scoped>\n    .dataframe tbody tr th:only-of-type {\n        vertical-align: middle;\n    }\n\n    .dataframe tbody tr th {\n        vertical-align: top;\n    }\n\n    .dataframe thead th {\n        text-align: right;\n    }\n</style>\n<table border=\"1\" class=\"dataframe\">\n  <thead>\n    <tr style=\"text-align: right;\">\n      <th></th>\n      <th>rank_one_ind</th>\n      <th>rank_two_ind</th>\n      <th>rank_three_ind</th>\n      <th>value</th>\n    </tr>\n    <tr>\n      <th>metric</th>\n      <th></th>\n      <th></th>\n      <th></th>\n      <th></th>\n    </tr>\n  </thead>\n  <tbody>\n    <tr>\n      <th>Results_unseen/test_acc</th>\n      <td>3</td>\n      <td>3</td>\n      <td>3</td>\n      <td>3</td>\n    </tr>\n    <tr>\n      <th>Results_unseen/test_acc_bottom_decile</th>\n      <td>2</td>\n      <td>2</td>\n      <td>2</td>\n      <td>2</td>\n    </tr>\n    <tr>\n      <th>Results_unseen/test_acc_std</th>\n      <td>1</td>\n      <td>1</td>\n      <td>1</td>\n      <td>1</td>\n    </tr>\n  </tbody>\n</table>\n</div>"
     },
     "execution_count": 85,
     "metadata": {},
     "output_type": "execute_result"
    }
   ],
   "source": [
    "# metrics summary\n",
    "yes_metric_summary.sort_values(by=sort_by, ascending=False)\n"
   ],
   "metadata": {
    "collapsed": false,
    "ExecuteTime": {
     "start_time": "2023-05-08T09:34:00.958460Z",
     "end_time": "2023-05-08T09:34:01.311404Z"
    }
   }
  },
  {
   "cell_type": "markdown",
   "source": [
    "TEMPORARY - DECAY SCHEMES"
   ],
   "metadata": {
    "collapsed": false
   }
  },
  {
   "cell_type": "code",
   "execution_count": 95,
   "outputs": [
    {
     "name": "stdout",
     "output_type": "stream",
     "text": [
      "dataset       category\n",
      "method        category\n",
      "test_acc       float64\n",
      "bot_decile     float64\n",
      "users           object\n",
      "dtype: object\n"
     ]
    },
    {
     "data": {
      "text/plain": "<Figure size 1637.12x500 with 3 Axes>",
      "image/png": "[encoded data removed]"
     },
     "metadata": {},
     "output_type": "display_data"
    }
   ],
   "source": [
    "import matplotlib.pyplot as plt\n",
    "plt.rcParams.update({'font.size': 14})\n",
    "import seaborn as sns\n",
    "\n",
    "# data manipuilation\n",
    "columns = ['dataset', 'method', 'test_acc', 'bot_decile', 'users']\n",
    "\n",
    "temp_seen = seen_best_runs.loc[seen_best_runs.finetune == 1]\n",
    "temp_seen = temp_seen[['dataset', 'method', 'Results/test_acc', 'Results/test_acc_bottom_decile']]\n",
    "temp_seen['users'] = 'Existing'\n",
    "temp_seen.columns = columns\n",
    "\n",
    "temp_unseen = unseen_best_runs.loc[unseen_best_runs.finetune == 1]\n",
    "temp_unseen = temp_unseen[['dataset', 'method', 'Results_unseen/test_acc', 'Results_unseen/test_acc_bottom_decile']]\n",
    "temp_unseen['users'] = 'New'\n",
    "temp_unseen.columns = columns\n",
    "\n",
    "temp = pd.concat([temp_seen, temp_unseen])\n",
    "temp = temp.loc[(temp.method == 'exact') | (temp.method == 'linear') | (temp.method == 'fedavg')]\n",
    "cat_temp_type = CategoricalDtype(['exact', 'linear', 'fedavg'], ordered=True )\n",
    "temp.method = temp.method.astype(cat_temp_type)\n",
    "print(temp.dtypes)\n",
    "\n",
    "# plot\n",
    "g = sns.catplot(\n",
    "    data=temp,\n",
    "    y='test_acc',\n",
    "    x='users', hue='method', col='dataset',\n",
    "    kind='bar',\n",
    "    facet_kws={'legend_out': True}\n",
    ")\n",
    "\n",
    "# edit legend\n",
    "g._legend.set_title('Decay Scheme')\n",
    "for h, text in zip(g._legend.texts, ['Exponential', 'Linear', 'Constant \\n(FedAvg)']):\n",
    "    h.set_text(text)\n",
    "\n",
    "# set titles\n",
    "axarr = g.axes.flatten()\n",
    "Datasets = ['FEMNIST (image)', 'SST (text)', 'PUBMED (graph)']\n",
    "for i, Dataset in enumerate(Datasets):\n",
    "    if i == 0:\n",
    "        axarr[i].set_ylabel('Test Acc')\n",
    "    axarr[i].set_title(Dataset)\n",
    "    axarr[i].set_xlabel('Users')\n",
    "\n",
    "sns.move_legend(g, 'lower right', bbox_to_anchor=(1.02, .425))\n",
    "plt.savefig('figures/decay-scheme.png', bbox_inches='tight')"
   ],
   "metadata": {
    "collapsed": false,
    "ExecuteTime": {
     "start_time": "2023-05-08T09:50:12.262045Z",
     "end_time": "2023-05-08T09:50:16.279493Z"
    }
   }
  },
  {
   "cell_type": "markdown",
   "source": [
    "TEMPORARY - SENSITIVITY ANALYSIS"
   ],
   "metadata": {
    "collapsed": false
   }
  },
  {
   "cell_type": "code",
   "execution_count": null,
   "outputs": [],
   "source": [
    "exact_df = row_df.loc[\n",
    "    (subset_df.method == 'exact')\n",
    "    & (subset_df.n_epochs <= 3)\n",
    "    & (subset_df.finetune == 1)\n",
    "]\n",
    "\n",
    "exact_df.groupby(['dataset', 'beta']) \\\n",
    "    [validation_metric].idxmax()  # return index of max validation metric\n"
   ],
   "metadata": {
    "collapsed": false,
    "ExecuteTime": {
     "start_time": "2023-05-05T16:36:28.952612Z",
     "end_time": "2023-05-05T16:36:28.966575Z"
    }
   }
  },
  {
   "cell_type": "code",
   "execution_count": null,
   "outputs": [],
   "source": [
    "best_beta = exact_df.loc[\n",
    "    exact_df.groupby(['dataset', 'beta']) \\\n",
    "        [validation_metric].idxmax()  # return index of max validation metric\n",
    "].sort_values(by=['dataset', 'beta'])\n",
    "print(best_beta.shape)\n",
    "\n",
    "import matplotlib.pyplot as plt\n",
    "from matplotlib.lines import Line2D\n",
    "\n",
    "# best beta\n",
    "datasets = ['femnist--s02', 'sst2', 'pubmed']\n",
    "Datasets = ['FEMNIST (image)', 'SST (text)', 'PUBMED (graph)']\n",
    "\n",
    "fig, axarr = plt.subplots(\n",
    "    nrows=1, ncols=len(datasets),\n",
    "    sharex=True, sharey=True,\n",
    "    figsize=(4*len(datasets), 4)\n",
    ")\n",
    "axarr[0].set_ylabel('Test Accuracy')\n",
    "for i, (dataset, Dataset) in enumerate(zip(datasets, Datasets)):\n",
    "    temp_df = best_beta.loc[best_beta.dataset == dataset]\n",
    "    axarr[i].set_title(Dataset)\n",
    "    axarr[i].set_xlabel('Beta')\n",
    "    axarr[i].plot(temp_df.beta, temp_df['Results/test_acc'], color='blue')\n",
    "    axarr[i].plot(temp_df.beta, temp_df['Results_unseen/test_acc'], color='green')\n",
    "\n",
    "custom_lines = [\n",
    "    Line2D([0], [0], color='blue'),\n",
    "    Line2D([0], [0], color='green')\n",
    "]\n",
    "custom_labels = [\n",
    "    'Existing Users',\n",
    "    'New Users'\n",
    "]\n",
    "axarr[0].legend(\n",
    "    custom_lines, custom_labels,\n",
    "    loc='lower left'#,\n",
    "    #bbox_to_anchor=(1, -.15),\n",
    "    #ncol=len(datasets)\n",
    ")\n",
    "\n",
    "if write_files:\n",
    "    plt.savefig('figures/sensitivity-analysis-best-beta.png')"
   ],
   "metadata": {
    "collapsed": false,
    "ExecuteTime": {
     "start_time": "2023-05-05T16:36:28.975552Z",
     "end_time": "2023-05-05T16:36:29.545029Z"
    }
   }
  }
 ],
 "metadata": {
  "kernelspec": {
   "display_name": "Python 3",
   "language": "python",
   "name": "python3"
  },
  "language_info": {
   "codemirror_mode": {
    "name": "ipython",
    "version": 2
   },
   "file_extension": ".py",
   "mimetype": "text/x-python",
   "name": "python",
   "nbconvert_exporter": "python",
   "pygments_lexer": "ipython2",
   "version": "2.7.6"
  }
 },
 "nbformat": 4,
 "nbformat_minor": 0
}
