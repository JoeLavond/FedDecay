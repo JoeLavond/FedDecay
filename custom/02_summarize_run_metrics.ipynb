{
 "cells": [
  {
   "cell_type": "markdown",
   "source": [
    "Import packages and processed run metrics"
   ],
   "metadata": {
    "collapsed": false
   }
  },
  {
   "cell_type": "code",
   "execution_count": 34,
   "metadata": {
    "collapsed": true,
    "ExecuteTime": {
     "start_time": "2023-04-28T16:30:39.838918Z",
     "end_time": "2023-04-28T16:30:39.919691Z"
    }
   },
   "outputs": [
    {
     "name": "stdout",
     "output_type": "stream",
     "text": [
      "input datasets:\n",
      "\t (681, 36)\n",
      "\t (1320, 44)\n",
      "\t (810, 37)\n",
      "\t (185, 43)\n",
      "all runs: (2996, 44)\n"
     ]
    }
   ],
   "source": [
    "# packages\n",
    "import os\n",
    "import re\n",
    "import numpy as np\n",
    "import pandas as pd\n",
    "\n",
    "# source\n",
    "helper = __import__('00_helper')\n",
    "\n",
    "# control\n",
    "write_files = 1\n",
    "validation_metric = 'Results/val_acc'\n",
    "project_names = [\n",
    "    'femnist--s02', 'sst2', 'pubmed', 'pubmed2'#,\n",
    "    #'cifar--alpha5.0', 'cifar--alpha0.5', 'cifar--alpha0.1'\n",
    "]\n",
    "df = helper.load_data(project_names)\n",
    "\n",
    "## For CIFAR\n",
    "# remove_methods = [\n",
    "#     method for method in df.method.unique()\n",
    "#     if method not in ['fedavg', 'exact']\n",
    "# ]\n",
    "\n",
    "# Custom sorts\n",
    "from pandas.api.types import CategoricalDtype\n",
    "cat_method_type = CategoricalDtype(\n",
    "    [\n",
    "        'ditto', 'fedbn', 'fedem', 'pfedme',  # pfl-methods\n",
    "        'fomaml', 'fedavg', 'exact', 'linear'  # ml-methodsd\n",
    "    ],\n",
    "    ordered=True\n",
    ")\n",
    "cat_dataset_type = CategoricalDtype(\n",
    "    [\n",
    "        'femnist--s02', 'sst2', 'pubmed',\n",
    "        'pubmed2'\n",
    "    ],\n",
    "    ordered=True\n",
    ")\n"
   ]
  },
  {
   "cell_type": "code",
   "execution_count": 35,
   "outputs": [],
   "source": [
    "def df_to_latex(\n",
    "    df,\n",
    "    id_columns,\n",
    "    file_name=None,\n",
    "    remove_columns=None,\n",
    "    file_path='output'\n",
    "):\n",
    "\n",
    "    # remove columns not of interest\n",
    "    if remove_columns is None:\n",
    "        remove_columns = list()\n",
    "    temp_df = df[[name for name in df.columns if name not in remove_columns]]\n",
    "\n",
    "    # sort by id columns\n",
    "    temp_df = temp_df.sort_values(by=id_columns)\n",
    "\n",
    "    # create output file\n",
    "    string_df = temp_df.to_string(\n",
    "        header=True,\n",
    "        index=False,\n",
    "        index_names=False\n",
    "    )\n",
    "\n",
    "    # remove any leading space\n",
    "    string_df = re.sub('^[\\s]+', '', string_df)\n",
    "    # remove leading space after newlines\n",
    "    string_df = re.sub('\\n[\\s]+', '\\n', string_df)\n",
    "    # replace white space between words with table column skip\n",
    "    string_df = re.sub('[ \\t]+', ' & ', string_df)\n",
    "\n",
    "    # add latex newline to end of each line\n",
    "    string_df = string_df.replace('_', ' ')\n",
    "    string_df = string_df.replace('\\n', ' \\\\\\\\\\n')\n",
    "    string_df = string_df + ' \\\\\\\\'\n",
    "\n",
    "    if file_name is not None:\n",
    "\n",
    "        # write to file\n",
    "        with open(os.path.join(file_path, f'{file_name}.txt'), 'w') as f:\n",
    "            f.writelines(string_df)\n",
    "\n",
    "    else:\n",
    "        return string_df\n"
   ],
   "metadata": {
    "collapsed": false,
    "ExecuteTime": {
     "start_time": "2023-04-28T16:30:39.901730Z",
     "end_time": "2023-04-28T16:30:39.919691Z"
    }
   }
  },
  {
   "cell_type": "markdown",
   "source": [
    "Filter data to runs of interest\n",
    "Apply summary function to filtered dataset"
   ],
   "metadata": {
    "collapsed": false
   }
  },
  {
   "cell_type": "code",
   "execution_count": 36,
   "outputs": [
    {
     "name": "stdout",
     "output_type": "stream",
     "text": [
      "input dataset: (2996, 44)\n",
      "\t reduce to 3 or fewer local update steps: (2310, 44)\n",
      "\t reduce to 3 or fewer local meta-learning steps for pfedme: (2230, 44)\n",
      "\t reduce beta grid for decay: (2133, 44)\n"
     ]
    }
   ],
   "source": [
    "row_df = df\n",
    "print('input dataset:', df.shape)\n",
    "\n",
    "## row (run) filtering\n",
    "# remove extra hyper-parameter searches\n",
    "\n",
    "row_df = row_df.loc[(row_df.n_epochs < 6)]\n",
    "print('\\t reduce to 3 or fewer local update steps:', row_df.shape)\n",
    "\n",
    "row_df = row_df.loc[(row_df.K < 6) | (row_df.method != 'pfedme')]\n",
    "print('\\t reduce to 3 or fewer local meta-learning steps for pfedme:', row_df.shape)\n",
    "\n",
    "row_df = row_df.loc[((10 * row_df.beta).astype('Int64') % 2 == 0) | (row_df.method != 'exact')]\n",
    "print('\\t reduce beta grid for decay:', row_df.shape)\n",
    "\n",
    "## column (metric) filtering\n",
    "subset_df = row_df[[\n",
    "    name for name in row_df.columns\n",
    "    if (\n",
    "        not re.search('^sys', name)\n",
    "        and not re.search('f1', name)\n",
    "        and not re.search('loss', name)\n",
    "    )\n",
    "]]"
   ],
   "metadata": {
    "collapsed": false,
    "ExecuteTime": {
     "start_time": "2023-04-28T16:30:39.915693Z",
     "end_time": "2023-04-28T16:30:39.927663Z"
    }
   }
  },
  {
   "cell_type": "code",
   "execution_count": 37,
   "outputs": [
    {
     "data": {
      "text/plain": "Index(['method', 'finetune', 'dataset', 's', 'n_epochs', 'lr', 'beta',\n       'regular_weight', 'K', 'Results/test_acc',\n       'Results/test_acc_bottom_decile', 'Results/test_acc_std',\n       'Results/val_acc', 'Results_unseen/test_acc',\n       'Results_unseen/test_acc_bottom_decile', 'Results_unseen/test_acc_std',\n       'Results_weighted/test_acc', 'Results_weighted_unseen/test_acc',\n       'batch_size'],\n      dtype='object')"
     },
     "execution_count": 37,
     "metadata": {},
     "output_type": "execute_result"
    }
   ],
   "source": [
    "## get best runs for each group\n",
    "# regardless of finetuning\n",
    "best_runs = subset_df.loc[\n",
    "    subset_df.groupby(['dataset', 'method', 'finetune']) \\\n",
    "    [validation_metric].idxmax()  # return index of max validation metric\n",
    "]\n",
    "best_runs['method'] = best_runs['method'].astype(cat_method_type)\n",
    "best_runs['dataset'] = best_runs['dataset'].astype(cat_dataset_type)\n",
    "\n",
    "# treat finetuning groups as seperate\n",
    "ft_yes = best_runs.loc[best_runs.finetune == 1]\n",
    "ft_no = best_runs.loc[best_runs.finetune == 0]\n",
    "\n",
    "# best_runs.loc[[method not in remove_methods for method in best_runs.method]].head(12)\n",
    "best_runs.columns"
   ],
   "metadata": {
    "collapsed": false,
    "ExecuteTime": {
     "start_time": "2023-04-28T16:30:39.930655Z",
     "end_time": "2023-04-28T16:30:39.999738Z"
    }
   }
  },
  {
   "cell_type": "markdown",
   "source": [
    "For all best runs, regardless of finetuning, produce summaries"
   ],
   "metadata": {
    "collapsed": false
   }
  },
  {
   "cell_type": "code",
   "execution_count": 38,
   "outputs": [
    {
     "name": "stdout",
     "output_type": "stream",
     "text": [
      "\n",
      "descending metrics: ['Results/test_acc', 'Results/test_acc_bottom_decile']\n",
      "\n",
      "ascending metrics: ['Results/test_acc_std']\n",
      "\n",
      "id_columns Index(['method', 'finetune', 'dataset', 's', 'n_epochs', 'lr', 'beta',\n",
      "       'regular_weight', 'K', 'Results/val_acc', 'batch_size'],\n",
      "      dtype='object')\n",
      "all runs: (8, 4)\n",
      "all metrics: (3, 4)\n"
     ]
    }
   ],
   "source": [
    "# For existing users, FT since sufficient data\n",
    "seen_best_runs = ft_yes[[\n",
    "    name for name in ft_yes.columns\n",
    "    if (\n",
    "        not re.search('weighted', name)\n",
    "        and not re.search('unseen', name)\n",
    "    )\n",
    "    or (\n",
    "        not re.search('Results', name)\n",
    "        or re.search('val', name)\n",
    "    )\n",
    "]]\n",
    "\n",
    "if write_files:\n",
    "    helper.runs_to_latex(seen_best_runs, 'seen--ft_yes')\n",
    "\n",
    "(seen_run_summary, seen_metric_summary, seen_rank_summary) = helper.process_run_metrics(seen_best_runs)\n",
    "print('all runs:', seen_run_summary.shape)\n",
    "print('all metrics:', seen_metric_summary.shape)"
   ],
   "metadata": {
    "collapsed": false,
    "ExecuteTime": {
     "start_time": "2023-04-28T16:30:39.961323Z",
     "end_time": "2023-04-28T16:30:40.059582Z"
    }
   }
  },
  {
   "cell_type": "code",
   "execution_count": 39,
   "outputs": [
    {
     "data": {
      "text/plain": "                 rank_one_ind  rank_two_ind  rank_three_ind  value\nmethod finetune                                                   \nditto  1                    2             1               4      7\nfedbn  1                    2             5               0      7\nfedem  1                    1             2               2      5\npfedme 1                    3             0               2      5\nfomaml 1                    2             1               1      4\nexact  1                    1             3               0      4\nfedavg 1                    1             1               1      3\nlinear 1                    1             0               2      3",
      "text/html": "<div>\n<style scoped>\n    .dataframe tbody tr th:only-of-type {\n        vertical-align: middle;\n    }\n\n    .dataframe tbody tr th {\n        vertical-align: top;\n    }\n\n    .dataframe thead th {\n        text-align: right;\n    }\n</style>\n<table border=\"1\" class=\"dataframe\">\n  <thead>\n    <tr style=\"text-align: right;\">\n      <th></th>\n      <th></th>\n      <th>rank_one_ind</th>\n      <th>rank_two_ind</th>\n      <th>rank_three_ind</th>\n      <th>value</th>\n    </tr>\n    <tr>\n      <th>method</th>\n      <th>finetune</th>\n      <th></th>\n      <th></th>\n      <th></th>\n      <th></th>\n    </tr>\n  </thead>\n  <tbody>\n    <tr>\n      <th>ditto</th>\n      <th>1</th>\n      <td>2</td>\n      <td>1</td>\n      <td>4</td>\n      <td>7</td>\n    </tr>\n    <tr>\n      <th>fedbn</th>\n      <th>1</th>\n      <td>2</td>\n      <td>5</td>\n      <td>0</td>\n      <td>7</td>\n    </tr>\n    <tr>\n      <th>fedem</th>\n      <th>1</th>\n      <td>1</td>\n      <td>2</td>\n      <td>2</td>\n      <td>5</td>\n    </tr>\n    <tr>\n      <th>pfedme</th>\n      <th>1</th>\n      <td>3</td>\n      <td>0</td>\n      <td>2</td>\n      <td>5</td>\n    </tr>\n    <tr>\n      <th>fomaml</th>\n      <th>1</th>\n      <td>2</td>\n      <td>1</td>\n      <td>1</td>\n      <td>4</td>\n    </tr>\n    <tr>\n      <th>exact</th>\n      <th>1</th>\n      <td>1</td>\n      <td>3</td>\n      <td>0</td>\n      <td>4</td>\n    </tr>\n    <tr>\n      <th>fedavg</th>\n      <th>1</th>\n      <td>1</td>\n      <td>1</td>\n      <td>1</td>\n      <td>3</td>\n    </tr>\n    <tr>\n      <th>linear</th>\n      <th>1</th>\n      <td>1</td>\n      <td>0</td>\n      <td>2</td>\n      <td>3</td>\n    </tr>\n  </tbody>\n</table>\n</div>"
     },
     "execution_count": 39,
     "metadata": {},
     "output_type": "execute_result"
    }
   ],
   "source": [
    "# run summary\n",
    "seen_run_summary.sort_values(by='value', ascending=False)"
   ],
   "metadata": {
    "collapsed": false,
    "ExecuteTime": {
     "start_time": "2023-04-28T16:30:40.034644Z",
     "end_time": "2023-04-28T16:30:40.069073Z"
    }
   }
  },
  {
   "cell_type": "markdown",
   "source": [
    "View processed summaries"
   ],
   "metadata": {
    "collapsed": false
   }
  },
  {
   "cell_type": "code",
   "execution_count": 40,
   "outputs": [
    {
     "data": {
      "text/plain": "                                rank_one_ind  rank_two_ind  rank_three_ind  \\\nmetric                                                                       \nResults/test_acc_bottom_decile             2             2               2   \nResults/test_acc                           1             1               1   \nResults/test_acc_std                       1             1               1   \n\n                                value  \nmetric                                 \nResults/test_acc_bottom_decile      2  \nResults/test_acc                    1  \nResults/test_acc_std                1  ",
      "text/html": "<div>\n<style scoped>\n    .dataframe tbody tr th:only-of-type {\n        vertical-align: middle;\n    }\n\n    .dataframe tbody tr th {\n        vertical-align: top;\n    }\n\n    .dataframe thead th {\n        text-align: right;\n    }\n</style>\n<table border=\"1\" class=\"dataframe\">\n  <thead>\n    <tr style=\"text-align: right;\">\n      <th></th>\n      <th>rank_one_ind</th>\n      <th>rank_two_ind</th>\n      <th>rank_three_ind</th>\n      <th>value</th>\n    </tr>\n    <tr>\n      <th>metric</th>\n      <th></th>\n      <th></th>\n      <th></th>\n      <th></th>\n    </tr>\n  </thead>\n  <tbody>\n    <tr>\n      <th>Results/test_acc_bottom_decile</th>\n      <td>2</td>\n      <td>2</td>\n      <td>2</td>\n      <td>2</td>\n    </tr>\n    <tr>\n      <th>Results/test_acc</th>\n      <td>1</td>\n      <td>1</td>\n      <td>1</td>\n      <td>1</td>\n    </tr>\n    <tr>\n      <th>Results/test_acc_std</th>\n      <td>1</td>\n      <td>1</td>\n      <td>1</td>\n      <td>1</td>\n    </tr>\n  </tbody>\n</table>\n</div>"
     },
     "execution_count": 40,
     "metadata": {},
     "output_type": "execute_result"
    }
   ],
   "source": [
    "# metrics summary\n",
    "sort_by = ['value', 'rank_one_ind', 'rank_two_ind', 'rank_three_ind']\n",
    "seen_metric_summary.sort_values(by=sort_by, ascending=False)"
   ],
   "metadata": {
    "collapsed": false,
    "ExecuteTime": {
     "start_time": "2023-04-28T16:30:40.065569Z",
     "end_time": "2023-04-28T16:30:40.134898Z"
    }
   }
  },
  {
   "cell_type": "markdown",
   "source": [
    "Now seperately, based on finetuning status, repeat the above summary"
   ],
   "metadata": {
    "collapsed": false
   }
  },
  {
   "cell_type": "code",
   "execution_count": 41,
   "outputs": [],
   "source": [
    "unseen_best_runs = best_runs[[\n",
    "    name for name in ft_yes.columns\n",
    "    if (\n",
    "               not re.search('weighted', name)\n",
    "               and re.search('unseen', name)\n",
    "       )\n",
    "       or (\n",
    "               not re.search('Results', name)\n",
    "               or re.search('val', name)\n",
    "       )\n",
    "]]"
   ],
   "metadata": {
    "collapsed": false,
    "ExecuteTime": {
     "start_time": "2023-04-28T16:30:40.096003Z",
     "end_time": "2023-04-28T16:30:40.180314Z"
    }
   }
  },
  {
   "cell_type": "code",
   "execution_count": 42,
   "outputs": [
    {
     "name": "stdout",
     "output_type": "stream",
     "text": [
      "\n",
      "descending metrics: ['Results_unseen/test_acc', 'Results_unseen/test_acc_bottom_decile']\n",
      "\n",
      "ascending metrics: ['Results_unseen/test_acc_std']\n",
      "\n",
      "id_columns Index(['method', 'finetune', 'dataset', 's', 'n_epochs', 'lr', 'beta',\n",
      "       'regular_weight', 'K', 'Results/val_acc', 'batch_size'],\n",
      "      dtype='object')\n"
     ]
    }
   ],
   "source": [
    "ft_yes = unseen_best_runs.loc[unseen_best_runs.finetune == 1]\n",
    "(yes_run_summary, yes_metric_summary, _) = helper.process_run_metrics(ft_yes)\n",
    "if write_files:\n",
    "    helper.runs_to_latex(ft_yes, 'unseen--ft_yes')"
   ],
   "metadata": {
    "collapsed": false,
    "ExecuteTime": {
     "start_time": "2023-04-28T16:30:40.111962Z",
     "end_time": "2023-04-28T16:30:40.267619Z"
    }
   }
  },
  {
   "cell_type": "code",
   "execution_count": 43,
   "outputs": [
    {
     "data": {
      "text/plain": "                 rank_one_ind  rank_two_ind  rank_three_ind  value\nmethod finetune                                                   \nexact  1                    7             0               2      9\nlinear 1                    2             3               1      6\nfomaml 1                    0             2               3      5\nfedavg 1                    1             3               0      4\nfedbn  1                    0             2               1      3\nfedem  1                    0             1               2      3\npfedme 1                    0             3               0      3\nditto  1                    0             0               0      0",
      "text/html": "<div>\n<style scoped>\n    .dataframe tbody tr th:only-of-type {\n        vertical-align: middle;\n    }\n\n    .dataframe tbody tr th {\n        vertical-align: top;\n    }\n\n    .dataframe thead th {\n        text-align: right;\n    }\n</style>\n<table border=\"1\" class=\"dataframe\">\n  <thead>\n    <tr style=\"text-align: right;\">\n      <th></th>\n      <th></th>\n      <th>rank_one_ind</th>\n      <th>rank_two_ind</th>\n      <th>rank_three_ind</th>\n      <th>value</th>\n    </tr>\n    <tr>\n      <th>method</th>\n      <th>finetune</th>\n      <th></th>\n      <th></th>\n      <th></th>\n      <th></th>\n    </tr>\n  </thead>\n  <tbody>\n    <tr>\n      <th>exact</th>\n      <th>1</th>\n      <td>7</td>\n      <td>0</td>\n      <td>2</td>\n      <td>9</td>\n    </tr>\n    <tr>\n      <th>linear</th>\n      <th>1</th>\n      <td>2</td>\n      <td>3</td>\n      <td>1</td>\n      <td>6</td>\n    </tr>\n    <tr>\n      <th>fomaml</th>\n      <th>1</th>\n      <td>0</td>\n      <td>2</td>\n      <td>3</td>\n      <td>5</td>\n    </tr>\n    <tr>\n      <th>fedavg</th>\n      <th>1</th>\n      <td>1</td>\n      <td>3</td>\n      <td>0</td>\n      <td>4</td>\n    </tr>\n    <tr>\n      <th>fedbn</th>\n      <th>1</th>\n      <td>0</td>\n      <td>2</td>\n      <td>1</td>\n      <td>3</td>\n    </tr>\n    <tr>\n      <th>fedem</th>\n      <th>1</th>\n      <td>0</td>\n      <td>1</td>\n      <td>2</td>\n      <td>3</td>\n    </tr>\n    <tr>\n      <th>pfedme</th>\n      <th>1</th>\n      <td>0</td>\n      <td>3</td>\n      <td>0</td>\n      <td>3</td>\n    </tr>\n    <tr>\n      <th>ditto</th>\n      <th>1</th>\n      <td>0</td>\n      <td>0</td>\n      <td>0</td>\n      <td>0</td>\n    </tr>\n  </tbody>\n</table>\n</div>"
     },
     "execution_count": 43,
     "metadata": {},
     "output_type": "execute_result"
    }
   ],
   "source": [
    "# run summary\n",
    "yes_run_summary.sort_values(by='value', ascending=False)"
   ],
   "metadata": {
    "collapsed": false,
    "ExecuteTime": {
     "start_time": "2023-04-28T16:30:40.201261Z",
     "end_time": "2023-04-28T16:30:40.269126Z"
    }
   }
  },
  {
   "cell_type": "code",
   "execution_count": 44,
   "outputs": [
    {
     "data": {
      "text/plain": "                                       rank_one_ind  rank_two_ind  \\\nmetric                                                              \nResults_unseen/test_acc                           4             4   \nResults_unseen/test_acc_bottom_decile             3             3   \nResults_unseen/test_acc_std                       2             2   \n\n                                       rank_three_ind  value  \nmetric                                                        \nResults_unseen/test_acc                             4      4  \nResults_unseen/test_acc_bottom_decile               3      3  \nResults_unseen/test_acc_std                         2      2  ",
      "text/html": "<div>\n<style scoped>\n    .dataframe tbody tr th:only-of-type {\n        vertical-align: middle;\n    }\n\n    .dataframe tbody tr th {\n        vertical-align: top;\n    }\n\n    .dataframe thead th {\n        text-align: right;\n    }\n</style>\n<table border=\"1\" class=\"dataframe\">\n  <thead>\n    <tr style=\"text-align: right;\">\n      <th></th>\n      <th>rank_one_ind</th>\n      <th>rank_two_ind</th>\n      <th>rank_three_ind</th>\n      <th>value</th>\n    </tr>\n    <tr>\n      <th>metric</th>\n      <th></th>\n      <th></th>\n      <th></th>\n      <th></th>\n    </tr>\n  </thead>\n  <tbody>\n    <tr>\n      <th>Results_unseen/test_acc</th>\n      <td>4</td>\n      <td>4</td>\n      <td>4</td>\n      <td>4</td>\n    </tr>\n    <tr>\n      <th>Results_unseen/test_acc_bottom_decile</th>\n      <td>3</td>\n      <td>3</td>\n      <td>3</td>\n      <td>3</td>\n    </tr>\n    <tr>\n      <th>Results_unseen/test_acc_std</th>\n      <td>2</td>\n      <td>2</td>\n      <td>2</td>\n      <td>2</td>\n    </tr>\n  </tbody>\n</table>\n</div>"
     },
     "execution_count": 44,
     "metadata": {},
     "output_type": "execute_result"
    }
   ],
   "source": [
    "# metrics summary\n",
    "yes_metric_summary.sort_values(by=sort_by, ascending=False)\n"
   ],
   "metadata": {
    "collapsed": false,
    "ExecuteTime": {
     "start_time": "2023-04-28T16:30:40.215486Z",
     "end_time": "2023-04-28T16:30:40.270127Z"
    }
   }
  },
  {
   "cell_type": "markdown",
   "source": [
    "ft_no = unseen_best_runs.loc[unseen_best_runs.finetune == 0]\n",
    "(no_run_summary, no_metric_summary, _) = helper.process_run_metrics(ft_no)\n",
    "if write_files:\n",
    "    helper.runs_to_latex(ft_no, 'unseen--ft_no')\n",
    "\n",
    "# run summary\n",
    "no_run_summary.sort_values(by='value', ascending=False)\n",
    "\n",
    "# metrics summary\n",
    "no_metric_summary.sort_values(by=sort_by, ascending=False)"
   ],
   "metadata": {
    "collapsed": false
   }
  },
  {
   "cell_type": "markdown",
   "source": [
    "Temporary - Generalization"
   ],
   "metadata": {
    "collapsed": false
   }
  },
  {
   "cell_type": "code",
   "execution_count": 45,
   "outputs": [
    {
     "name": "stdout",
     "output_type": "stream",
     "text": [
      "method & finetune & dataset & Results/test acc & Results unseen/test acc & generalization gap \\\\\n",
      "ditto & 1 & femnist--s02 & 0.9031 & 0.5672 & -0.3359 \\\\\n",
      "ditto & 1 & sst2 & 0.5949 & 0.4746 & -0.1203 \\\\\n",
      "ditto & 1 & pubmed & 0.8754 & 0.2442 & -0.6312 \\\\\n",
      "ditto & 1 & pubmed2 & 0.8861 & 0.4873 & -0.3988 \\\\\n",
      "fedbn & 1 & femnist--s02 & 0.9182 & 0.9059 & -0.0123 \\\\\n",
      "fedbn & 1 & sst2 & 0.7360 & 0.8030 & 0.0670 \\\\\n",
      "fedbn & 1 & pubmed & 0.8788 & 0.8004 & -0.0784 \\\\\n",
      "fedbn & 1 & pubmed2 & 0.8777 & 0.7020 & -0.1757 \\\\\n",
      "fedem & 1 & femnist--s02 & 0.8952 & 0.9175 & 0.0223 \\\\\n",
      "fedem & 1 & sst2 & 0.7808 & 0.7404 & -0.0404 \\\\\n",
      "fedem & 1 & pubmed & 0.8822 & 0.7879 & -0.0943 \\\\\n",
      "fedem & 1 & pubmed2 & 0.8569 & 0.7977 & -0.0592 \\\\\n",
      "pfedme & 1 & femnist--s02 & 0.9280 & 0.9036 & -0.0244 \\\\\n",
      "pfedme & 1 & sst2 & 0.7699 & 0.7785 & 0.0086 \\\\\n",
      "pfedme & 1 & pubmed & 0.8666 & 0.7932 & -0.0734 \\\\\n",
      "pfedme & 1 & pubmed2 & 0.8631 & 0.8001 & -0.0630 \\\\\n",
      "fomaml & 1 & femnist--s02 & 0.8951 & 0.8989 & 0.0038 \\\\\n",
      "fomaml & 1 & sst2 & 0.7654 & 0.7680 & 0.0026 \\\\\n",
      "fomaml & 1 & pubmed & 0.8614 & 0.7950 & -0.0664 \\\\\n",
      "fomaml & 1 & pubmed2 & 0.8519 & 0.7862 & -0.0657 \\\\\n",
      "fedavg & 1 & femnist--s02 & 0.8851 & 0.9055 & 0.0204 \\\\\n",
      "fedavg & 1 & sst2 & 0.7654 & 0.7680 & 0.0026 \\\\\n",
      "fedavg & 1 & pubmed & 0.8671 & 0.7914 & -0.0757 \\\\\n",
      "fedavg & 1 & pubmed2 & 0.8530 & 0.7704 & -0.0826 \\\\\n",
      "exact & 1 & femnist--s02 & 0.8986 & 0.9152 & 0.0166 \\\\\n",
      "exact & 1 & sst2 & 0.7815 & 0.8101 & 0.0286 \\\\\n",
      "exact & 1 & pubmed & 0.8722 & 0.8039 & -0.0683 \\\\\n",
      "exact & 1 & pubmed2 & 0.8594 & 0.8054 & -0.0540 \\\\\n",
      "linear & 1 & femnist--s02 & 0.9022 & 0.9188 & 0.0166 \\\\\n",
      "linear & 1 & sst2 & 0.7738 & 0.8060 & 0.0322 \\\\\n",
      "linear & 1 & pubmed & 0.8671 & 0.7772 & -0.0899 \\\\\n"
     ]
    },
    {
     "name": "stderr",
     "output_type": "stream",
     "text": [
      "C:\\Users\\joela\\AppData\\Local\\Temp\\ipykernel_27752\\140728881.py:4: SettingWithCopyWarning: \n",
      "A value is trying to be set on a copy of a slice from a DataFrame.\n",
      "Try using .loc[row_indexer,col_indexer] = value instead\n",
      "\n",
      "See the caveats in the documentation: https://pandas.pydata.org/pandas-docs/stable/user_guide/indexing.html#returning-a-view-versus-a-copy\n",
      "  temp[metrics] = temp[metrics].round(4)\n",
      "C:\\Users\\joela\\AppData\\Local\\Temp\\ipykernel_27752\\140728881.py:5: SettingWithCopyWarning: \n",
      "A value is trying to be set on a copy of a slice from a DataFrame.\n",
      "Try using .loc[row_indexer,col_indexer] = value instead\n",
      "\n",
      "See the caveats in the documentation: https://pandas.pydata.org/pandas-docs/stable/user_guide/indexing.html#returning-a-view-versus-a-copy\n",
      "  temp['generalization_gap'] = temp['Results_unseen/test_acc'] - temp['Results/test_acc']\n"
     ]
    }
   ],
   "source": [
    "id_columns = ['method', 'finetune', 'dataset']\n",
    "metrics = ['Results/test_acc','Results_unseen/test_acc']\n",
    "temp = best_runs[id_columns + metrics]\n",
    "temp[metrics] = temp[metrics].round(4)\n",
    "temp['generalization_gap'] = temp['Results_unseen/test_acc'] - temp['Results/test_acc']\n",
    "temp = temp.loc[temp.finetune == 1]\n",
    "\n",
    "s = df_to_latex(temp, id_columns)\n",
    "print(s)"
   ],
   "metadata": {
    "collapsed": false,
    "ExecuteTime": {
     "start_time": "2023-04-28T16:30:40.228521Z",
     "end_time": "2023-04-28T16:30:40.380495Z"
    }
   }
  },
  {
   "cell_type": "markdown",
   "source": [
    "Temporary - Sensitivity Analysis"
   ],
   "metadata": {
    "collapsed": false
   }
  },
  {
   "cell_type": "code",
   "execution_count": 46,
   "outputs": [
    {
     "data": {
      "text/plain": "dataset       beta\nfemnist--s02  0.0      656\n              0.2      649\n              0.4      635\n              0.6      628\n              0.8      616\n              1.0      677\npubmed        0.0     2786\n              0.2     2187\n              0.4     2147\n              0.6     2105\n              0.8     2066\n              1.0     2804\npubmed2       0.0     2987\n              0.2     2983\n              0.4     2977\n              0.6     2973\n              0.8     2968\n              1.0     2993\nsst2          0.0     1936\n              0.2      945\n              0.4     1011\n              0.6      905\n              0.8      888\n              1.0     1997\nName: Results/val_acc, dtype: int64"
     },
     "execution_count": 46,
     "metadata": {},
     "output_type": "execute_result"
    }
   ],
   "source": [
    "exact_df = row_df.loc[\n",
    "    (subset_df.method == 'exact')\n",
    "    & (subset_df.n_epochs <= 3)\n",
    "    & (subset_df.finetune == 1)\n",
    "]\n",
    "\n",
    "exact_df.groupby(['dataset', 'beta']) \\\n",
    "    [validation_metric].idxmax()  # return index of max validation metric\n"
   ],
   "metadata": {
    "collapsed": false,
    "ExecuteTime": {
     "start_time": "2023-04-28T16:30:40.262633Z",
     "end_time": "2023-04-28T16:30:40.392465Z"
    }
   }
  },
  {
   "cell_type": "code",
   "execution_count": 47,
   "outputs": [
    {
     "name": "stdout",
     "output_type": "stream",
     "text": [
      "(24, 44)\n"
     ]
    },
    {
     "data": {
      "text/plain": "<Figure size 1200x400 with 3 Axes>",
      "image/png": "[encoded data removed]"
     },
     "metadata": {},
     "output_type": "display_data"
    }
   ],
   "source": [
    "best_beta = exact_df.loc[\n",
    "    exact_df.groupby(['dataset', 'beta']) \\\n",
    "        [validation_metric].idxmax()  # return index of max validation metric\n",
    "].sort_values(by=['dataset', 'beta'])\n",
    "print(best_beta.shape)\n",
    "\n",
    "import matplotlib.pyplot as plt\n",
    "from matplotlib.lines import Line2D\n",
    "\n",
    "# best beta\n",
    "datasets = ['femnist--s02', 'sst2', 'pubmed']\n",
    "Datasets = ['FEMNIST (image)', 'SST (text)', 'PUBMED (graph)']\n",
    "\n",
    "fig, axarr = plt.subplots(\n",
    "    nrows=1, ncols=len(datasets),\n",
    "    sharex=True, sharey=True,\n",
    "    figsize=(4*len(datasets), 4)\n",
    ")\n",
    "axarr[0].set_ylabel('Test Accuracy')\n",
    "for i, (dataset, Dataset) in enumerate(zip(datasets, Datasets)):\n",
    "    temp_df = best_beta.loc[best_beta.dataset == dataset]\n",
    "    axarr[i].set_title(Dataset)\n",
    "    axarr[i].set_xlabel('Beta')\n",
    "    axarr[i].plot(temp_df.beta, temp_df['Results/test_acc'], color='blue')\n",
    "    axarr[i].plot(temp_df.beta, temp_df['Results_unseen/test_acc'], color='green')\n",
    "\n",
    "custom_lines = [\n",
    "    Line2D([0], [0], color='blue'),\n",
    "    Line2D([0], [0], color='green')\n",
    "]\n",
    "custom_labels = [\n",
    "    'Existing Users',\n",
    "    'New Users'\n",
    "]\n",
    "axarr[0].legend(\n",
    "    custom_lines, custom_labels,\n",
    "    loc='lower left'#,\n",
    "    #bbox_to_anchor=(1, -.15),\n",
    "    #ncol=len(datasets)\n",
    ")\n",
    "\n",
    "if write_files:\n",
    "    plt.savefig('figures/sensitivity-analysis-best-beta.png')"
   ],
   "metadata": {
    "collapsed": false,
    "ExecuteTime": {
     "start_time": "2023-04-28T16:30:40.300652Z",
     "end_time": "2023-04-28T16:30:41.343734Z"
    }
   }
  }
 ],
 "metadata": {
  "kernelspec": {
   "display_name": "Python 3",
   "language": "python",
   "name": "python3"
  },
  "language_info": {
   "codemirror_mode": {
    "name": "ipython",
    "version": 2
   },
   "file_extension": ".py",
   "mimetype": "text/x-python",
   "name": "python",
   "nbconvert_exporter": "python",
   "pygments_lexer": "ipython2",
   "version": "2.7.6"
  }
 },
 "nbformat": 4,
 "nbformat_minor": 0
}
