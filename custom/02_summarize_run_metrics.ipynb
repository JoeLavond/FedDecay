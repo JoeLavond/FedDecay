{
 "cells": [
  {
   "cell_type": "markdown",
   "source": [
    "Import packages and processed run metrics"
   ],
   "metadata": {
    "collapsed": false
   }
  },
  {
   "cell_type": "code",
   "execution_count": 12,
   "metadata": {
    "collapsed": true,
    "ExecuteTime": {
     "start_time": "2023-04-01T14:58:25.776683Z",
     "end_time": "2023-04-01T14:58:25.993435Z"
    }
   },
   "outputs": [
    {
     "name": "stdout",
     "output_type": "stream",
     "text": [
      "input datasets:\n",
      "\t (413, 26)\n",
      "\t (1200, 35)\n",
      "\t (780, 28)\n",
      "all runs: (2393, 35)\n"
     ]
    }
   ],
   "source": [
    "# packages\n",
    "import os\n",
    "import re\n",
    "import numpy as np\n",
    "import pandas as pd\n",
    "\n",
    "# source\n",
    "helper = __import__('02_helper')\n",
    "\n",
    "# control\n",
    "project_names = [\n",
    "    'femnist--s02', 'sst2', 'pubmed',\n",
    "    #'cifar--alpha5.0', 'cifar--alpha0.5', 'cifar--alpha0.1'\n",
    "]\n",
    "validation_metric = 'Results/val_acc'\n",
    "\n",
    "df = helper.load_data(project_names)\n"
   ]
  },
  {
   "cell_type": "markdown",
   "source": [
    "Filter data to runs of interest\n",
    "Apply summary function to filtered dataset"
   ],
   "metadata": {
    "collapsed": false
   }
  },
  {
   "cell_type": "code",
   "execution_count": 13,
   "outputs": [
    {
     "name": "stdout",
     "output_type": "stream",
     "text": [
      "input dataset: (2393, 35)\n",
      "\t reduce to 3 or fewer local update steps: (1787, 35)\n",
      "\t reduce to 3 or fewer local meta-learning steps for pfedme: (1707, 35)\n",
      "\t reduce beta grid for decay: (1610, 35)\n"
     ]
    }
   ],
   "source": [
    "subset_df = df\n",
    "print('input dataset:', df.shape)\n",
    "\n",
    "## row (run) filtering\n",
    "# remove extra hyper-parameter searches\n",
    "\n",
    "subset_df = subset_df.loc[(subset_df.n_epochs < 6)]\n",
    "print('\\t reduce to 3 or fewer local update steps:', subset_df.shape)\n",
    "\n",
    "subset_df = subset_df.loc[(subset_df.K < 6) | (subset_df.method != 'pfedme')]\n",
    "print('\\t reduce to 3 or fewer local meta-learning steps for pfedme:', subset_df.shape)\n",
    "\n",
    "subset_df = subset_df.loc[((10 * subset_df.beta).astype('Int64') % 2 == 0) | (subset_df.method != 'exact')]\n",
    "print('\\t reduce beta grid for decay:', subset_df.shape)\n",
    "\n",
    "## column (metric) filtering\n",
    "subset_df = subset_df[[\n",
    "    name for name in subset_df.columns\n",
    "    if not re.search('f1', name)\n",
    "       and not re.search('loss', name)\n",
    "]]"
   ],
   "metadata": {
    "collapsed": false,
    "ExecuteTime": {
     "start_time": "2023-04-01T14:58:25.995511Z",
     "end_time": "2023-04-01T14:58:26.131296Z"
    }
   }
  },
  {
   "cell_type": "code",
   "execution_count": 14,
   "outputs": [
    {
     "data": {
      "text/plain": "     method  finetune       dataset    s  n_epochs    lr  regular_weight  \\\n280   ditto         0  femnist--s02  2.0         3  0.05             0.5   \n11    ditto         1  femnist--s02  2.0         3  0.10             0.5   \n308   exact         0  femnist--s02  2.0         3  0.10             NaN   \n381   exact         1  femnist--s02  2.0         3  0.05             NaN   \n149  fedavg         0  femnist--s02  2.0         3  0.01             NaN   \n\n     beta  Results/test_acc  Results/test_acc_bottom_decile  \\\n280   NaN          0.895517                        0.815789   \n11    NaN          0.903150                        0.833333   \n308   0.8          0.893264                        0.813559   \n381   0.2          0.898591                        0.821429   \n149   NaN          0.873541                        0.785714   \n\n     Results/test_acc_std  Results/val_acc  Results_unseen/test_acc  \\\n280              0.060415         0.899532                 0.013385   \n11               0.056343         0.904993                 0.567176   \n308              0.080925         0.895771                 0.913772   \n381              0.071101         0.901799                 0.915247   \n149              0.085197         0.876718                 0.897397   \n\n     Results_unseen/test_acc_bottom_decile  Results_unseen/test_acc_std  \\\n280                               0.000000                     0.023664   \n11                                0.444444                     0.092124   \n308                               0.851852                     0.050396   \n381                               0.842105                     0.048456   \n149                               0.833333                     0.051539   \n\n     Results_weighted/test_acc  Results_weighted_unseen/test_acc  batch_size  \\\n280                   0.904729                          0.012756         NaN   \n11                    0.910967                          0.575854         NaN   \n308                   0.905070                          0.919818         NaN   \n381                   0.908699                          0.919362         NaN   \n149                   0.885902                          0.904328         NaN   \n\n      K  \n280 NaN  \n11  NaN  \n308 NaN  \n381 NaN  \n149 NaN  ",
      "text/html": "<div>\n<style scoped>\n    .dataframe tbody tr th:only-of-type {\n        vertical-align: middle;\n    }\n\n    .dataframe tbody tr th {\n        vertical-align: top;\n    }\n\n    .dataframe thead th {\n        text-align: right;\n    }\n</style>\n<table border=\"1\" class=\"dataframe\">\n  <thead>\n    <tr style=\"text-align: right;\">\n      <th></th>\n      <th>method</th>\n      <th>finetune</th>\n      <th>dataset</th>\n      <th>s</th>\n      <th>n_epochs</th>\n      <th>lr</th>\n      <th>regular_weight</th>\n      <th>beta</th>\n      <th>Results/test_acc</th>\n      <th>Results/test_acc_bottom_decile</th>\n      <th>Results/test_acc_std</th>\n      <th>Results/val_acc</th>\n      <th>Results_unseen/test_acc</th>\n      <th>Results_unseen/test_acc_bottom_decile</th>\n      <th>Results_unseen/test_acc_std</th>\n      <th>Results_weighted/test_acc</th>\n      <th>Results_weighted_unseen/test_acc</th>\n      <th>batch_size</th>\n      <th>K</th>\n    </tr>\n  </thead>\n  <tbody>\n    <tr>\n      <th>280</th>\n      <td>ditto</td>\n      <td>0</td>\n      <td>femnist--s02</td>\n      <td>2.0</td>\n      <td>3</td>\n      <td>0.05</td>\n      <td>0.5</td>\n      <td>NaN</td>\n      <td>0.895517</td>\n      <td>0.815789</td>\n      <td>0.060415</td>\n      <td>0.899532</td>\n      <td>0.013385</td>\n      <td>0.000000</td>\n      <td>0.023664</td>\n      <td>0.904729</td>\n      <td>0.012756</td>\n      <td>NaN</td>\n      <td>NaN</td>\n    </tr>\n    <tr>\n      <th>11</th>\n      <td>ditto</td>\n      <td>1</td>\n      <td>femnist--s02</td>\n      <td>2.0</td>\n      <td>3</td>\n      <td>0.10</td>\n      <td>0.5</td>\n      <td>NaN</td>\n      <td>0.903150</td>\n      <td>0.833333</td>\n      <td>0.056343</td>\n      <td>0.904993</td>\n      <td>0.567176</td>\n      <td>0.444444</td>\n      <td>0.092124</td>\n      <td>0.910967</td>\n      <td>0.575854</td>\n      <td>NaN</td>\n      <td>NaN</td>\n    </tr>\n    <tr>\n      <th>308</th>\n      <td>exact</td>\n      <td>0</td>\n      <td>femnist--s02</td>\n      <td>2.0</td>\n      <td>3</td>\n      <td>0.10</td>\n      <td>NaN</td>\n      <td>0.8</td>\n      <td>0.893264</td>\n      <td>0.813559</td>\n      <td>0.080925</td>\n      <td>0.895771</td>\n      <td>0.913772</td>\n      <td>0.851852</td>\n      <td>0.050396</td>\n      <td>0.905070</td>\n      <td>0.919818</td>\n      <td>NaN</td>\n      <td>NaN</td>\n    </tr>\n    <tr>\n      <th>381</th>\n      <td>exact</td>\n      <td>1</td>\n      <td>femnist--s02</td>\n      <td>2.0</td>\n      <td>3</td>\n      <td>0.05</td>\n      <td>NaN</td>\n      <td>0.2</td>\n      <td>0.898591</td>\n      <td>0.821429</td>\n      <td>0.071101</td>\n      <td>0.901799</td>\n      <td>0.915247</td>\n      <td>0.842105</td>\n      <td>0.048456</td>\n      <td>0.908699</td>\n      <td>0.919362</td>\n      <td>NaN</td>\n      <td>NaN</td>\n    </tr>\n    <tr>\n      <th>149</th>\n      <td>fedavg</td>\n      <td>0</td>\n      <td>femnist--s02</td>\n      <td>2.0</td>\n      <td>3</td>\n      <td>0.01</td>\n      <td>NaN</td>\n      <td>NaN</td>\n      <td>0.873541</td>\n      <td>0.785714</td>\n      <td>0.085197</td>\n      <td>0.876718</td>\n      <td>0.897397</td>\n      <td>0.833333</td>\n      <td>0.051539</td>\n      <td>0.885902</td>\n      <td>0.904328</td>\n      <td>NaN</td>\n      <td>NaN</td>\n    </tr>\n  </tbody>\n</table>\n</div>"
     },
     "execution_count": 14,
     "metadata": {},
     "output_type": "execute_result"
    }
   ],
   "source": [
    "## get best runs for each group\n",
    "# regardless of finetuning\n",
    "best_runs = subset_df.loc[\n",
    "    subset_df.groupby(['dataset', 'method', 'finetune']) \\\n",
    "    [validation_metric].idxmax()  # return index of max validation metric\n",
    "]\n",
    "\n",
    "# treat finetuning groups as seperate\n",
    "ft_yes = best_runs.loc[best_runs.finetune == 1]\n",
    "ft_no = best_runs.loc[best_runs.finetune == 0]\n",
    "\n",
    "# show best runs\n",
    "best_runs.head()"
   ],
   "metadata": {
    "collapsed": false,
    "ExecuteTime": {
     "start_time": "2023-04-01T14:58:26.033060Z",
     "end_time": "2023-04-01T14:58:26.133367Z"
    }
   }
  },
  {
   "cell_type": "markdown",
   "source": [
    "For all best runs, regardless of finetuning, produce summaries"
   ],
   "metadata": {
    "collapsed": false
   }
  },
  {
   "cell_type": "code",
   "execution_count": 15,
   "outputs": [
    {
     "name": "stdout",
     "output_type": "stream",
     "text": [
      "all runs: (11, 4)\n",
      "all metrics: (8, 4)\n"
     ]
    },
    {
     "data": {
      "text/plain": "                 rank_one_ind  rank_two_ind  rank_three_ind  value\nmethod finetune                                                   \nfedbn  1                    5             3               3     11\nexact  0                    4             3               3     10\n       1                    4             3               1      8\nfedbn  0                    1             5               1      7\nfedem  0                    0             4               3      7\n       1                    4             1               2      7\nditto  1                    0             2               3      5\npfedme 0                    2             2               0      4\n       1                    2             0               2      4\nfedavg 1                    0             2               1      3\nditto  0                    0             1               0      1",
      "text/html": "<div>\n<style scoped>\n    .dataframe tbody tr th:only-of-type {\n        vertical-align: middle;\n    }\n\n    .dataframe tbody tr th {\n        vertical-align: top;\n    }\n\n    .dataframe thead th {\n        text-align: right;\n    }\n</style>\n<table border=\"1\" class=\"dataframe\">\n  <thead>\n    <tr style=\"text-align: right;\">\n      <th></th>\n      <th></th>\n      <th>rank_one_ind</th>\n      <th>rank_two_ind</th>\n      <th>rank_three_ind</th>\n      <th>value</th>\n    </tr>\n    <tr>\n      <th>method</th>\n      <th>finetune</th>\n      <th></th>\n      <th></th>\n      <th></th>\n      <th></th>\n    </tr>\n  </thead>\n  <tbody>\n    <tr>\n      <th>fedbn</th>\n      <th>1</th>\n      <td>5</td>\n      <td>3</td>\n      <td>3</td>\n      <td>11</td>\n    </tr>\n    <tr>\n      <th rowspan=\"2\" valign=\"top\">exact</th>\n      <th>0</th>\n      <td>4</td>\n      <td>3</td>\n      <td>3</td>\n      <td>10</td>\n    </tr>\n    <tr>\n      <th>1</th>\n      <td>4</td>\n      <td>3</td>\n      <td>1</td>\n      <td>8</td>\n    </tr>\n    <tr>\n      <th>fedbn</th>\n      <th>0</th>\n      <td>1</td>\n      <td>5</td>\n      <td>1</td>\n      <td>7</td>\n    </tr>\n    <tr>\n      <th rowspan=\"2\" valign=\"top\">fedem</th>\n      <th>0</th>\n      <td>0</td>\n      <td>4</td>\n      <td>3</td>\n      <td>7</td>\n    </tr>\n    <tr>\n      <th>1</th>\n      <td>4</td>\n      <td>1</td>\n      <td>2</td>\n      <td>7</td>\n    </tr>\n    <tr>\n      <th>ditto</th>\n      <th>1</th>\n      <td>0</td>\n      <td>2</td>\n      <td>3</td>\n      <td>5</td>\n    </tr>\n    <tr>\n      <th rowspan=\"2\" valign=\"top\">pfedme</th>\n      <th>0</th>\n      <td>2</td>\n      <td>2</td>\n      <td>0</td>\n      <td>4</td>\n    </tr>\n    <tr>\n      <th>1</th>\n      <td>2</td>\n      <td>0</td>\n      <td>2</td>\n      <td>4</td>\n    </tr>\n    <tr>\n      <th>fedavg</th>\n      <th>1</th>\n      <td>0</td>\n      <td>2</td>\n      <td>1</td>\n      <td>3</td>\n    </tr>\n    <tr>\n      <th>ditto</th>\n      <th>0</th>\n      <td>0</td>\n      <td>1</td>\n      <td>0</td>\n      <td>1</td>\n    </tr>\n  </tbody>\n</table>\n</div>"
     },
     "execution_count": 15,
     "metadata": {},
     "output_type": "execute_result"
    }
   ],
   "source": [
    "(all_run_summary, all_metric_summary, all_rank_summary) = helper.process_run_metrics(best_runs)\n",
    "print('all runs:', all_run_summary.shape)\n",
    "print('all metrics:', all_metric_summary.shape)\n",
    "\n",
    "# run summary\n",
    "all_run_summary.sort_values(by='value', ascending=False)"
   ],
   "metadata": {
    "collapsed": false,
    "ExecuteTime": {
     "start_time": "2023-04-01T14:58:26.131296Z",
     "end_time": "2023-04-01T14:58:26.433152Z"
    }
   }
  },
  {
   "cell_type": "markdown",
   "source": [
    "View processed summaries"
   ],
   "metadata": {
    "collapsed": false
   }
  },
  {
   "cell_type": "code",
   "execution_count": 16,
   "outputs": [
    {
     "data": {
      "text/plain": "                                       rank_one_ind  rank_two_ind  \\\nmetric                                                              \nResults_unseen/test_acc                           2             0   \nResults_weighted_unseen/test_acc                  2             0   \nResults/test_acc_bottom_decile                    0             3   \nResults/test_acc_std                              2             0   \nResults/test_acc                                  1             1   \nResults_unseen/test_acc_bottom_decile             1             0   \nResults_unseen/test_acc_std                       0             1   \nResults_weighted/test_acc                         0             1   \n\n                                       rank_three_ind  value  \nmetric                                                        \nResults_unseen/test_acc                             2      4  \nResults_weighted_unseen/test_acc                    1      3  \nResults/test_acc_bottom_decile                      0      3  \nResults/test_acc_std                                0      2  \nResults/test_acc                                    0      2  \nResults_unseen/test_acc_bottom_decile               1      2  \nResults_unseen/test_acc_std                         0      1  \nResults_weighted/test_acc                           0      1  ",
      "text/html": "<div>\n<style scoped>\n    .dataframe tbody tr th:only-of-type {\n        vertical-align: middle;\n    }\n\n    .dataframe tbody tr th {\n        vertical-align: top;\n    }\n\n    .dataframe thead th {\n        text-align: right;\n    }\n</style>\n<table border=\"1\" class=\"dataframe\">\n  <thead>\n    <tr style=\"text-align: right;\">\n      <th></th>\n      <th>rank_one_ind</th>\n      <th>rank_two_ind</th>\n      <th>rank_three_ind</th>\n      <th>value</th>\n    </tr>\n    <tr>\n      <th>metric</th>\n      <th></th>\n      <th></th>\n      <th></th>\n      <th></th>\n    </tr>\n  </thead>\n  <tbody>\n    <tr>\n      <th>Results_unseen/test_acc</th>\n      <td>2</td>\n      <td>0</td>\n      <td>2</td>\n      <td>4</td>\n    </tr>\n    <tr>\n      <th>Results_weighted_unseen/test_acc</th>\n      <td>2</td>\n      <td>0</td>\n      <td>1</td>\n      <td>3</td>\n    </tr>\n    <tr>\n      <th>Results/test_acc_bottom_decile</th>\n      <td>0</td>\n      <td>3</td>\n      <td>0</td>\n      <td>3</td>\n    </tr>\n    <tr>\n      <th>Results/test_acc_std</th>\n      <td>2</td>\n      <td>0</td>\n      <td>0</td>\n      <td>2</td>\n    </tr>\n    <tr>\n      <th>Results/test_acc</th>\n      <td>1</td>\n      <td>1</td>\n      <td>0</td>\n      <td>2</td>\n    </tr>\n    <tr>\n      <th>Results_unseen/test_acc_bottom_decile</th>\n      <td>1</td>\n      <td>0</td>\n      <td>1</td>\n      <td>2</td>\n    </tr>\n    <tr>\n      <th>Results_unseen/test_acc_std</th>\n      <td>0</td>\n      <td>1</td>\n      <td>0</td>\n      <td>1</td>\n    </tr>\n    <tr>\n      <th>Results_weighted/test_acc</th>\n      <td>0</td>\n      <td>1</td>\n      <td>0</td>\n      <td>1</td>\n    </tr>\n  </tbody>\n</table>\n</div>"
     },
     "execution_count": 16,
     "metadata": {},
     "output_type": "execute_result"
    }
   ],
   "source": [
    "# metrics summary\n",
    "sort_by = ['value', 'rank_one_ind', 'rank_two_ind', 'rank_three_ind']\n",
    "all_metric_summary.sort_values(by=sort_by, ascending=False)"
   ],
   "metadata": {
    "collapsed": false,
    "ExecuteTime": {
     "start_time": "2023-04-01T14:58:26.235782Z",
     "end_time": "2023-04-01T14:58:26.433152Z"
    }
   }
  },
  {
   "cell_type": "markdown",
   "source": [
    "Now seperately, based on finetuning status, repeat the above summary"
   ],
   "metadata": {
    "collapsed": false
   }
  },
  {
   "cell_type": "code",
   "execution_count": 17,
   "outputs": [
    {
     "name": "stdout",
     "output_type": "stream",
     "text": [
      "ft_yes runs: (6, 4)\n",
      "ft_yes metrics: (8, 4)\n",
      "ft_no runs: (11, 4)\n",
      "ft_no metrics: (8, 4)\n"
     ]
    }
   ],
   "source": [
    "(yes_run_summary, yes_metric_summary, _) = helper.process_run_metrics(ft_yes)\n",
    "print('ft_yes runs:', yes_run_summary.shape)\n",
    "print('ft_yes metrics:', yes_metric_summary.shape)\n",
    "(no_run_summary, no_metric_summary, _) = helper.process_run_metrics(ft_no)\n",
    "print('ft_no runs:', all_run_summary.shape)\n",
    "print('ft_no metrics:', all_metric_summary.shape)"
   ],
   "metadata": {
    "collapsed": false,
    "ExecuteTime": {
     "start_time": "2023-04-01T14:58:26.293991Z",
     "end_time": "2023-04-01T14:58:26.667861Z"
    }
   }
  },
  {
   "cell_type": "code",
   "execution_count": 18,
   "outputs": [
    {
     "data": {
      "text/plain": "                 rank_one_ind  rank_two_ind  rank_three_ind  value\nmethod finetune                                                   \nexact  1                    8             6               6     20\nfedbn  1                    5             6               3     14\nfedem  1                    4             4               2     10\npfedme 1                    2             1               5      8\nditto  1                    0             5               2      7\nfedavg 1                    3             2               2      7",
      "text/html": "<div>\n<style scoped>\n    .dataframe tbody tr th:only-of-type {\n        vertical-align: middle;\n    }\n\n    .dataframe tbody tr th {\n        vertical-align: top;\n    }\n\n    .dataframe thead th {\n        text-align: right;\n    }\n</style>\n<table border=\"1\" class=\"dataframe\">\n  <thead>\n    <tr style=\"text-align: right;\">\n      <th></th>\n      <th></th>\n      <th>rank_one_ind</th>\n      <th>rank_two_ind</th>\n      <th>rank_three_ind</th>\n      <th>value</th>\n    </tr>\n    <tr>\n      <th>method</th>\n      <th>finetune</th>\n      <th></th>\n      <th></th>\n      <th></th>\n      <th></th>\n    </tr>\n  </thead>\n  <tbody>\n    <tr>\n      <th>exact</th>\n      <th>1</th>\n      <td>8</td>\n      <td>6</td>\n      <td>6</td>\n      <td>20</td>\n    </tr>\n    <tr>\n      <th>fedbn</th>\n      <th>1</th>\n      <td>5</td>\n      <td>6</td>\n      <td>3</td>\n      <td>14</td>\n    </tr>\n    <tr>\n      <th>fedem</th>\n      <th>1</th>\n      <td>4</td>\n      <td>4</td>\n      <td>2</td>\n      <td>10</td>\n    </tr>\n    <tr>\n      <th>pfedme</th>\n      <th>1</th>\n      <td>2</td>\n      <td>1</td>\n      <td>5</td>\n      <td>8</td>\n    </tr>\n    <tr>\n      <th>ditto</th>\n      <th>1</th>\n      <td>0</td>\n      <td>5</td>\n      <td>2</td>\n      <td>7</td>\n    </tr>\n    <tr>\n      <th>fedavg</th>\n      <th>1</th>\n      <td>3</td>\n      <td>2</td>\n      <td>2</td>\n      <td>7</td>\n    </tr>\n  </tbody>\n</table>\n</div>"
     },
     "execution_count": 18,
     "metadata": {},
     "output_type": "execute_result"
    }
   ],
   "source": [
    "# run summary\n",
    "yes_run_summary.sort_values(by='value', ascending=False)"
   ],
   "metadata": {
    "collapsed": false,
    "ExecuteTime": {
     "start_time": "2023-04-01T14:58:26.414698Z",
     "end_time": "2023-04-01T14:58:26.668864Z"
    }
   }
  },
  {
   "cell_type": "code",
   "execution_count": 19,
   "outputs": [
    {
     "data": {
      "text/plain": "                                       rank_one_ind  rank_two_ind  \\\nmetric                                                              \nResults_unseen/test_acc                           2             1   \nResults_weighted_unseen/test_acc                  2             1   \nResults/test_acc_std                              1             0   \nResults/test_acc_bottom_decile                    0             2   \nResults_unseen/test_acc_bottom_decile             1             1   \nResults_unseen/test_acc_std                       1             1   \nResults/test_acc                                  1             0   \nResults_weighted/test_acc                         0             0   \n\n                                       rank_three_ind  value  \nmetric                                                        \nResults_unseen/test_acc                             0      3  \nResults_weighted_unseen/test_acc                    0      3  \nResults/test_acc_std                                2      3  \nResults/test_acc_bottom_decile                      1      3  \nResults_unseen/test_acc_bottom_decile               0      2  \nResults_unseen/test_acc_std                         0      2  \nResults/test_acc                                    1      2  \nResults_weighted/test_acc                           2      2  ",
      "text/html": "<div>\n<style scoped>\n    .dataframe tbody tr th:only-of-type {\n        vertical-align: middle;\n    }\n\n    .dataframe tbody tr th {\n        vertical-align: top;\n    }\n\n    .dataframe thead th {\n        text-align: right;\n    }\n</style>\n<table border=\"1\" class=\"dataframe\">\n  <thead>\n    <tr style=\"text-align: right;\">\n      <th></th>\n      <th>rank_one_ind</th>\n      <th>rank_two_ind</th>\n      <th>rank_three_ind</th>\n      <th>value</th>\n    </tr>\n    <tr>\n      <th>metric</th>\n      <th></th>\n      <th></th>\n      <th></th>\n      <th></th>\n    </tr>\n  </thead>\n  <tbody>\n    <tr>\n      <th>Results_unseen/test_acc</th>\n      <td>2</td>\n      <td>1</td>\n      <td>0</td>\n      <td>3</td>\n    </tr>\n    <tr>\n      <th>Results_weighted_unseen/test_acc</th>\n      <td>2</td>\n      <td>1</td>\n      <td>0</td>\n      <td>3</td>\n    </tr>\n    <tr>\n      <th>Results/test_acc_std</th>\n      <td>1</td>\n      <td>0</td>\n      <td>2</td>\n      <td>3</td>\n    </tr>\n    <tr>\n      <th>Results/test_acc_bottom_decile</th>\n      <td>0</td>\n      <td>2</td>\n      <td>1</td>\n      <td>3</td>\n    </tr>\n    <tr>\n      <th>Results_unseen/test_acc_bottom_decile</th>\n      <td>1</td>\n      <td>1</td>\n      <td>0</td>\n      <td>2</td>\n    </tr>\n    <tr>\n      <th>Results_unseen/test_acc_std</th>\n      <td>1</td>\n      <td>1</td>\n      <td>0</td>\n      <td>2</td>\n    </tr>\n    <tr>\n      <th>Results/test_acc</th>\n      <td>1</td>\n      <td>0</td>\n      <td>1</td>\n      <td>2</td>\n    </tr>\n    <tr>\n      <th>Results_weighted/test_acc</th>\n      <td>0</td>\n      <td>0</td>\n      <td>2</td>\n      <td>2</td>\n    </tr>\n  </tbody>\n</table>\n</div>"
     },
     "execution_count": 19,
     "metadata": {},
     "output_type": "execute_result"
    }
   ],
   "source": [
    "# metrics summary\n",
    "yes_metric_summary.sort_values(by=sort_by, ascending=False)"
   ],
   "metadata": {
    "collapsed": false,
    "ExecuteTime": {
     "start_time": "2023-04-01T14:58:26.458723Z",
     "end_time": "2023-04-01T14:58:26.737151Z"
    }
   }
  },
  {
   "cell_type": "code",
   "execution_count": 20,
   "outputs": [
    {
     "data": {
      "text/plain": "                 rank_one_ind  rank_two_ind  rank_three_ind  value\nmethod finetune                                                   \nexact  0                    9             7               4     20\nfedem  0                    3             5               9     17\nfedbn  0                    8             0               1      9\npfedme 0                    2             4               2      8\nditto  0                    0             4               3      7\nfedavg 0                    0             2               4      6",
      "text/html": "<div>\n<style scoped>\n    .dataframe tbody tr th:only-of-type {\n        vertical-align: middle;\n    }\n\n    .dataframe tbody tr th {\n        vertical-align: top;\n    }\n\n    .dataframe thead th {\n        text-align: right;\n    }\n</style>\n<table border=\"1\" class=\"dataframe\">\n  <thead>\n    <tr style=\"text-align: right;\">\n      <th></th>\n      <th></th>\n      <th>rank_one_ind</th>\n      <th>rank_two_ind</th>\n      <th>rank_three_ind</th>\n      <th>value</th>\n    </tr>\n    <tr>\n      <th>method</th>\n      <th>finetune</th>\n      <th></th>\n      <th></th>\n      <th></th>\n      <th></th>\n    </tr>\n  </thead>\n  <tbody>\n    <tr>\n      <th>exact</th>\n      <th>0</th>\n      <td>9</td>\n      <td>7</td>\n      <td>4</td>\n      <td>20</td>\n    </tr>\n    <tr>\n      <th>fedem</th>\n      <th>0</th>\n      <td>3</td>\n      <td>5</td>\n      <td>9</td>\n      <td>17</td>\n    </tr>\n    <tr>\n      <th>fedbn</th>\n      <th>0</th>\n      <td>8</td>\n      <td>0</td>\n      <td>1</td>\n      <td>9</td>\n    </tr>\n    <tr>\n      <th>pfedme</th>\n      <th>0</th>\n      <td>2</td>\n      <td>4</td>\n      <td>2</td>\n      <td>8</td>\n    </tr>\n    <tr>\n      <th>ditto</th>\n      <th>0</th>\n      <td>0</td>\n      <td>4</td>\n      <td>3</td>\n      <td>7</td>\n    </tr>\n    <tr>\n      <th>fedavg</th>\n      <th>0</th>\n      <td>0</td>\n      <td>2</td>\n      <td>4</td>\n      <td>6</td>\n    </tr>\n  </tbody>\n</table>\n</div>"
     },
     "execution_count": 20,
     "metadata": {},
     "output_type": "execute_result"
    }
   ],
   "source": [
    "# run summary\n",
    "no_run_summary.sort_values(by='value', ascending=False)"
   ],
   "metadata": {
    "collapsed": false,
    "ExecuteTime": {
     "start_time": "2023-04-01T14:58:26.495139Z",
     "end_time": "2023-04-01T14:58:26.868934Z"
    }
   }
  },
  {
   "cell_type": "code",
   "execution_count": 21,
   "outputs": [
    {
     "data": {
      "text/plain": "                                       rank_one_ind  rank_two_ind  \\\nmetric                                                              \nResults_unseen/test_acc                           2             1   \nResults_weighted_unseen/test_acc                  2             1   \nResults/test_acc_bottom_decile                    1             1   \nResults/test_acc_std                              1             1   \nResults_weighted/test_acc                         1             1   \nResults/test_acc                                  1             1   \nResults_unseen/test_acc_bottom_decile             1             0   \nResults_unseen/test_acc_std                       0             1   \n\n                                       rank_three_ind  value  \nmetric                                                        \nResults_unseen/test_acc                             0      3  \nResults_weighted_unseen/test_acc                    0      3  \nResults/test_acc_bottom_decile                      1      3  \nResults/test_acc_std                                1      3  \nResults_weighted/test_acc                           1      3  \nResults/test_acc                                    0      2  \nResults_unseen/test_acc_bottom_decile               1      2  \nResults_unseen/test_acc_std                         0      1  ",
      "text/html": "<div>\n<style scoped>\n    .dataframe tbody tr th:only-of-type {\n        vertical-align: middle;\n    }\n\n    .dataframe tbody tr th {\n        vertical-align: top;\n    }\n\n    .dataframe thead th {\n        text-align: right;\n    }\n</style>\n<table border=\"1\" class=\"dataframe\">\n  <thead>\n    <tr style=\"text-align: right;\">\n      <th></th>\n      <th>rank_one_ind</th>\n      <th>rank_two_ind</th>\n      <th>rank_three_ind</th>\n      <th>value</th>\n    </tr>\n    <tr>\n      <th>metric</th>\n      <th></th>\n      <th></th>\n      <th></th>\n      <th></th>\n    </tr>\n  </thead>\n  <tbody>\n    <tr>\n      <th>Results_unseen/test_acc</th>\n      <td>2</td>\n      <td>1</td>\n      <td>0</td>\n      <td>3</td>\n    </tr>\n    <tr>\n      <th>Results_weighted_unseen/test_acc</th>\n      <td>2</td>\n      <td>1</td>\n      <td>0</td>\n      <td>3</td>\n    </tr>\n    <tr>\n      <th>Results/test_acc_bottom_decile</th>\n      <td>1</td>\n      <td>1</td>\n      <td>1</td>\n      <td>3</td>\n    </tr>\n    <tr>\n      <th>Results/test_acc_std</th>\n      <td>1</td>\n      <td>1</td>\n      <td>1</td>\n      <td>3</td>\n    </tr>\n    <tr>\n      <th>Results_weighted/test_acc</th>\n      <td>1</td>\n      <td>1</td>\n      <td>1</td>\n      <td>3</td>\n    </tr>\n    <tr>\n      <th>Results/test_acc</th>\n      <td>1</td>\n      <td>1</td>\n      <td>0</td>\n      <td>2</td>\n    </tr>\n    <tr>\n      <th>Results_unseen/test_acc_bottom_decile</th>\n      <td>1</td>\n      <td>0</td>\n      <td>1</td>\n      <td>2</td>\n    </tr>\n    <tr>\n      <th>Results_unseen/test_acc_std</th>\n      <td>0</td>\n      <td>1</td>\n      <td>0</td>\n      <td>1</td>\n    </tr>\n  </tbody>\n</table>\n</div>"
     },
     "execution_count": 21,
     "metadata": {},
     "output_type": "execute_result"
    }
   ],
   "source": [
    "# metrics summary\n",
    "no_metric_summary.sort_values(by=sort_by, ascending=False)"
   ],
   "metadata": {
    "collapsed": false,
    "ExecuteTime": {
     "start_time": "2023-04-01T14:58:26.537848Z",
     "end_time": "2023-04-01T14:58:26.876183Z"
    }
   }
  },
  {
   "cell_type": "code",
   "execution_count": 22,
   "outputs": [],
   "source": [
    "helper.runs_to_latex(best_runs, 'all')\n",
    "helper.runs_to_latex(best_runs.loc[best_runs.finetune == 1], 'ft_yes')\n",
    "helper.runs_to_latex(best_runs.loc[best_runs.finetune == 0], 'ft_no')"
   ],
   "metadata": {
    "collapsed": false,
    "ExecuteTime": {
     "start_time": "2023-04-01T14:58:26.582473Z",
     "end_time": "2023-04-01T14:58:27.350058Z"
    }
   }
  }
 ],
 "metadata": {
  "kernelspec": {
   "display_name": "Python 3",
   "language": "python",
   "name": "python3"
  },
  "language_info": {
   "codemirror_mode": {
    "name": "ipython",
    "version": 2
   },
   "file_extension": ".py",
   "mimetype": "text/x-python",
   "name": "python",
   "nbconvert_exporter": "python",
   "pygments_lexer": "ipython2",
   "version": "2.7.6"
  }
 },
 "nbformat": 4,
 "nbformat_minor": 0
}
