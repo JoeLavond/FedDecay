{
 "cells": [
  {
   "cell_type": "markdown",
   "source": [
    "Import packages and processed run metrics"
   ],
   "metadata": {
    "collapsed": false
   }
  },
  {
   "cell_type": "code",
   "execution_count": 82,
   "metadata": {
    "collapsed": true
   },
   "outputs": [
    {
     "name": "stdout",
     "output_type": "stream",
     "text": [
      "input datasets:\n",
      "\t (1200, 35)\n",
      "\t (780, 28)\n",
      "\t (520, 27)\n",
      "\t (520, 27)\n",
      "\t (520, 27)\n",
      "all runs: (3540, 36)\n"
     ]
    }
   ],
   "source": [
    "# packages\n",
    "import re\n",
    "import numpy as np\n",
    "import pandas as pd\n",
    "\n",
    "# control\n",
    "project_names = [\n",
    "    'decay--sst2',\n",
    "    'decay--pubmed',\n",
    "    'decay--cifar--alpha5.0',\n",
    "    'decay--cifar--alpha0.5',\n",
    "    'decay--cifar--alpha0.1'\n",
    "]\n",
    "validation_metric = 'Results/val_acc'\n",
    "\n",
    "# read each data set\n",
    "df = []\n",
    "print('input datasets:')\n",
    "for project_name in project_names:\n",
    "    temp = pd.read_csv(f'{project_name}.csv')\n",
    "    print('\\t', temp.shape)\n",
    "    df.append(temp)\n",
    "\n",
    "df = pd.concat(df, axis=0, ignore_index=True)\n",
    "print('all runs:', df.shape)"
   ]
  },
  {
   "cell_type": "markdown",
   "source": [
    "Write function to return summaries of run's metric performance"
   ],
   "metadata": {
    "collapsed": false
   }
  },
  {
   "cell_type": "code",
   "execution_count": 83,
   "outputs": [],
   "source": [
    "def process_run_metrics(filtered_df, method='exact'):\n",
    "\n",
    "    ## Process metrics and get top runs for each\n",
    "    # are large or small metric values are desirable?\n",
    "    descending_metrics = [name for name in filtered_df.columns if re.search('Results.*test', name)]\n",
    "    ascending_metrics = [\n",
    "        descending_metrics.pop(descending_metrics.index(name))\n",
    "        for name in descending_metrics\n",
    "        if re.search('std', name)\n",
    "    ]\n",
    "\n",
    "    # convert metrics to numeric\n",
    "    #filtered_df[descending_metrics + ascending_metrics] = filtered_df[descending_metrics + ascending_metrics].apply(pd.to_numeric)\n",
    "\n",
    "    # all non-metrics columns are used to identify the experimental run\n",
    "    filtered_runs = filtered_df[[\n",
    "        name for name in filtered_df.columns\n",
    "        if name not in descending_metrics + ascending_metrics\n",
    "    ]]\n",
    "\n",
    "    # rank the metrics\n",
    "    ranked_descending = filtered_df.groupby(['dataset'])[descending_metrics].rank(\n",
    "        method='min',\n",
    "        ascending=False\n",
    "    )\n",
    "    ranked_ascending = filtered_df.groupby(['dataset'])[ascending_metrics].rank(\n",
    "        method='min',\n",
    "        ascending=True\n",
    "    )\n",
    "\n",
    "    # combine and sort the ranked_metrics\n",
    "    ranked_metrics = pd.concat([ranked_descending, ranked_ascending], axis=1)\n",
    "    ranked_metrics = ranked_metrics[sorted(ranked_metrics.columns)]\n",
    "    filtered_ranks = filtered_runs.join(ranked_metrics)\n",
    "\n",
    "\n",
    "    ## Manipulate rank data to be summarized by runs and metrics\n",
    "    # convert to long format\n",
    "    # filter to top ranks\n",
    "    long_filtered_ranks = pd.melt(filtered_ranks, id_vars=filtered_runs.columns, var_name='metric')\n",
    "    top_filtered_metrics = long_filtered_ranks.loc[long_filtered_ranks.value <= 3].copy()  # top 3 runs\n",
    "\n",
    "    # compute rank summaries to understand what runs are top overall\n",
    "    top_filtered_metrics['rank_one_ind'] = (top_filtered_metrics.value == 1)\n",
    "    top_filtered_metrics['rank_two_ind'] = (top_filtered_metrics.value == 2)\n",
    "    top_filtered_metrics['rank_three_ind'] = (top_filtered_metrics.value == 3)\n",
    "    top_filtered_metrics.replace(False, pd.NA, inplace=True)\n",
    "\n",
    "    # summarized metric ranks for run type\n",
    "    rank_summary_columns = ['rank_one_ind', 'rank_two_ind', 'rank_three_ind', 'value']\n",
    "    #id_columns = ['dataset', 'method', 'finetune']\n",
    "    id_columns = ['method', 'finetune']\n",
    "    run_summary = top_filtered_metrics.groupby(id_columns)[rank_summary_columns].count()\n",
    "\n",
    "    # summarize metric ranks for metric choice\n",
    "    metric_summary = top_filtered_metrics.loc[top_filtered_metrics.method == method]\n",
    "    metric_summary = metric_summary.sort_values(by='metric').groupby('metric')[rank_summary_columns].count()\n",
    "\n",
    "    return (\n",
    "        run_summary,\n",
    "        metric_summary,\n",
    "        filtered_runs\n",
    "    )\n"
   ],
   "metadata": {
    "collapsed": false
   }
  },
  {
   "cell_type": "markdown",
   "source": [
    "Filter data to runs of interest\n",
    "Apply summary function to filtered dataset"
   ],
   "metadata": {
    "collapsed": false
   }
  },
  {
   "cell_type": "code",
   "execution_count": 84,
   "outputs": [
    {
     "name": "stdout",
     "output_type": "stream",
     "text": [
      "input dataset: (3540, 36)\n",
      "\t reduce to 3 or fewer local update steps: (2770, 36)\n",
      "\t reduce to 3 or fewer local meta-learning steps for pfedme: (2690, 36)\n",
      "\t reduce beta grid for decay: (2490, 36)\n"
     ]
    }
   ],
   "source": [
    "subset_df = df\n",
    "print('input dataset:', df.shape)\n",
    "\n",
    "## row (run) filtering\n",
    "# remove extra hyper-parameter searches\n",
    "subset_df = subset_df.loc[(subset_df.n_epochs < 6)]\n",
    "print('\\t reduce to 3 or fewer local update steps:', subset_df.shape)\n",
    "subset_df = subset_df.loc[(subset_df.K < 6) | (subset_df.method != 'pfedme')]\n",
    "print('\\t reduce to 3 or fewer local meta-learning steps for pfedme:', subset_df.shape)\n",
    "subset_df = subset_df.loc[((10 * subset_df.beta).astype('Int64') % 2 == 0) | (subset_df.method != 'exact')]\n",
    "print('\\t reduce beta grid for decay:', subset_df.shape)\n",
    "\n",
    "## column (metric) filtering\n",
    "subset_df = subset_df[[\n",
    "    name for name in subset_df.columns\n",
    "    if not re.search('f1', name)\n",
    "       and not re.search('loss', name)\n",
    "]]"
   ],
   "metadata": {
    "collapsed": false
   }
  },
  {
   "cell_type": "code",
   "execution_count": 85,
   "outputs": [],
   "source": [
    "## get best runs for each group\n",
    "# regardless of finetuning\n",
    "best_runs = subset_df.loc[\n",
    "    subset_df.groupby(['dataset', 'method', 'finetune']) \\\n",
    "    [validation_metric].idxmax()  # return index of max validation metric\n",
    "]\n",
    "\n",
    "# treat finetuning groups as seperate\n",
    "ft_yes = best_runs.loc[best_runs.finetune == 1]\n",
    "ft_no = best_runs.loc[best_runs.finetune == 0]"
   ],
   "metadata": {
    "collapsed": false
   }
  },
  {
   "cell_type": "markdown",
   "source": [
    "For all best runs, regardless of finetuning, produce summaries"
   ],
   "metadata": {
    "collapsed": false
   }
  },
  {
   "cell_type": "code",
   "execution_count": 86,
   "outputs": [
    {
     "name": "stdout",
     "output_type": "stream",
     "text": [
      "all runs: (12, 4)\n",
      "all metrics: (7, 4)\n"
     ]
    },
    {
     "name": "stderr",
     "output_type": "stream",
     "text": [
      "C:\\Users\\joela\\AppData\\Local\\Temp\\ipykernel_39364\\2189090309.py:22: FutureWarning: Dropping invalid columns in DataFrameGroupBy.rank is deprecated. In a future version, a TypeError will be raised. Before calling .rank, select only columns which should be valid for the function.\n",
      "  ranked_descending = filtered_df.groupby(['dataset'])[descending_metrics].rank(\n"
     ]
    },
    {
     "data": {
      "text/plain": "                 rank_one_ind  rank_two_ind  rank_three_ind  value\nmethod finetune                                                   \nexact  0                    9             6               4     19\n       1                    5             4               5     14\nfedavg 0                    4             4               5     13\nfedem  0                    2             4               6     12\nfedavg 1                    3             2               6     11\npfedme 0                    5             5               1     11\n       1                    7             2               2     11\nfedem  1                    3             1               2      6\nfedbn  1                    1             1               3      5\n       0                    0             2               0      2\nditto  0                    1             0               0      1\n       1                    0             1               0      1",
      "text/html": "<div>\n<style scoped>\n    .dataframe tbody tr th:only-of-type {\n        vertical-align: middle;\n    }\n\n    .dataframe tbody tr th {\n        vertical-align: top;\n    }\n\n    .dataframe thead th {\n        text-align: right;\n    }\n</style>\n<table border=\"1\" class=\"dataframe\">\n  <thead>\n    <tr style=\"text-align: right;\">\n      <th></th>\n      <th></th>\n      <th>rank_one_ind</th>\n      <th>rank_two_ind</th>\n      <th>rank_three_ind</th>\n      <th>value</th>\n    </tr>\n    <tr>\n      <th>method</th>\n      <th>finetune</th>\n      <th></th>\n      <th></th>\n      <th></th>\n      <th></th>\n    </tr>\n  </thead>\n  <tbody>\n    <tr>\n      <th rowspan=\"2\" valign=\"top\">exact</th>\n      <th>0</th>\n      <td>9</td>\n      <td>6</td>\n      <td>4</td>\n      <td>19</td>\n    </tr>\n    <tr>\n      <th>1</th>\n      <td>5</td>\n      <td>4</td>\n      <td>5</td>\n      <td>14</td>\n    </tr>\n    <tr>\n      <th>fedavg</th>\n      <th>0</th>\n      <td>4</td>\n      <td>4</td>\n      <td>5</td>\n      <td>13</td>\n    </tr>\n    <tr>\n      <th>fedem</th>\n      <th>0</th>\n      <td>2</td>\n      <td>4</td>\n      <td>6</td>\n      <td>12</td>\n    </tr>\n    <tr>\n      <th>fedavg</th>\n      <th>1</th>\n      <td>3</td>\n      <td>2</td>\n      <td>6</td>\n      <td>11</td>\n    </tr>\n    <tr>\n      <th rowspan=\"2\" valign=\"top\">pfedme</th>\n      <th>0</th>\n      <td>5</td>\n      <td>5</td>\n      <td>1</td>\n      <td>11</td>\n    </tr>\n    <tr>\n      <th>1</th>\n      <td>7</td>\n      <td>2</td>\n      <td>2</td>\n      <td>11</td>\n    </tr>\n    <tr>\n      <th>fedem</th>\n      <th>1</th>\n      <td>3</td>\n      <td>1</td>\n      <td>2</td>\n      <td>6</td>\n    </tr>\n    <tr>\n      <th rowspan=\"2\" valign=\"top\">fedbn</th>\n      <th>1</th>\n      <td>1</td>\n      <td>1</td>\n      <td>3</td>\n      <td>5</td>\n    </tr>\n    <tr>\n      <th>0</th>\n      <td>0</td>\n      <td>2</td>\n      <td>0</td>\n      <td>2</td>\n    </tr>\n    <tr>\n      <th rowspan=\"2\" valign=\"top\">ditto</th>\n      <th>0</th>\n      <td>1</td>\n      <td>0</td>\n      <td>0</td>\n      <td>1</td>\n    </tr>\n    <tr>\n      <th>1</th>\n      <td>0</td>\n      <td>1</td>\n      <td>0</td>\n      <td>1</td>\n    </tr>\n  </tbody>\n</table>\n</div>"
     },
     "execution_count": 86,
     "metadata": {},
     "output_type": "execute_result"
    }
   ],
   "source": [
    "(all_run_summary, all_metric_summary, _) = process_run_metrics(best_runs)\n",
    "print('all runs:', all_run_summary.shape)\n",
    "print('all metrics:', all_metric_summary.shape)\n",
    "\n",
    "# run summary\n",
    "all_run_summary.sort_values(by='value', ascending=False)"
   ],
   "metadata": {
    "collapsed": false
   }
  },
  {
   "cell_type": "markdown",
   "source": [
    "View processed summaries"
   ],
   "metadata": {
    "collapsed": false
   }
  },
  {
   "cell_type": "code",
   "execution_count": 87,
   "outputs": [
    {
     "data": {
      "text/plain": "                                       rank_one_ind  rank_two_ind  \\\nmetric                                                              \nResults_weighted_unseen/test_acc                  4             1   \nResults/test_acc_bottom_decile                    2             3   \nResults_unseen/test_acc_bottom_decile             2             1   \nResults/test_acc_std                              4             0   \nResults/test_acc                                  1             2   \nResults_unseen/test_acc_std                       1             1   \nResults_weighted/test_acc                         0             2   \n\n                                       rank_three_ind  value  \nmetric                                                        \nResults_weighted_unseen/test_acc                    1      6  \nResults/test_acc_bottom_decile                      1      6  \nResults_unseen/test_acc_bottom_decile               3      6  \nResults/test_acc_std                                1      5  \nResults/test_acc                                    1      4  \nResults_unseen/test_acc_std                         1      3  \nResults_weighted/test_acc                           1      3  ",
      "text/html": "<div>\n<style scoped>\n    .dataframe tbody tr th:only-of-type {\n        vertical-align: middle;\n    }\n\n    .dataframe tbody tr th {\n        vertical-align: top;\n    }\n\n    .dataframe thead th {\n        text-align: right;\n    }\n</style>\n<table border=\"1\" class=\"dataframe\">\n  <thead>\n    <tr style=\"text-align: right;\">\n      <th></th>\n      <th>rank_one_ind</th>\n      <th>rank_two_ind</th>\n      <th>rank_three_ind</th>\n      <th>value</th>\n    </tr>\n    <tr>\n      <th>metric</th>\n      <th></th>\n      <th></th>\n      <th></th>\n      <th></th>\n    </tr>\n  </thead>\n  <tbody>\n    <tr>\n      <th>Results_weighted_unseen/test_acc</th>\n      <td>4</td>\n      <td>1</td>\n      <td>1</td>\n      <td>6</td>\n    </tr>\n    <tr>\n      <th>Results/test_acc_bottom_decile</th>\n      <td>2</td>\n      <td>3</td>\n      <td>1</td>\n      <td>6</td>\n    </tr>\n    <tr>\n      <th>Results_unseen/test_acc_bottom_decile</th>\n      <td>2</td>\n      <td>1</td>\n      <td>3</td>\n      <td>6</td>\n    </tr>\n    <tr>\n      <th>Results/test_acc_std</th>\n      <td>4</td>\n      <td>0</td>\n      <td>1</td>\n      <td>5</td>\n    </tr>\n    <tr>\n      <th>Results/test_acc</th>\n      <td>1</td>\n      <td>2</td>\n      <td>1</td>\n      <td>4</td>\n    </tr>\n    <tr>\n      <th>Results_unseen/test_acc_std</th>\n      <td>1</td>\n      <td>1</td>\n      <td>1</td>\n      <td>3</td>\n    </tr>\n    <tr>\n      <th>Results_weighted/test_acc</th>\n      <td>0</td>\n      <td>2</td>\n      <td>1</td>\n      <td>3</td>\n    </tr>\n  </tbody>\n</table>\n</div>"
     },
     "execution_count": 87,
     "metadata": {},
     "output_type": "execute_result"
    }
   ],
   "source": [
    "# metrics summary\n",
    "sort_by = ['value', 'rank_one_ind', 'rank_two_ind', 'rank_three_ind']\n",
    "all_metric_summary.sort_values(by=sort_by, ascending=False)"
   ],
   "metadata": {
    "collapsed": false
   }
  },
  {
   "cell_type": "markdown",
   "source": [
    "Now seperately, based on finetuning status, repeat the above summary"
   ],
   "metadata": {
    "collapsed": false
   }
  },
  {
   "cell_type": "code",
   "execution_count": 88,
   "outputs": [
    {
     "name": "stdout",
     "output_type": "stream",
     "text": [
      "ft_yes runs: (6, 4)\n",
      "ft_yes metrics: (7, 4)\n",
      "ft_no runs: (12, 4)\n",
      "ft_no metrics: (7, 4)\n"
     ]
    },
    {
     "name": "stderr",
     "output_type": "stream",
     "text": [
      "C:\\Users\\joela\\AppData\\Local\\Temp\\ipykernel_39364\\2189090309.py:22: FutureWarning: Dropping invalid columns in DataFrameGroupBy.rank is deprecated. In a future version, a TypeError will be raised. Before calling .rank, select only columns which should be valid for the function.\n",
      "  ranked_descending = filtered_df.groupby(['dataset'])[descending_metrics].rank(\n",
      "C:\\Users\\joela\\AppData\\Local\\Temp\\ipykernel_39364\\2189090309.py:22: FutureWarning: Dropping invalid columns in DataFrameGroupBy.rank is deprecated. In a future version, a TypeError will be raised. Before calling .rank, select only columns which should be valid for the function.\n",
      "  ranked_descending = filtered_df.groupby(['dataset'])[descending_metrics].rank(\n"
     ]
    }
   ],
   "source": [
    "(yes_run_summary, yes_metric_summary, _) = process_run_metrics(ft_yes)\n",
    "print('ft_yes runs:', yes_run_summary.shape)\n",
    "print('ft_yes metrics:', yes_metric_summary.shape)\n",
    "(no_run_summary, no_metric_summary, _) = process_run_metrics(ft_no)\n",
    "print('ft_no runs:', all_run_summary.shape)\n",
    "print('ft_no metrics:', all_metric_summary.shape)"
   ],
   "metadata": {
    "collapsed": false
   }
  },
  {
   "cell_type": "code",
   "execution_count": 89,
   "outputs": [
    {
     "data": {
      "text/plain": "                 rank_one_ind  rank_two_ind  rank_three_ind  value\nmethod finetune                                                   \nexact  1                   15            12               4     31\nfedavg 1                   11             8               5     24\npfedme 1                   12             1               7     20\nfedem  1                    3             5               7     15\nfedbn  1                    1             4               1      6\nditto  1                    0             1               2      3",
      "text/html": "<div>\n<style scoped>\n    .dataframe tbody tr th:only-of-type {\n        vertical-align: middle;\n    }\n\n    .dataframe tbody tr th {\n        vertical-align: top;\n    }\n\n    .dataframe thead th {\n        text-align: right;\n    }\n</style>\n<table border=\"1\" class=\"dataframe\">\n  <thead>\n    <tr style=\"text-align: right;\">\n      <th></th>\n      <th></th>\n      <th>rank_one_ind</th>\n      <th>rank_two_ind</th>\n      <th>rank_three_ind</th>\n      <th>value</th>\n    </tr>\n    <tr>\n      <th>method</th>\n      <th>finetune</th>\n      <th></th>\n      <th></th>\n      <th></th>\n      <th></th>\n    </tr>\n  </thead>\n  <tbody>\n    <tr>\n      <th>exact</th>\n      <th>1</th>\n      <td>15</td>\n      <td>12</td>\n      <td>4</td>\n      <td>31</td>\n    </tr>\n    <tr>\n      <th>fedavg</th>\n      <th>1</th>\n      <td>11</td>\n      <td>8</td>\n      <td>5</td>\n      <td>24</td>\n    </tr>\n    <tr>\n      <th>pfedme</th>\n      <th>1</th>\n      <td>12</td>\n      <td>1</td>\n      <td>7</td>\n      <td>20</td>\n    </tr>\n    <tr>\n      <th>fedem</th>\n      <th>1</th>\n      <td>3</td>\n      <td>5</td>\n      <td>7</td>\n      <td>15</td>\n    </tr>\n    <tr>\n      <th>fedbn</th>\n      <th>1</th>\n      <td>1</td>\n      <td>4</td>\n      <td>1</td>\n      <td>6</td>\n    </tr>\n    <tr>\n      <th>ditto</th>\n      <th>1</th>\n      <td>0</td>\n      <td>1</td>\n      <td>2</td>\n      <td>3</td>\n    </tr>\n  </tbody>\n</table>\n</div>"
     },
     "execution_count": 89,
     "metadata": {},
     "output_type": "execute_result"
    }
   ],
   "source": [
    "# run summary\n",
    "yes_run_summary.sort_values(by='value', ascending=False)"
   ],
   "metadata": {
    "collapsed": false
   }
  },
  {
   "cell_type": "code",
   "execution_count": 90,
   "outputs": [
    {
     "data": {
      "text/plain": "                                       rank_one_ind  rank_two_ind  \\\nmetric                                                              \nResults_weighted_unseen/test_acc                  5             0   \nResults/test_acc_std                              3             1   \nResults/test_acc_bottom_decile                    2             3   \nResults_unseen/test_acc_bottom_decile             3             0   \nResults_unseen/test_acc_std                       1             3   \nResults/test_acc                                  1             2   \nResults_weighted/test_acc                         0             3   \n\n                                       rank_three_ind  value  \nmetric                                                        \nResults_weighted_unseen/test_acc                    0      5  \nResults/test_acc_std                                1      5  \nResults/test_acc_bottom_decile                      0      5  \nResults_unseen/test_acc_bottom_decile               1      4  \nResults_unseen/test_acc_std                         0      4  \nResults/test_acc                                    1      4  \nResults_weighted/test_acc                           1      4  ",
      "text/html": "<div>\n<style scoped>\n    .dataframe tbody tr th:only-of-type {\n        vertical-align: middle;\n    }\n\n    .dataframe tbody tr th {\n        vertical-align: top;\n    }\n\n    .dataframe thead th {\n        text-align: right;\n    }\n</style>\n<table border=\"1\" class=\"dataframe\">\n  <thead>\n    <tr style=\"text-align: right;\">\n      <th></th>\n      <th>rank_one_ind</th>\n      <th>rank_two_ind</th>\n      <th>rank_three_ind</th>\n      <th>value</th>\n    </tr>\n    <tr>\n      <th>metric</th>\n      <th></th>\n      <th></th>\n      <th></th>\n      <th></th>\n    </tr>\n  </thead>\n  <tbody>\n    <tr>\n      <th>Results_weighted_unseen/test_acc</th>\n      <td>5</td>\n      <td>0</td>\n      <td>0</td>\n      <td>5</td>\n    </tr>\n    <tr>\n      <th>Results/test_acc_std</th>\n      <td>3</td>\n      <td>1</td>\n      <td>1</td>\n      <td>5</td>\n    </tr>\n    <tr>\n      <th>Results/test_acc_bottom_decile</th>\n      <td>2</td>\n      <td>3</td>\n      <td>0</td>\n      <td>5</td>\n    </tr>\n    <tr>\n      <th>Results_unseen/test_acc_bottom_decile</th>\n      <td>3</td>\n      <td>0</td>\n      <td>1</td>\n      <td>4</td>\n    </tr>\n    <tr>\n      <th>Results_unseen/test_acc_std</th>\n      <td>1</td>\n      <td>3</td>\n      <td>0</td>\n      <td>4</td>\n    </tr>\n    <tr>\n      <th>Results/test_acc</th>\n      <td>1</td>\n      <td>2</td>\n      <td>1</td>\n      <td>4</td>\n    </tr>\n    <tr>\n      <th>Results_weighted/test_acc</th>\n      <td>0</td>\n      <td>3</td>\n      <td>1</td>\n      <td>4</td>\n    </tr>\n  </tbody>\n</table>\n</div>"
     },
     "execution_count": 90,
     "metadata": {},
     "output_type": "execute_result"
    }
   ],
   "source": [
    "# metrics summary\n",
    "yes_metric_summary.sort_values(by=sort_by, ascending=False)"
   ],
   "metadata": {
    "collapsed": false
   }
  },
  {
   "cell_type": "code",
   "execution_count": 91,
   "outputs": [
    {
     "data": {
      "text/plain": "                 rank_one_ind  rank_two_ind  rank_three_ind  value\nmethod finetune                                                   \nexact  0                   15             7               6     28\nfedem  0                    4             8              16     28\nfedavg 0                    8             7               7     22\npfedme 0                    9             4               1     14\nditto  0                    1             0               3      4\nfedbn  0                    3             0               1      4",
      "text/html": "<div>\n<style scoped>\n    .dataframe tbody tr th:only-of-type {\n        vertical-align: middle;\n    }\n\n    .dataframe tbody tr th {\n        vertical-align: top;\n    }\n\n    .dataframe thead th {\n        text-align: right;\n    }\n</style>\n<table border=\"1\" class=\"dataframe\">\n  <thead>\n    <tr style=\"text-align: right;\">\n      <th></th>\n      <th></th>\n      <th>rank_one_ind</th>\n      <th>rank_two_ind</th>\n      <th>rank_three_ind</th>\n      <th>value</th>\n    </tr>\n    <tr>\n      <th>method</th>\n      <th>finetune</th>\n      <th></th>\n      <th></th>\n      <th></th>\n      <th></th>\n    </tr>\n  </thead>\n  <tbody>\n    <tr>\n      <th>exact</th>\n      <th>0</th>\n      <td>15</td>\n      <td>7</td>\n      <td>6</td>\n      <td>28</td>\n    </tr>\n    <tr>\n      <th>fedem</th>\n      <th>0</th>\n      <td>4</td>\n      <td>8</td>\n      <td>16</td>\n      <td>28</td>\n    </tr>\n    <tr>\n      <th>fedavg</th>\n      <th>0</th>\n      <td>8</td>\n      <td>7</td>\n      <td>7</td>\n      <td>22</td>\n    </tr>\n    <tr>\n      <th>pfedme</th>\n      <th>0</th>\n      <td>9</td>\n      <td>4</td>\n      <td>1</td>\n      <td>14</td>\n    </tr>\n    <tr>\n      <th>ditto</th>\n      <th>0</th>\n      <td>1</td>\n      <td>0</td>\n      <td>3</td>\n      <td>4</td>\n    </tr>\n    <tr>\n      <th>fedbn</th>\n      <th>0</th>\n      <td>3</td>\n      <td>0</td>\n      <td>1</td>\n      <td>4</td>\n    </tr>\n  </tbody>\n</table>\n</div>"
     },
     "execution_count": 91,
     "metadata": {},
     "output_type": "execute_result"
    }
   ],
   "source": [
    "# run summary\n",
    "no_run_summary.sort_values(by='value', ascending=False)"
   ],
   "metadata": {
    "collapsed": false
   }
  },
  {
   "cell_type": "code",
   "execution_count": 92,
   "outputs": [
    {
     "data": {
      "text/plain": "                                       rank_one_ind  rank_two_ind  \\\nmetric                                                              \nResults_weighted_unseen/test_acc                  4             1   \nResults/test_acc_std                              2             1   \nResults/test_acc                                  2             1   \nResults_weighted/test_acc                         2             1   \nResults_unseen/test_acc_bottom_decile             2             0   \nResults/test_acc_bottom_decile                    2             1   \nResults_unseen/test_acc_std                       1             2   \n\n                                       rank_three_ind  value  \nmetric                                                        \nResults_weighted_unseen/test_acc                    0      5  \nResults/test_acc_std                                2      5  \nResults/test_acc                                    1      4  \nResults_weighted/test_acc                           1      4  \nResults_unseen/test_acc_bottom_decile               2      4  \nResults/test_acc_bottom_decile                      0      3  \nResults_unseen/test_acc_std                         0      3  ",
      "text/html": "<div>\n<style scoped>\n    .dataframe tbody tr th:only-of-type {\n        vertical-align: middle;\n    }\n\n    .dataframe tbody tr th {\n        vertical-align: top;\n    }\n\n    .dataframe thead th {\n        text-align: right;\n    }\n</style>\n<table border=\"1\" class=\"dataframe\">\n  <thead>\n    <tr style=\"text-align: right;\">\n      <th></th>\n      <th>rank_one_ind</th>\n      <th>rank_two_ind</th>\n      <th>rank_three_ind</th>\n      <th>value</th>\n    </tr>\n    <tr>\n      <th>metric</th>\n      <th></th>\n      <th></th>\n      <th></th>\n      <th></th>\n    </tr>\n  </thead>\n  <tbody>\n    <tr>\n      <th>Results_weighted_unseen/test_acc</th>\n      <td>4</td>\n      <td>1</td>\n      <td>0</td>\n      <td>5</td>\n    </tr>\n    <tr>\n      <th>Results/test_acc_std</th>\n      <td>2</td>\n      <td>1</td>\n      <td>2</td>\n      <td>5</td>\n    </tr>\n    <tr>\n      <th>Results/test_acc</th>\n      <td>2</td>\n      <td>1</td>\n      <td>1</td>\n      <td>4</td>\n    </tr>\n    <tr>\n      <th>Results_weighted/test_acc</th>\n      <td>2</td>\n      <td>1</td>\n      <td>1</td>\n      <td>4</td>\n    </tr>\n    <tr>\n      <th>Results_unseen/test_acc_bottom_decile</th>\n      <td>2</td>\n      <td>0</td>\n      <td>2</td>\n      <td>4</td>\n    </tr>\n    <tr>\n      <th>Results/test_acc_bottom_decile</th>\n      <td>2</td>\n      <td>1</td>\n      <td>0</td>\n      <td>3</td>\n    </tr>\n    <tr>\n      <th>Results_unseen/test_acc_std</th>\n      <td>1</td>\n      <td>2</td>\n      <td>0</td>\n      <td>3</td>\n    </tr>\n  </tbody>\n</table>\n</div>"
     },
     "execution_count": 92,
     "metadata": {},
     "output_type": "execute_result"
    }
   ],
   "source": [
    "# metrics summary\n",
    "no_metric_summary.sort_values(by=sort_by, ascending=False)"
   ],
   "metadata": {
    "collapsed": false
   }
  }
 ],
 "metadata": {
  "kernelspec": {
   "display_name": "Python 3",
   "language": "python",
   "name": "python3"
  },
  "language_info": {
   "codemirror_mode": {
    "name": "ipython",
    "version": 2
   },
   "file_extension": ".py",
   "mimetype": "text/x-python",
   "name": "python",
   "nbconvert_exporter": "python",
   "pygments_lexer": "ipython2",
   "version": "2.7.6"
  }
 },
 "nbformat": 4,
 "nbformat_minor": 0
}
