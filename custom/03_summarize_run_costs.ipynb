{
 "cells": [
  {
   "cell_type": "markdown",
   "source": [
    "Import packages and processed run metrics"
   ],
   "metadata": {
    "collapsed": false
   }
  },
  {
   "cell_type": "code",
   "execution_count": 2,
   "metadata": {
    "collapsed": true,
    "ExecuteTime": {
     "start_time": "2023-04-03T17:20:40.419990Z",
     "end_time": "2023-04-03T17:20:41.521221Z"
    }
   },
   "outputs": [
    {
     "name": "stdout",
     "output_type": "stream",
     "text": [
      "input datasets:\n",
      "\t (413, 35)\n",
      "\t (1200, 44)\n",
      "\t (780, 37)\n",
      "all runs: (2393, 44)\n"
     ]
    }
   ],
   "source": [
    "# packages\n",
    "import os\n",
    "import re\n",
    "import numpy as np\n",
    "import pandas as pd\n",
    "\n",
    "# source\n",
    "helper = __import__('00_helper')\n",
    "\n",
    "# control\n",
    "project_names = [\n",
    "    'femnist--s02', 'sst2', 'pubmed',\n",
    "    #'cifar--alpha5.0', 'cifar--alpha0.5', 'cifar--alpha0.1'\n",
    "]\n",
    "validation_metric = 'Results/val_acc'\n",
    "\n",
    "df = helper.load_data(project_names)\n"
   ]
  },
  {
   "cell_type": "markdown",
   "source": [
    "Filter data to runs of interest\n",
    "Apply summary function to filtered dataset"
   ],
   "metadata": {
    "collapsed": false
   }
  },
  {
   "cell_type": "code",
   "execution_count": 3,
   "outputs": [
    {
     "name": "stdout",
     "output_type": "stream",
     "text": [
      "input dataset: (2393, 44)\n",
      "\t reduce to 3 or fewer local update steps: (1787, 44)\n",
      "\t reduce to 3 or fewer local meta-learning steps for pfedme: (1707, 44)\n",
      "\t reduce beta grid for decay: (1610, 44)\n"
     ]
    }
   ],
   "source": [
    "subset_df = df\n",
    "print('input dataset:', df.shape)\n",
    "\n",
    "## row (run) filtering\n",
    "# remove extra hyper-parameter searches\n",
    "\n",
    "subset_df = subset_df.loc[(subset_df.n_epochs < 6)]\n",
    "print('\\t reduce to 3 or fewer local update steps:', subset_df.shape)\n",
    "\n",
    "subset_df = subset_df.loc[(subset_df.K < 6) | (subset_df.method != 'pfedme')]\n",
    "print('\\t reduce to 3 or fewer local meta-learning steps for pfedme:', subset_df.shape)\n",
    "\n",
    "subset_df = subset_df.loc[((10 * subset_df.beta).astype('Int64') % 2 == 0) | (subset_df.method != 'exact')]\n",
    "print('\\t reduce beta grid for decay:', subset_df.shape)\n",
    "\n",
    "## column (metric) filtering\n",
    "subset_df = subset_df[[\n",
    "    name for name in subset_df.columns\n",
    "    if (\n",
    "        not re.search('test', name)\n",
    "        and not re.search('f1', name)\n",
    "        and not re.search('loss', name)\n",
    "    )\n",
    "]]\n",
    "\n",
    "def convert_SI(x):\n",
    "    if pd.isna(x):\n",
    "        return x\n",
    "\n",
    "    SI = {\n",
    "        'K': 10e3,\n",
    "        'M': 10e6,\n",
    "        'G': 10e9,\n",
    "        'T': 10e12\n",
    "    }\n",
    "\n",
    "    units = re.sub('[0-9.]', '', x)\n",
    "    x = float(re.sub('[^0-9.]', '', x))\n",
    "\n",
    "    if units == '':\n",
    "        return x\n",
    "    return x * SI[units]\n",
    "\n",
    "#convert_SI('19.0M')"
   ],
   "metadata": {
    "collapsed": false,
    "ExecuteTime": {
     "start_time": "2023-04-03T17:20:41.530675Z",
     "end_time": "2023-04-03T17:20:41.607345Z"
    }
   }
  },
  {
   "cell_type": "code",
   "execution_count": 4,
   "outputs": [
    {
     "data": {
      "text/plain": "array(['12.53M', '6.27M', '18.8M', nan, '4.1M', '12.3M', '8.2M', '33.45K',\n       '66.9K', '100.35K'], dtype=object)"
     },
     "execution_count": 4,
     "metadata": {},
     "output_type": "execute_result"
    }
   ],
   "source": [
    "subset_df['sys_avg/total_model_size'].unique()"
   ],
   "metadata": {
    "collapsed": false,
    "ExecuteTime": {
     "start_time": "2023-04-03T17:20:41.553214Z",
     "end_time": "2023-04-03T17:20:41.625275Z"
    }
   }
  },
  {
   "cell_type": "code",
   "execution_count": 5,
   "outputs": [
    {
     "name": "stdout",
     "output_type": "stream",
     "text": [
      "['sys_avg/global_convergence_time_minutes', 'sys_avg/total_model_size', 'sys_avg/fl_end_time_minutes', 'sys_avg/total_flops', 'sys_avg/local_convergence_time_minutes', 'sys_avg/local_convergence_round', 'sys_avg/global_convergence_round', 'sys_avg/total_upload_bytes', 'sys_avg/total_download_bytes']\n"
     ]
    }
   ],
   "source": [
    "## get best runs for each group\n",
    "# regardless of finetuning\n",
    "id_columns = ['dataset', 'method']\n",
    "metrics = [name for name in subset_df.columns if re.search('^sys', name)]\n",
    "print(metrics)\n",
    "object_metrics= [\n",
    "    name for name, types in zip(subset_df.columns, subset_df.dtypes)\n",
    "    if re.search('^sys', name)\n",
    "    and types == 'object'\n",
    "]\n",
    "\n",
    "float_df = subset_df.loc[subset_df.finetune == 0]\n",
    "float_df = float_df[id_columns + metrics]\n",
    "float_df[object_metrics] = float_df[object_metrics].applymap(convert_SI).apply(pd.to_numeric)\n",
    "float_df['sys_avg/total_bytes'] = float_df['sys_avg/total_download_bytes'] \\\n",
    "                          + float_df['sys_avg/total_upload_bytes']\n"
   ],
   "metadata": {
    "collapsed": false,
    "ExecuteTime": {
     "start_time": "2023-04-03T17:20:41.589349Z",
     "end_time": "2023-04-03T17:20:41.682830Z"
    }
   }
  },
  {
   "cell_type": "code",
   "execution_count": 6,
   "outputs": [
    {
     "data": {
      "text/plain": "                     sys_avg/global_convergence_round  \\\ndataset      method                                     \nfemnist--s02 ditto                         195.161290   \n             exact                         142.000000   \n             fedavg                        101.000000   \n             fedbn                         450.000000   \n             fedem                         213.333333   \n\n                     sys_avg/global_convergence_time_minutes  \\\ndataset      method                                            \nfemnist--s02 ditto                                 44.421018   \n             exact                                 22.467354   \n             fedavg                                13.829542   \n             fedbn                                 23.969965   \n             fedem                                117.686957   \n\n                     sys_avg/total_bytes  sys_avg/total_flops  \ndataset      method                                            \nfemnist--s02 ditto          1.385956e+07         3.349287e+12  \n             exact          8.720425e+06         2.506085e+12  \n             fedavg         7.401090e+06         1.965300e+12  \n             fedbn          1.782730e+07         2.701800e+12  \n             fedem          3.126813e+07         5.058616e+13  ",
      "text/html": "<div>\n<style scoped>\n    .dataframe tbody tr th:only-of-type {\n        vertical-align: middle;\n    }\n\n    .dataframe tbody tr th {\n        vertical-align: top;\n    }\n\n    .dataframe thead th {\n        text-align: right;\n    }\n</style>\n<table border=\"1\" class=\"dataframe\">\n  <thead>\n    <tr style=\"text-align: right;\">\n      <th></th>\n      <th></th>\n      <th>sys_avg/global_convergence_round</th>\n      <th>sys_avg/global_convergence_time_minutes</th>\n      <th>sys_avg/total_bytes</th>\n      <th>sys_avg/total_flops</th>\n    </tr>\n    <tr>\n      <th>dataset</th>\n      <th>method</th>\n      <th></th>\n      <th></th>\n      <th></th>\n      <th></th>\n    </tr>\n  </thead>\n  <tbody>\n    <tr>\n      <th rowspan=\"5\" valign=\"top\">femnist--s02</th>\n      <th>ditto</th>\n      <td>195.161290</td>\n      <td>44.421018</td>\n      <td>1.385956e+07</td>\n      <td>3.349287e+12</td>\n    </tr>\n    <tr>\n      <th>exact</th>\n      <td>142.000000</td>\n      <td>22.467354</td>\n      <td>8.720425e+06</td>\n      <td>2.506085e+12</td>\n    </tr>\n    <tr>\n      <th>fedavg</th>\n      <td>101.000000</td>\n      <td>13.829542</td>\n      <td>7.401090e+06</td>\n      <td>1.965300e+12</td>\n    </tr>\n    <tr>\n      <th>fedbn</th>\n      <td>450.000000</td>\n      <td>23.969965</td>\n      <td>1.782730e+07</td>\n      <td>2.701800e+12</td>\n    </tr>\n    <tr>\n      <th>fedem</th>\n      <td>213.333333</td>\n      <td>117.686957</td>\n      <td>3.126813e+07</td>\n      <td>5.058616e+13</td>\n    </tr>\n  </tbody>\n</table>\n</div>"
     },
     "execution_count": 6,
     "metadata": {},
     "output_type": "execute_result"
    }
   ],
   "source": [
    "sub_metrics = [\n",
    "    'sys_avg/global_convergence_round',\n",
    "    'sys_avg/global_convergence_time_minutes',\n",
    "    'sys_avg/total_bytes',\n",
    "    'sys_avg/total_flops'\n",
    "]\n",
    "avg_runs = float_df.groupby(id_columns)[sub_metrics].mean()\n",
    "avg_runs"
   ],
   "metadata": {
    "collapsed": false,
    "ExecuteTime": {
     "start_time": "2023-04-03T17:20:41.646379Z",
     "end_time": "2023-04-03T17:20:41.712581Z"
    }
   }
  }
 ],
 "metadata": {
  "kernelspec": {
   "display_name": "Python 3",
   "language": "python",
   "name": "python3"
  },
  "language_info": {
   "codemirror_mode": {
    "name": "ipython",
    "version": 2
   },
   "file_extension": ".py",
   "mimetype": "text/x-python",
   "name": "python",
   "nbconvert_exporter": "python",
   "pygments_lexer": "ipython2",
   "version": "2.7.6"
  }
 },
 "nbformat": 4,
 "nbformat_minor": 0
}
